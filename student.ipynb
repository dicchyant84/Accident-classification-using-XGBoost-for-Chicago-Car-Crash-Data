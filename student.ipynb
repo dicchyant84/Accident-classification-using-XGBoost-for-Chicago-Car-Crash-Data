{
 "cells": [
  {
   "cell_type": "markdown",
   "metadata": {},
   "source": [
    "## Final Project Submission\n",
    "\n",
    "Please fill out:\n",
    "* Student name: Dicchyant Gurung\n",
    "* Student pace: Self paced \n",
    "* Scheduled project review date/time: 5/30/2021\n",
    "* Instructor name: Jeff Herman\n",
    "* Blog post URL:https://dicchyanttamu.wixsite.com/data/post/line-graph-visualization\n"
   ]
  },
  {
   "cell_type": "markdown",
   "metadata": {},
   "source": [
    "### Business Case"
   ]
  },
  {
   "cell_type": "markdown",
   "metadata": {},
   "source": [
    "The Vehicle Safety Board is looking to reduce the number of accidents in the City of Chicago. Utilizing the car crash data received from the Chicago Data Portal, we will perform some meaningful EDA and provide recommendations to the Vehicle Safety Board.\n",
    "\n",
    "Firstly, we will create a classifier to categorize the accidents in two main cateogories:\n",
    "\n",
    "**1. Unintentional:** These are events or instances where the driver was unaware of the possibility of an accident.\n",
    "\n",
    "**2. Intentional:** These are events or instances where the driver was fully aware of the possibility of an accident.\n",
    "\n",
    "Furthermore, we will be looking at the following three characterstics to pin-point areas for improvement and come up with actionable steps that will help reduce the number of accidents in the City of Chicago.\n",
    "\n",
    "**1. Identify high-density areas of car crash in Chicago**\n",
    "\n",
    "**2. Analyze control failures to identify opportunities for improvement**\n",
    "\n",
    "**3. Check for trends in the time of crash to relocate resources appropriately**"
   ]
  },
  {
   "cell_type": "markdown",
   "metadata": {},
   "source": [
    "### Import relevant packages"
   ]
  },
  {
   "cell_type": "code",
   "execution_count": 1,
   "metadata": {},
   "outputs": [],
   "source": [
    "import pandas as pd\n",
    "import numpy as np\n",
    "from sklearn.preprocessing import StandardScaler\n",
    "from sklearn.model_selection import train_test_split, GridSearchCV\n",
    "from sklearn.tree import DecisionTreeClassifier, plot_tree \n",
    "from sklearn.neighbors import KNeighborsClassifier\n",
    "from sklearn.svm import LinearSVC\n",
    "from sklearn.ensemble import RandomForestClassifier, AdaBoostClassifier, GradientBoostingClassifier\n",
    "from sklearn.pipeline import Pipeline\n",
    "from sklearn.metrics import accuracy_score, f1_score, precision_score, recall_score, auc, roc_curve, roc_auc_score, \\\n",
    "mean_squared_error, confusion_matrix, plot_confusion_matrix, classification_report\n",
    "from sklearn.feature_selection import SelectFromModel \n",
    "from sklearn.decomposition import PCA\n",
    "import xgboost as xgb\n",
    "\n",
    "import matplotlib.pyplot as plt\n",
    "%matplotlib inline\n",
    "import seaborn as sns\n",
    "\n",
    "import warnings\n",
    "warnings.filterwarnings('ignore')"
   ]
  },
  {
   "cell_type": "markdown",
   "metadata": {},
   "source": [
    "### Load the data"
   ]
  },
  {
   "cell_type": "code",
   "execution_count": 2,
   "metadata": {},
   "outputs": [],
   "source": [
    "df_raw_crashes = pd.read_csv(r\"Traffic_Crashes_-_Crashes.csv\")"
   ]
  },
  {
   "cell_type": "code",
   "execution_count": 3,
   "metadata": {},
   "outputs": [],
   "source": [
    "df_raw_vehicles = pd.read_csv(r\"Traffic_Crashes_-_Vehicles.csv\", dtype='unicode')"
   ]
  },
  {
   "cell_type": "code",
   "execution_count": 4,
   "metadata": {},
   "outputs": [],
   "source": [
    "df_raw_people = pd.read_csv(r\"Traffic_Crashes_-_People.csv\", dtype='unicode')"
   ]
  },
  {
   "cell_type": "markdown",
   "metadata": {},
   "source": [
    "### Clean the Data"
   ]
  },
  {
   "cell_type": "markdown",
   "metadata": {},
   "source": [
    "#### 1. Traffic Crashes Dataset"
   ]
  },
  {
   "cell_type": "code",
   "execution_count": 5,
   "metadata": {},
   "outputs": [
    {
     "data": {
      "text/html": [
       "<div>\n",
       "<style scoped>\n",
       "    .dataframe tbody tr th:only-of-type {\n",
       "        vertical-align: middle;\n",
       "    }\n",
       "\n",
       "    .dataframe tbody tr th {\n",
       "        vertical-align: top;\n",
       "    }\n",
       "\n",
       "    .dataframe thead th {\n",
       "        text-align: right;\n",
       "    }\n",
       "</style>\n",
       "<table border=\"1\" class=\"dataframe\">\n",
       "  <thead>\n",
       "    <tr style=\"text-align: right;\">\n",
       "      <th></th>\n",
       "      <th>CRASH_RECORD_ID</th>\n",
       "      <th>RD_NO</th>\n",
       "      <th>CRASH_DATE_EST_I</th>\n",
       "      <th>CRASH_DATE</th>\n",
       "      <th>POSTED_SPEED_LIMIT</th>\n",
       "      <th>TRAFFIC_CONTROL_DEVICE</th>\n",
       "      <th>DEVICE_CONDITION</th>\n",
       "      <th>WEATHER_CONDITION</th>\n",
       "      <th>LIGHTING_CONDITION</th>\n",
       "      <th>FIRST_CRASH_TYPE</th>\n",
       "      <th>...</th>\n",
       "      <th>INJURIES_NON_INCAPACITATING</th>\n",
       "      <th>INJURIES_REPORTED_NOT_EVIDENT</th>\n",
       "      <th>INJURIES_NO_INDICATION</th>\n",
       "      <th>INJURIES_UNKNOWN</th>\n",
       "      <th>CRASH_HOUR</th>\n",
       "      <th>CRASH_DAY_OF_WEEK</th>\n",
       "      <th>CRASH_MONTH</th>\n",
       "      <th>LATITUDE</th>\n",
       "      <th>LONGITUDE</th>\n",
       "      <th>LOCATION</th>\n",
       "    </tr>\n",
       "  </thead>\n",
       "  <tbody>\n",
       "    <tr>\n",
       "      <th>0</th>\n",
       "      <td>4fd0a3e0897b3335b94cd8d5b2d2b350eb691add56c62d...</td>\n",
       "      <td>JC343143</td>\n",
       "      <td>NaN</td>\n",
       "      <td>07/10/2019 05:56:00 PM</td>\n",
       "      <td>35</td>\n",
       "      <td>NO CONTROLS</td>\n",
       "      <td>NO CONTROLS</td>\n",
       "      <td>CLEAR</td>\n",
       "      <td>DAYLIGHT</td>\n",
       "      <td>TURNING</td>\n",
       "      <td>...</td>\n",
       "      <td>0.0</td>\n",
       "      <td>0.0</td>\n",
       "      <td>3.0</td>\n",
       "      <td>0.0</td>\n",
       "      <td>17</td>\n",
       "      <td>4</td>\n",
       "      <td>7</td>\n",
       "      <td>41.919664</td>\n",
       "      <td>-87.773288</td>\n",
       "      <td>POINT (-87.773287883007 41.919663832993)</td>\n",
       "    </tr>\n",
       "    <tr>\n",
       "      <th>1</th>\n",
       "      <td>009e9e67203442370272e1a13d6ee51a4155dac65e583d...</td>\n",
       "      <td>JA329216</td>\n",
       "      <td>NaN</td>\n",
       "      <td>06/30/2017 04:00:00 PM</td>\n",
       "      <td>35</td>\n",
       "      <td>STOP SIGN/FLASHER</td>\n",
       "      <td>FUNCTIONING PROPERLY</td>\n",
       "      <td>CLEAR</td>\n",
       "      <td>DAYLIGHT</td>\n",
       "      <td>TURNING</td>\n",
       "      <td>...</td>\n",
       "      <td>0.0</td>\n",
       "      <td>0.0</td>\n",
       "      <td>3.0</td>\n",
       "      <td>0.0</td>\n",
       "      <td>16</td>\n",
       "      <td>6</td>\n",
       "      <td>6</td>\n",
       "      <td>41.741804</td>\n",
       "      <td>-87.740954</td>\n",
       "      <td>POINT (-87.740953581987 41.741803598989)</td>\n",
       "    </tr>\n",
       "    <tr>\n",
       "      <th>2</th>\n",
       "      <td>ee9283eff3a55ac50ee58f3d9528ce1d689b1c4180b4c4...</td>\n",
       "      <td>JD292400</td>\n",
       "      <td>NaN</td>\n",
       "      <td>07/10/2020 10:25:00 AM</td>\n",
       "      <td>30</td>\n",
       "      <td>TRAFFIC SIGNAL</td>\n",
       "      <td>FUNCTIONING PROPERLY</td>\n",
       "      <td>CLEAR</td>\n",
       "      <td>DAYLIGHT</td>\n",
       "      <td>REAR END</td>\n",
       "      <td>...</td>\n",
       "      <td>0.0</td>\n",
       "      <td>0.0</td>\n",
       "      <td>3.0</td>\n",
       "      <td>0.0</td>\n",
       "      <td>10</td>\n",
       "      <td>6</td>\n",
       "      <td>7</td>\n",
       "      <td>41.773456</td>\n",
       "      <td>-87.585022</td>\n",
       "      <td>POINT (-87.585022352022 41.773455972008)</td>\n",
       "    </tr>\n",
       "    <tr>\n",
       "      <th>3</th>\n",
       "      <td>f8960f698e870ebdc60b521b2a141a5395556bc3704191...</td>\n",
       "      <td>JD293602</td>\n",
       "      <td>NaN</td>\n",
       "      <td>07/11/2020 01:00:00 AM</td>\n",
       "      <td>30</td>\n",
       "      <td>NO CONTROLS</td>\n",
       "      <td>NO CONTROLS</td>\n",
       "      <td>CLEAR</td>\n",
       "      <td>DARKNESS</td>\n",
       "      <td>PARKED MOTOR VEHICLE</td>\n",
       "      <td>...</td>\n",
       "      <td>0.0</td>\n",
       "      <td>0.0</td>\n",
       "      <td>3.0</td>\n",
       "      <td>0.0</td>\n",
       "      <td>1</td>\n",
       "      <td>7</td>\n",
       "      <td>7</td>\n",
       "      <td>41.802119</td>\n",
       "      <td>-87.622115</td>\n",
       "      <td>POINT (-87.622114914961 41.802118543011)</td>\n",
       "    </tr>\n",
       "    <tr>\n",
       "      <th>4</th>\n",
       "      <td>8eaa2678d1a127804ee9b8c35ddf7d63d913c14eda61d6...</td>\n",
       "      <td>JD290451</td>\n",
       "      <td>NaN</td>\n",
       "      <td>07/08/2020 02:00:00 PM</td>\n",
       "      <td>20</td>\n",
       "      <td>NO CONTROLS</td>\n",
       "      <td>NO CONTROLS</td>\n",
       "      <td>CLEAR</td>\n",
       "      <td>DAYLIGHT</td>\n",
       "      <td>PARKED MOTOR VEHICLE</td>\n",
       "      <td>...</td>\n",
       "      <td>0.0</td>\n",
       "      <td>0.0</td>\n",
       "      <td>1.0</td>\n",
       "      <td>0.0</td>\n",
       "      <td>14</td>\n",
       "      <td>4</td>\n",
       "      <td>7</td>\n",
       "      <td>NaN</td>\n",
       "      <td>NaN</td>\n",
       "      <td>NaN</td>\n",
       "    </tr>\n",
       "  </tbody>\n",
       "</table>\n",
       "<p>5 rows × 49 columns</p>\n",
       "</div>"
      ],
      "text/plain": [
       "                                     CRASH_RECORD_ID     RD_NO  \\\n",
       "0  4fd0a3e0897b3335b94cd8d5b2d2b350eb691add56c62d...  JC343143   \n",
       "1  009e9e67203442370272e1a13d6ee51a4155dac65e583d...  JA329216   \n",
       "2  ee9283eff3a55ac50ee58f3d9528ce1d689b1c4180b4c4...  JD292400   \n",
       "3  f8960f698e870ebdc60b521b2a141a5395556bc3704191...  JD293602   \n",
       "4  8eaa2678d1a127804ee9b8c35ddf7d63d913c14eda61d6...  JD290451   \n",
       "\n",
       "  CRASH_DATE_EST_I              CRASH_DATE  POSTED_SPEED_LIMIT  \\\n",
       "0              NaN  07/10/2019 05:56:00 PM                  35   \n",
       "1              NaN  06/30/2017 04:00:00 PM                  35   \n",
       "2              NaN  07/10/2020 10:25:00 AM                  30   \n",
       "3              NaN  07/11/2020 01:00:00 AM                  30   \n",
       "4              NaN  07/08/2020 02:00:00 PM                  20   \n",
       "\n",
       "  TRAFFIC_CONTROL_DEVICE      DEVICE_CONDITION WEATHER_CONDITION  \\\n",
       "0            NO CONTROLS           NO CONTROLS             CLEAR   \n",
       "1      STOP SIGN/FLASHER  FUNCTIONING PROPERLY             CLEAR   \n",
       "2         TRAFFIC SIGNAL  FUNCTIONING PROPERLY             CLEAR   \n",
       "3            NO CONTROLS           NO CONTROLS             CLEAR   \n",
       "4            NO CONTROLS           NO CONTROLS             CLEAR   \n",
       "\n",
       "  LIGHTING_CONDITION      FIRST_CRASH_TYPE  ... INJURIES_NON_INCAPACITATING  \\\n",
       "0           DAYLIGHT               TURNING  ...                         0.0   \n",
       "1           DAYLIGHT               TURNING  ...                         0.0   \n",
       "2           DAYLIGHT              REAR END  ...                         0.0   \n",
       "3           DARKNESS  PARKED MOTOR VEHICLE  ...                         0.0   \n",
       "4           DAYLIGHT  PARKED MOTOR VEHICLE  ...                         0.0   \n",
       "\n",
       "   INJURIES_REPORTED_NOT_EVIDENT INJURIES_NO_INDICATION INJURIES_UNKNOWN  \\\n",
       "0                            0.0                    3.0              0.0   \n",
       "1                            0.0                    3.0              0.0   \n",
       "2                            0.0                    3.0              0.0   \n",
       "3                            0.0                    3.0              0.0   \n",
       "4                            0.0                    1.0              0.0   \n",
       "\n",
       "  CRASH_HOUR CRASH_DAY_OF_WEEK CRASH_MONTH   LATITUDE  LONGITUDE  \\\n",
       "0         17                 4           7  41.919664 -87.773288   \n",
       "1         16                 6           6  41.741804 -87.740954   \n",
       "2         10                 6           7  41.773456 -87.585022   \n",
       "3          1                 7           7  41.802119 -87.622115   \n",
       "4         14                 4           7        NaN        NaN   \n",
       "\n",
       "                                   LOCATION  \n",
       "0  POINT (-87.773287883007 41.919663832993)  \n",
       "1  POINT (-87.740953581987 41.741803598989)  \n",
       "2  POINT (-87.585022352022 41.773455972008)  \n",
       "3  POINT (-87.622114914961 41.802118543011)  \n",
       "4                                       NaN  \n",
       "\n",
       "[5 rows x 49 columns]"
      ]
     },
     "execution_count": 5,
     "metadata": {},
     "output_type": "execute_result"
    }
   ],
   "source": [
    "df_raw_crashes.head()"
   ]
  },
  {
   "cell_type": "code",
   "execution_count": 6,
   "metadata": {},
   "outputs": [
    {
     "data": {
      "text/plain": [
       "Index(['CRASH_RECORD_ID', 'RD_NO', 'CRASH_DATE_EST_I', 'CRASH_DATE',\n",
       "       'POSTED_SPEED_LIMIT', 'TRAFFIC_CONTROL_DEVICE', 'DEVICE_CONDITION',\n",
       "       'WEATHER_CONDITION', 'LIGHTING_CONDITION', 'FIRST_CRASH_TYPE',\n",
       "       'TRAFFICWAY_TYPE', 'LANE_CNT', 'ALIGNMENT', 'ROADWAY_SURFACE_COND',\n",
       "       'ROAD_DEFECT', 'REPORT_TYPE', 'CRASH_TYPE', 'INTERSECTION_RELATED_I',\n",
       "       'NOT_RIGHT_OF_WAY_I', 'HIT_AND_RUN_I', 'DAMAGE', 'DATE_POLICE_NOTIFIED',\n",
       "       'PRIM_CONTRIBUTORY_CAUSE', 'SEC_CONTRIBUTORY_CAUSE', 'STREET_NO',\n",
       "       'STREET_DIRECTION', 'STREET_NAME', 'BEAT_OF_OCCURRENCE',\n",
       "       'PHOTOS_TAKEN_I', 'STATEMENTS_TAKEN_I', 'DOORING_I', 'WORK_ZONE_I',\n",
       "       'WORK_ZONE_TYPE', 'WORKERS_PRESENT_I', 'NUM_UNITS',\n",
       "       'MOST_SEVERE_INJURY', 'INJURIES_TOTAL', 'INJURIES_FATAL',\n",
       "       'INJURIES_INCAPACITATING', 'INJURIES_NON_INCAPACITATING',\n",
       "       'INJURIES_REPORTED_NOT_EVIDENT', 'INJURIES_NO_INDICATION',\n",
       "       'INJURIES_UNKNOWN', 'CRASH_HOUR', 'CRASH_DAY_OF_WEEK', 'CRASH_MONTH',\n",
       "       'LATITUDE', 'LONGITUDE', 'LOCATION'],\n",
       "      dtype='object')"
      ]
     },
     "execution_count": 6,
     "metadata": {},
     "output_type": "execute_result"
    }
   ],
   "source": [
    "df_raw_crashes.columns"
   ]
  },
  {
   "cell_type": "code",
   "execution_count": 7,
   "metadata": {},
   "outputs": [
    {
     "data": {
      "text/html": [
       "<div>\n",
       "<style scoped>\n",
       "    .dataframe tbody tr th:only-of-type {\n",
       "        vertical-align: middle;\n",
       "    }\n",
       "\n",
       "    .dataframe tbody tr th {\n",
       "        vertical-align: top;\n",
       "    }\n",
       "\n",
       "    .dataframe thead th {\n",
       "        text-align: right;\n",
       "    }\n",
       "</style>\n",
       "<table border=\"1\" class=\"dataframe\">\n",
       "  <thead>\n",
       "    <tr style=\"text-align: right;\">\n",
       "      <th></th>\n",
       "      <th>STREET_DIRECTION</th>\n",
       "      <th>STREET_NAME</th>\n",
       "      <th>BEAT_OF_OCCURRENCE</th>\n",
       "      <th>PHOTOS_TAKEN_I</th>\n",
       "      <th>STATEMENTS_TAKEN_I</th>\n",
       "      <th>DOORING_I</th>\n",
       "      <th>WORK_ZONE_I</th>\n",
       "      <th>WORK_ZONE_TYPE</th>\n",
       "      <th>WORKERS_PRESENT_I</th>\n",
       "      <th>NUM_UNITS</th>\n",
       "      <th>...</th>\n",
       "      <th>INJURIES_NON_INCAPACITATING</th>\n",
       "      <th>INJURIES_REPORTED_NOT_EVIDENT</th>\n",
       "      <th>INJURIES_NO_INDICATION</th>\n",
       "      <th>INJURIES_UNKNOWN</th>\n",
       "      <th>CRASH_HOUR</th>\n",
       "      <th>CRASH_DAY_OF_WEEK</th>\n",
       "      <th>CRASH_MONTH</th>\n",
       "      <th>LATITUDE</th>\n",
       "      <th>LONGITUDE</th>\n",
       "      <th>LOCATION</th>\n",
       "    </tr>\n",
       "  </thead>\n",
       "  <tbody>\n",
       "    <tr>\n",
       "      <th>0</th>\n",
       "      <td>N</td>\n",
       "      <td>MARMORA AVE</td>\n",
       "      <td>2515.0</td>\n",
       "      <td>NaN</td>\n",
       "      <td>NaN</td>\n",
       "      <td>NaN</td>\n",
       "      <td>NaN</td>\n",
       "      <td>NaN</td>\n",
       "      <td>NaN</td>\n",
       "      <td>2</td>\n",
       "      <td>...</td>\n",
       "      <td>0.0</td>\n",
       "      <td>0.0</td>\n",
       "      <td>3.0</td>\n",
       "      <td>0.0</td>\n",
       "      <td>17</td>\n",
       "      <td>4</td>\n",
       "      <td>7</td>\n",
       "      <td>41.919664</td>\n",
       "      <td>-87.773288</td>\n",
       "      <td>POINT (-87.773287883007 41.919663832993)</td>\n",
       "    </tr>\n",
       "    <tr>\n",
       "      <th>1</th>\n",
       "      <td>S</td>\n",
       "      <td>CICERO AVE</td>\n",
       "      <td>834.0</td>\n",
       "      <td>NaN</td>\n",
       "      <td>NaN</td>\n",
       "      <td>NaN</td>\n",
       "      <td>NaN</td>\n",
       "      <td>NaN</td>\n",
       "      <td>NaN</td>\n",
       "      <td>2</td>\n",
       "      <td>...</td>\n",
       "      <td>0.0</td>\n",
       "      <td>0.0</td>\n",
       "      <td>3.0</td>\n",
       "      <td>0.0</td>\n",
       "      <td>16</td>\n",
       "      <td>6</td>\n",
       "      <td>6</td>\n",
       "      <td>41.741804</td>\n",
       "      <td>-87.740954</td>\n",
       "      <td>POINT (-87.740953581987 41.741803598989)</td>\n",
       "    </tr>\n",
       "    <tr>\n",
       "      <th>2</th>\n",
       "      <td>E</td>\n",
       "      <td>67TH ST</td>\n",
       "      <td>331.0</td>\n",
       "      <td>NaN</td>\n",
       "      <td>NaN</td>\n",
       "      <td>NaN</td>\n",
       "      <td>NaN</td>\n",
       "      <td>NaN</td>\n",
       "      <td>NaN</td>\n",
       "      <td>3</td>\n",
       "      <td>...</td>\n",
       "      <td>0.0</td>\n",
       "      <td>0.0</td>\n",
       "      <td>3.0</td>\n",
       "      <td>0.0</td>\n",
       "      <td>10</td>\n",
       "      <td>6</td>\n",
       "      <td>7</td>\n",
       "      <td>41.773456</td>\n",
       "      <td>-87.585022</td>\n",
       "      <td>POINT (-87.585022352022 41.773455972008)</td>\n",
       "    </tr>\n",
       "    <tr>\n",
       "      <th>3</th>\n",
       "      <td>E</td>\n",
       "      <td>51ST ST</td>\n",
       "      <td>224.0</td>\n",
       "      <td>NaN</td>\n",
       "      <td>NaN</td>\n",
       "      <td>NaN</td>\n",
       "      <td>NaN</td>\n",
       "      <td>NaN</td>\n",
       "      <td>NaN</td>\n",
       "      <td>2</td>\n",
       "      <td>...</td>\n",
       "      <td>0.0</td>\n",
       "      <td>0.0</td>\n",
       "      <td>3.0</td>\n",
       "      <td>0.0</td>\n",
       "      <td>1</td>\n",
       "      <td>7</td>\n",
       "      <td>7</td>\n",
       "      <td>41.802119</td>\n",
       "      <td>-87.622115</td>\n",
       "      <td>POINT (-87.622114914961 41.802118543011)</td>\n",
       "    </tr>\n",
       "    <tr>\n",
       "      <th>4</th>\n",
       "      <td>W</td>\n",
       "      <td>OHARE ST</td>\n",
       "      <td>1654.0</td>\n",
       "      <td>NaN</td>\n",
       "      <td>NaN</td>\n",
       "      <td>NaN</td>\n",
       "      <td>NaN</td>\n",
       "      <td>NaN</td>\n",
       "      <td>NaN</td>\n",
       "      <td>2</td>\n",
       "      <td>...</td>\n",
       "      <td>0.0</td>\n",
       "      <td>0.0</td>\n",
       "      <td>1.0</td>\n",
       "      <td>0.0</td>\n",
       "      <td>14</td>\n",
       "      <td>4</td>\n",
       "      <td>7</td>\n",
       "      <td>NaN</td>\n",
       "      <td>NaN</td>\n",
       "      <td>NaN</td>\n",
       "    </tr>\n",
       "  </tbody>\n",
       "</table>\n",
       "<p>5 rows × 24 columns</p>\n",
       "</div>"
      ],
      "text/plain": [
       "  STREET_DIRECTION  STREET_NAME  BEAT_OF_OCCURRENCE PHOTOS_TAKEN_I  \\\n",
       "0                N  MARMORA AVE              2515.0            NaN   \n",
       "1                S   CICERO AVE               834.0            NaN   \n",
       "2                E      67TH ST               331.0            NaN   \n",
       "3                E      51ST ST               224.0            NaN   \n",
       "4                W     OHARE ST              1654.0            NaN   \n",
       "\n",
       "  STATEMENTS_TAKEN_I DOORING_I WORK_ZONE_I WORK_ZONE_TYPE WORKERS_PRESENT_I  \\\n",
       "0                NaN       NaN         NaN            NaN               NaN   \n",
       "1                NaN       NaN         NaN            NaN               NaN   \n",
       "2                NaN       NaN         NaN            NaN               NaN   \n",
       "3                NaN       NaN         NaN            NaN               NaN   \n",
       "4                NaN       NaN         NaN            NaN               NaN   \n",
       "\n",
       "   NUM_UNITS  ... INJURIES_NON_INCAPACITATING  INJURIES_REPORTED_NOT_EVIDENT  \\\n",
       "0          2  ...                         0.0                            0.0   \n",
       "1          2  ...                         0.0                            0.0   \n",
       "2          3  ...                         0.0                            0.0   \n",
       "3          2  ...                         0.0                            0.0   \n",
       "4          2  ...                         0.0                            0.0   \n",
       "\n",
       "   INJURIES_NO_INDICATION  INJURIES_UNKNOWN  CRASH_HOUR  CRASH_DAY_OF_WEEK  \\\n",
       "0                     3.0               0.0          17                  4   \n",
       "1                     3.0               0.0          16                  6   \n",
       "2                     3.0               0.0          10                  6   \n",
       "3                     3.0               0.0           1                  7   \n",
       "4                     1.0               0.0          14                  4   \n",
       "\n",
       "   CRASH_MONTH   LATITUDE  LONGITUDE                                  LOCATION  \n",
       "0            7  41.919664 -87.773288  POINT (-87.773287883007 41.919663832993)  \n",
       "1            6  41.741804 -87.740954  POINT (-87.740953581987 41.741803598989)  \n",
       "2            7  41.773456 -87.585022  POINT (-87.585022352022 41.773455972008)  \n",
       "3            7  41.802119 -87.622115  POINT (-87.622114914961 41.802118543011)  \n",
       "4            7        NaN        NaN                                       NaN  \n",
       "\n",
       "[5 rows x 24 columns]"
      ]
     },
     "execution_count": 7,
     "metadata": {},
     "output_type": "execute_result"
    }
   ],
   "source": [
    "df_raw_crashes.iloc[:5,25:]"
   ]
  },
  {
   "cell_type": "markdown",
   "metadata": {},
   "source": [
    "Using some domain knowledge and relevance to the target variable i.e 'Contributory Cause', we have decided to remove the below columns."
   ]
  },
  {
   "cell_type": "code",
   "execution_count": 8,
   "metadata": {},
   "outputs": [],
   "source": [
    "columns_to_delete = ['RD_NO', 'CRASH_DATE_EST_I', 'CRASH_DATE','LANE_CNT','REPORT_TYPE','DATE_POLICE_NOTIFIED', \n",
    " 'SEC_CONTRIBUTORY_CAUSE','STREET_NO','STREET_DIRECTION', 'STREET_NAME','PHOTOS_TAKEN_I', 'STATEMENTS_TAKEN_I', 'BEAT_OF_OCCURRENCE', 'MOST_SEVERE_INJURY', 'INJURIES_TOTAL','INJURIES_FATAL',\n",
    "'INJURIES_INCAPACITATING', 'INJURIES_NON_INCAPACITATING', 'INJURIES_REPORTED_NOT_EVIDENT', 'INJURIES_NO_INDICATION',\n",
    "'INJURIES_UNKNOWN', 'LATITUDE', 'LONGITUDE']"
   ]
  },
  {
   "cell_type": "code",
   "execution_count": 9,
   "metadata": {},
   "outputs": [],
   "source": [
    "df_crashes_clean = df_raw_crashes.drop(columns_to_delete, axis=1).copy()"
   ]
  },
  {
   "cell_type": "code",
   "execution_count": 10,
   "metadata": {},
   "outputs": [
    {
     "name": "stdout",
     "output_type": "stream",
     "text": [
      "<class 'pandas.core.frame.DataFrame'>\n",
      "RangeIndex: 488290 entries, 0 to 488289\n",
      "Data columns (total 26 columns):\n",
      " #   Column                   Non-Null Count   Dtype \n",
      "---  ------                   --------------   ----- \n",
      " 0   CRASH_RECORD_ID          488290 non-null  object\n",
      " 1   POSTED_SPEED_LIMIT       488290 non-null  int64 \n",
      " 2   TRAFFIC_CONTROL_DEVICE   488290 non-null  object\n",
      " 3   DEVICE_CONDITION         488290 non-null  object\n",
      " 4   WEATHER_CONDITION        488290 non-null  object\n",
      " 5   LIGHTING_CONDITION       488290 non-null  object\n",
      " 6   FIRST_CRASH_TYPE         488290 non-null  object\n",
      " 7   TRAFFICWAY_TYPE          488290 non-null  object\n",
      " 8   ALIGNMENT                488290 non-null  object\n",
      " 9   ROADWAY_SURFACE_COND     488290 non-null  object\n",
      " 10  ROAD_DEFECT              488290 non-null  object\n",
      " 11  CRASH_TYPE               488290 non-null  object\n",
      " 12  INTERSECTION_RELATED_I   110179 non-null  object\n",
      " 13  NOT_RIGHT_OF_WAY_I       23000 non-null   object\n",
      " 14  HIT_AND_RUN_I            143952 non-null  object\n",
      " 15  DAMAGE                   488290 non-null  object\n",
      " 16  PRIM_CONTRIBUTORY_CAUSE  488290 non-null  object\n",
      " 17  DOORING_I                1558 non-null    object\n",
      " 18  WORK_ZONE_I              3140 non-null    object\n",
      " 19  WORK_ZONE_TYPE           2475 non-null    object\n",
      " 20  WORKERS_PRESENT_I        752 non-null     object\n",
      " 21  NUM_UNITS                488290 non-null  int64 \n",
      " 22  CRASH_HOUR               488290 non-null  int64 \n",
      " 23  CRASH_DAY_OF_WEEK        488290 non-null  int64 \n",
      " 24  CRASH_MONTH              488290 non-null  int64 \n",
      " 25  LOCATION                 485575 non-null  object\n",
      "dtypes: int64(5), object(21)\n",
      "memory usage: 96.9+ MB\n"
     ]
    }
   ],
   "source": [
    "df_crashes_clean.info()"
   ]
  },
  {
   "cell_type": "code",
   "execution_count": 11,
   "metadata": {},
   "outputs": [
    {
     "data": {
      "text/plain": [
       "CRASH_RECORD_ID                 0\n",
       "POSTED_SPEED_LIMIT              0\n",
       "TRAFFIC_CONTROL_DEVICE          0\n",
       "DEVICE_CONDITION                0\n",
       "WEATHER_CONDITION               0\n",
       "LIGHTING_CONDITION              0\n",
       "FIRST_CRASH_TYPE                0\n",
       "TRAFFICWAY_TYPE                 0\n",
       "ALIGNMENT                       0\n",
       "ROADWAY_SURFACE_COND            0\n",
       "ROAD_DEFECT                     0\n",
       "CRASH_TYPE                      0\n",
       "INTERSECTION_RELATED_I     378111\n",
       "NOT_RIGHT_OF_WAY_I         465290\n",
       "HIT_AND_RUN_I              344338\n",
       "DAMAGE                          0\n",
       "PRIM_CONTRIBUTORY_CAUSE         0\n",
       "DOORING_I                  486732\n",
       "WORK_ZONE_I                485150\n",
       "WORK_ZONE_TYPE             485815\n",
       "WORKERS_PRESENT_I          487538\n",
       "NUM_UNITS                       0\n",
       "CRASH_HOUR                      0\n",
       "CRASH_DAY_OF_WEEK               0\n",
       "CRASH_MONTH                     0\n",
       "LOCATION                     2715\n",
       "dtype: int64"
      ]
     },
     "execution_count": 11,
     "metadata": {},
     "output_type": "execute_result"
    }
   ],
   "source": [
    "df_crashes_clean.isnull().sum()"
   ]
  },
  {
   "cell_type": "code",
   "execution_count": 12,
   "metadata": {},
   "outputs": [
    {
     "data": {
      "text/plain": [
       "(488290, 26)"
      ]
     },
     "execution_count": 12,
     "metadata": {},
     "output_type": "execute_result"
    }
   ],
   "source": [
    "df_crashes_clean.shape"
   ]
  },
  {
   "cell_type": "markdown",
   "metadata": {},
   "source": [
    "Compared to total values of 488,290, we have majority of values missing for 'Intersection_related', 'Not_right_of_way', 'Hit_and_run', 'Dooring', 'Work_zone', 'Work_Zone_Type', and 'Workers_Present'. We will remove these as well."
   ]
  },
  {
   "cell_type": "code",
   "execution_count": 13,
   "metadata": {},
   "outputs": [],
   "source": [
    "df_crashes_clean.drop(labels=['INTERSECTION_RELATED_I', 'NOT_RIGHT_OF_WAY_I','HIT_AND_RUN_I','DOORING_I','WORK_ZONE_I','WORK_ZONE_TYPE', 'WORKERS_PRESENT_I'], axis=1, inplace=True)"
   ]
  },
  {
   "cell_type": "code",
   "execution_count": 14,
   "metadata": {},
   "outputs": [
    {
     "data": {
      "text/plain": [
       "CRASH_RECORD_ID               0\n",
       "POSTED_SPEED_LIMIT            0\n",
       "TRAFFIC_CONTROL_DEVICE        0\n",
       "DEVICE_CONDITION              0\n",
       "WEATHER_CONDITION             0\n",
       "LIGHTING_CONDITION            0\n",
       "FIRST_CRASH_TYPE              0\n",
       "TRAFFICWAY_TYPE               0\n",
       "ALIGNMENT                     0\n",
       "ROADWAY_SURFACE_COND          0\n",
       "ROAD_DEFECT                   0\n",
       "CRASH_TYPE                    0\n",
       "DAMAGE                        0\n",
       "PRIM_CONTRIBUTORY_CAUSE       0\n",
       "NUM_UNITS                     0\n",
       "CRASH_HOUR                    0\n",
       "CRASH_DAY_OF_WEEK             0\n",
       "CRASH_MONTH                   0\n",
       "LOCATION                   2715\n",
       "dtype: int64"
      ]
     },
     "execution_count": 14,
     "metadata": {},
     "output_type": "execute_result"
    }
   ],
   "source": [
    "df_crashes_clean.isnull().sum()"
   ]
  },
  {
   "cell_type": "markdown",
   "metadata": {},
   "source": [
    "Drop all remaining null values"
   ]
  },
  {
   "cell_type": "code",
   "execution_count": 15,
   "metadata": {},
   "outputs": [],
   "source": [
    "df_crashes_clean.dropna(axis=0, inplace=True)"
   ]
  },
  {
   "cell_type": "code",
   "execution_count": 16,
   "metadata": {},
   "outputs": [
    {
     "data": {
      "text/plain": [
       "CRASH_RECORD_ID            0\n",
       "POSTED_SPEED_LIMIT         0\n",
       "TRAFFIC_CONTROL_DEVICE     0\n",
       "DEVICE_CONDITION           0\n",
       "WEATHER_CONDITION          0\n",
       "LIGHTING_CONDITION         0\n",
       "FIRST_CRASH_TYPE           0\n",
       "TRAFFICWAY_TYPE            0\n",
       "ALIGNMENT                  0\n",
       "ROADWAY_SURFACE_COND       0\n",
       "ROAD_DEFECT                0\n",
       "CRASH_TYPE                 0\n",
       "DAMAGE                     0\n",
       "PRIM_CONTRIBUTORY_CAUSE    0\n",
       "NUM_UNITS                  0\n",
       "CRASH_HOUR                 0\n",
       "CRASH_DAY_OF_WEEK          0\n",
       "CRASH_MONTH                0\n",
       "LOCATION                   0\n",
       "dtype: int64"
      ]
     },
     "execution_count": 16,
     "metadata": {},
     "output_type": "execute_result"
    }
   ],
   "source": [
    "df_crashes_clean.isnull().sum()"
   ]
  },
  {
   "cell_type": "code",
   "execution_count": 17,
   "metadata": {},
   "outputs": [
    {
     "data": {
      "text/plain": [
       "(485575, 19)"
      ]
     },
     "execution_count": 17,
     "metadata": {},
     "output_type": "execute_result"
    }
   ],
   "source": [
    "df_crashes_clean.shape"
   ]
  },
  {
   "cell_type": "code",
   "execution_count": 18,
   "metadata": {},
   "outputs": [
    {
     "data": {
      "text/html": [
       "<div>\n",
       "<style scoped>\n",
       "    .dataframe tbody tr th:only-of-type {\n",
       "        vertical-align: middle;\n",
       "    }\n",
       "\n",
       "    .dataframe tbody tr th {\n",
       "        vertical-align: top;\n",
       "    }\n",
       "\n",
       "    .dataframe thead th {\n",
       "        text-align: right;\n",
       "    }\n",
       "</style>\n",
       "<table border=\"1\" class=\"dataframe\">\n",
       "  <thead>\n",
       "    <tr style=\"text-align: right;\">\n",
       "      <th></th>\n",
       "      <th>CRASH_RECORD_ID</th>\n",
       "      <th>POSTED_SPEED_LIMIT</th>\n",
       "      <th>TRAFFIC_CONTROL_DEVICE</th>\n",
       "      <th>DEVICE_CONDITION</th>\n",
       "      <th>WEATHER_CONDITION</th>\n",
       "      <th>LIGHTING_CONDITION</th>\n",
       "      <th>FIRST_CRASH_TYPE</th>\n",
       "      <th>TRAFFICWAY_TYPE</th>\n",
       "      <th>ALIGNMENT</th>\n",
       "      <th>ROADWAY_SURFACE_COND</th>\n",
       "      <th>ROAD_DEFECT</th>\n",
       "      <th>CRASH_TYPE</th>\n",
       "      <th>DAMAGE</th>\n",
       "      <th>PRIM_CONTRIBUTORY_CAUSE</th>\n",
       "      <th>NUM_UNITS</th>\n",
       "      <th>CRASH_HOUR</th>\n",
       "      <th>CRASH_DAY_OF_WEEK</th>\n",
       "      <th>CRASH_MONTH</th>\n",
       "      <th>LOCATION</th>\n",
       "    </tr>\n",
       "  </thead>\n",
       "  <tbody>\n",
       "    <tr>\n",
       "      <th>0</th>\n",
       "      <td>4fd0a3e0897b3335b94cd8d5b2d2b350eb691add56c62d...</td>\n",
       "      <td>35</td>\n",
       "      <td>NO CONTROLS</td>\n",
       "      <td>NO CONTROLS</td>\n",
       "      <td>CLEAR</td>\n",
       "      <td>DAYLIGHT</td>\n",
       "      <td>TURNING</td>\n",
       "      <td>ONE-WAY</td>\n",
       "      <td>STRAIGHT AND LEVEL</td>\n",
       "      <td>DRY</td>\n",
       "      <td>NO DEFECTS</td>\n",
       "      <td>NO INJURY / DRIVE AWAY</td>\n",
       "      <td>OVER $1,500</td>\n",
       "      <td>IMPROPER BACKING</td>\n",
       "      <td>2</td>\n",
       "      <td>17</td>\n",
       "      <td>4</td>\n",
       "      <td>7</td>\n",
       "      <td>POINT (-87.773287883007 41.919663832993)</td>\n",
       "    </tr>\n",
       "    <tr>\n",
       "      <th>1</th>\n",
       "      <td>009e9e67203442370272e1a13d6ee51a4155dac65e583d...</td>\n",
       "      <td>35</td>\n",
       "      <td>STOP SIGN/FLASHER</td>\n",
       "      <td>FUNCTIONING PROPERLY</td>\n",
       "      <td>CLEAR</td>\n",
       "      <td>DAYLIGHT</td>\n",
       "      <td>TURNING</td>\n",
       "      <td>NOT DIVIDED</td>\n",
       "      <td>STRAIGHT AND LEVEL</td>\n",
       "      <td>DRY</td>\n",
       "      <td>NO DEFECTS</td>\n",
       "      <td>INJURY AND / OR TOW DUE TO CRASH</td>\n",
       "      <td>OVER $1,500</td>\n",
       "      <td>FAILING TO YIELD RIGHT-OF-WAY</td>\n",
       "      <td>2</td>\n",
       "      <td>16</td>\n",
       "      <td>6</td>\n",
       "      <td>6</td>\n",
       "      <td>POINT (-87.740953581987 41.741803598989)</td>\n",
       "    </tr>\n",
       "    <tr>\n",
       "      <th>2</th>\n",
       "      <td>ee9283eff3a55ac50ee58f3d9528ce1d689b1c4180b4c4...</td>\n",
       "      <td>30</td>\n",
       "      <td>TRAFFIC SIGNAL</td>\n",
       "      <td>FUNCTIONING PROPERLY</td>\n",
       "      <td>CLEAR</td>\n",
       "      <td>DAYLIGHT</td>\n",
       "      <td>REAR END</td>\n",
       "      <td>FOUR WAY</td>\n",
       "      <td>STRAIGHT AND LEVEL</td>\n",
       "      <td>DRY</td>\n",
       "      <td>NO DEFECTS</td>\n",
       "      <td>NO INJURY / DRIVE AWAY</td>\n",
       "      <td>OVER $1,500</td>\n",
       "      <td>FAILING TO YIELD RIGHT-OF-WAY</td>\n",
       "      <td>3</td>\n",
       "      <td>10</td>\n",
       "      <td>6</td>\n",
       "      <td>7</td>\n",
       "      <td>POINT (-87.585022352022 41.773455972008)</td>\n",
       "    </tr>\n",
       "    <tr>\n",
       "      <th>3</th>\n",
       "      <td>f8960f698e870ebdc60b521b2a141a5395556bc3704191...</td>\n",
       "      <td>30</td>\n",
       "      <td>NO CONTROLS</td>\n",
       "      <td>NO CONTROLS</td>\n",
       "      <td>CLEAR</td>\n",
       "      <td>DARKNESS</td>\n",
       "      <td>PARKED MOTOR VEHICLE</td>\n",
       "      <td>DIVIDED - W/MEDIAN (NOT RAISED)</td>\n",
       "      <td>STRAIGHT AND LEVEL</td>\n",
       "      <td>DRY</td>\n",
       "      <td>NO DEFECTS</td>\n",
       "      <td>NO INJURY / DRIVE AWAY</td>\n",
       "      <td>$500 OR LESS</td>\n",
       "      <td>UNABLE TO DETERMINE</td>\n",
       "      <td>2</td>\n",
       "      <td>1</td>\n",
       "      <td>7</td>\n",
       "      <td>7</td>\n",
       "      <td>POINT (-87.622114914961 41.802118543011)</td>\n",
       "    </tr>\n",
       "    <tr>\n",
       "      <th>5</th>\n",
       "      <td>00e47f189660cd8ba1e85fc63061bf1d8465184393f134...</td>\n",
       "      <td>30</td>\n",
       "      <td>TRAFFIC SIGNAL</td>\n",
       "      <td>FUNCTIONING PROPERLY</td>\n",
       "      <td>CLEAR</td>\n",
       "      <td>DARKNESS, LIGHTED ROAD</td>\n",
       "      <td>TURNING</td>\n",
       "      <td>NOT DIVIDED</td>\n",
       "      <td>STRAIGHT AND LEVEL</td>\n",
       "      <td>DRY</td>\n",
       "      <td>NO DEFECTS</td>\n",
       "      <td>NO INJURY / DRIVE AWAY</td>\n",
       "      <td>OVER $1,500</td>\n",
       "      <td>UNABLE TO DETERMINE</td>\n",
       "      <td>2</td>\n",
       "      <td>22</td>\n",
       "      <td>5</td>\n",
       "      <td>3</td>\n",
       "      <td>POINT (-87.740953581987 41.741803598989)</td>\n",
       "    </tr>\n",
       "  </tbody>\n",
       "</table>\n",
       "</div>"
      ],
      "text/plain": [
       "                                     CRASH_RECORD_ID  POSTED_SPEED_LIMIT  \\\n",
       "0  4fd0a3e0897b3335b94cd8d5b2d2b350eb691add56c62d...                  35   \n",
       "1  009e9e67203442370272e1a13d6ee51a4155dac65e583d...                  35   \n",
       "2  ee9283eff3a55ac50ee58f3d9528ce1d689b1c4180b4c4...                  30   \n",
       "3  f8960f698e870ebdc60b521b2a141a5395556bc3704191...                  30   \n",
       "5  00e47f189660cd8ba1e85fc63061bf1d8465184393f134...                  30   \n",
       "\n",
       "  TRAFFIC_CONTROL_DEVICE      DEVICE_CONDITION WEATHER_CONDITION  \\\n",
       "0            NO CONTROLS           NO CONTROLS             CLEAR   \n",
       "1      STOP SIGN/FLASHER  FUNCTIONING PROPERLY             CLEAR   \n",
       "2         TRAFFIC SIGNAL  FUNCTIONING PROPERLY             CLEAR   \n",
       "3            NO CONTROLS           NO CONTROLS             CLEAR   \n",
       "5         TRAFFIC SIGNAL  FUNCTIONING PROPERLY             CLEAR   \n",
       "\n",
       "       LIGHTING_CONDITION      FIRST_CRASH_TYPE  \\\n",
       "0                DAYLIGHT               TURNING   \n",
       "1                DAYLIGHT               TURNING   \n",
       "2                DAYLIGHT              REAR END   \n",
       "3                DARKNESS  PARKED MOTOR VEHICLE   \n",
       "5  DARKNESS, LIGHTED ROAD               TURNING   \n",
       "\n",
       "                   TRAFFICWAY_TYPE           ALIGNMENT ROADWAY_SURFACE_COND  \\\n",
       "0                          ONE-WAY  STRAIGHT AND LEVEL                  DRY   \n",
       "1                      NOT DIVIDED  STRAIGHT AND LEVEL                  DRY   \n",
       "2                         FOUR WAY  STRAIGHT AND LEVEL                  DRY   \n",
       "3  DIVIDED - W/MEDIAN (NOT RAISED)  STRAIGHT AND LEVEL                  DRY   \n",
       "5                      NOT DIVIDED  STRAIGHT AND LEVEL                  DRY   \n",
       "\n",
       "  ROAD_DEFECT                        CRASH_TYPE        DAMAGE  \\\n",
       "0  NO DEFECTS            NO INJURY / DRIVE AWAY   OVER $1,500   \n",
       "1  NO DEFECTS  INJURY AND / OR TOW DUE TO CRASH   OVER $1,500   \n",
       "2  NO DEFECTS            NO INJURY / DRIVE AWAY   OVER $1,500   \n",
       "3  NO DEFECTS            NO INJURY / DRIVE AWAY  $500 OR LESS   \n",
       "5  NO DEFECTS            NO INJURY / DRIVE AWAY   OVER $1,500   \n",
       "\n",
       "         PRIM_CONTRIBUTORY_CAUSE  NUM_UNITS  CRASH_HOUR  CRASH_DAY_OF_WEEK  \\\n",
       "0               IMPROPER BACKING          2          17                  4   \n",
       "1  FAILING TO YIELD RIGHT-OF-WAY          2          16                  6   \n",
       "2  FAILING TO YIELD RIGHT-OF-WAY          3          10                  6   \n",
       "3            UNABLE TO DETERMINE          2           1                  7   \n",
       "5            UNABLE TO DETERMINE          2          22                  5   \n",
       "\n",
       "   CRASH_MONTH                                  LOCATION  \n",
       "0            7  POINT (-87.773287883007 41.919663832993)  \n",
       "1            6  POINT (-87.740953581987 41.741803598989)  \n",
       "2            7  POINT (-87.585022352022 41.773455972008)  \n",
       "3            7  POINT (-87.622114914961 41.802118543011)  \n",
       "5            3  POINT (-87.740953581987 41.741803598989)  "
      ]
     },
     "execution_count": 18,
     "metadata": {},
     "output_type": "execute_result"
    }
   ],
   "source": [
    "df_crashes_clean.head()"
   ]
  },
  {
   "cell_type": "markdown",
   "metadata": {},
   "source": [
    "Now, let's check the unique catergories that are present in each of our variables."
   ]
  },
  {
   "cell_type": "markdown",
   "metadata": {},
   "source": [
    "#### Predictors"
   ]
  },
  {
   "cell_type": "code",
   "execution_count": 19,
   "metadata": {},
   "outputs": [
    {
     "name": "stdout",
     "output_type": "stream",
     "text": [
      "\n",
      "POSTED_SPEED_LIMIT\n",
      "\n",
      "30    357950\n",
      "35     33494\n",
      "25     29500\n",
      "20     18806\n",
      "15     16964\n",
      "10     10251\n",
      "0       6760\n",
      "40      4419\n",
      "5       3663\n",
      "45      2786\n",
      "55       377\n",
      "3        116\n",
      "50        97\n",
      "9         91\n",
      "99        66\n",
      "39        55\n",
      "1         35\n",
      "60        24\n",
      "2         20\n",
      "24        17\n",
      "32        14\n",
      "33        10\n",
      "34        10\n",
      "65        10\n",
      "6          7\n",
      "36         5\n",
      "11         5\n",
      "70         3\n",
      "14         2\n",
      "12         2\n",
      "18         2\n",
      "26         2\n",
      "31         2\n",
      "7          2\n",
      "4          1\n",
      "49         1\n",
      "63         1\n",
      "16         1\n",
      "23         1\n",
      "29         1\n",
      "38         1\n",
      "22         1\n",
      "Name: POSTED_SPEED_LIMIT, dtype: int64\n",
      "\n",
      "TRAFFIC_CONTROL_DEVICE\n",
      "\n",
      "NO CONTROLS                 279611\n",
      "TRAFFIC SIGNAL              135097\n",
      "STOP SIGN/FLASHER            48266\n",
      "UNKNOWN                      15642\n",
      "OTHER                         2877\n",
      "LANE USE MARKING              1173\n",
      "YIELD                          683\n",
      "OTHER REG. SIGN                469\n",
      "OTHER WARNING SIGN             410\n",
      "RAILROAD CROSSING GATE         319\n",
      "PEDESTRIAN CROSSING SIGN       215\n",
      "POLICE/FLAGMAN                 184\n",
      "SCHOOL ZONE                    170\n",
      "DELINEATORS                    141\n",
      "FLASHING CONTROL SIGNAL        129\n",
      "OTHER RAILROAD CROSSING        110\n",
      "RR CROSSING SIGN                43\n",
      "NO PASSING                      22\n",
      "BICYCLE CROSSING SIGN           14\n",
      "Name: TRAFFIC_CONTROL_DEVICE, dtype: int64\n",
      "\n",
      "DEVICE_CONDITION\n",
      "\n",
      "NO CONTROLS                 282444\n",
      "FUNCTIONING PROPERLY        168310\n",
      "UNKNOWN                      26600\n",
      "OTHER                         3752\n",
      "FUNCTIONING IMPROPERLY        2594\n",
      "NOT FUNCTIONING               1604\n",
      "WORN REFLECTIVE MATERIAL       215\n",
      "MISSING                         56\n",
      "Name: DEVICE_CONDITION, dtype: int64\n",
      "\n",
      "WEATHER_CONDITION\n",
      "\n",
      "CLEAR                       382992\n",
      "RAIN                         42853\n",
      "UNKNOWN                      21173\n",
      "SNOW                         20165\n",
      "CLOUDY/OVERCAST              14438\n",
      "OTHER                         1570\n",
      "FOG/SMOKE/HAZE                 826\n",
      "SLEET/HAIL                     715\n",
      "FREEZING RAIN/DRIZZLE          581\n",
      "BLOWING SNOW                   161\n",
      "SEVERE CROSS WIND GATE          99\n",
      "BLOWING SAND, SOIL, DIRT         2\n",
      "Name: WEATHER_CONDITION, dtype: int64\n",
      "\n",
      "LIGHTING_CONDITION\n",
      "\n",
      "DAYLIGHT                  314560\n",
      "DARKNESS, LIGHTED ROAD    105002\n",
      "DARKNESS                   24853\n",
      "UNKNOWN                    17781\n",
      "DUSK                       14972\n",
      "DAWN                        8407\n",
      "Name: LIGHTING_CONDITION, dtype: int64\n",
      "\n",
      "FIRST_CRASH_TYPE\n",
      "\n",
      "REAR END                        115819\n",
      "PARKED MOTOR VEHICLE            112122\n",
      "SIDESWIPE SAME DIRECTION         74502\n",
      "TURNING                          67772\n",
      "ANGLE                            51414\n",
      "FIXED OBJECT                     22308\n",
      "PEDESTRIAN                       11258\n",
      "SIDESWIPE OPPOSITE DIRECTION      7192\n",
      "PEDALCYCLIST                      7020\n",
      "OTHER OBJECT                      4613\n",
      "HEAD ON                           4143\n",
      "REAR TO FRONT                     2806\n",
      "REAR TO SIDE                      1743\n",
      "OTHER NONCOLLISION                1607\n",
      "REAR TO REAR                       613\n",
      "ANIMAL                             336\n",
      "OVERTURNED                         277\n",
      "TRAIN                               30\n",
      "Name: FIRST_CRASH_TYPE, dtype: int64\n",
      "\n",
      "TRAFFICWAY_TYPE\n",
      "\n",
      "NOT DIVIDED                        217022\n",
      "DIVIDED - W/MEDIAN (NOT RAISED)     85869\n",
      "ONE-WAY                             64242\n",
      "PARKING LOT                         34346\n",
      "DIVIDED - W/MEDIAN BARRIER          28683\n",
      "FOUR WAY                            15584\n",
      "OTHER                               13614\n",
      "ALLEY                                7996\n",
      "UNKNOWN                              5280\n",
      "CENTER TURN LANE                     4138\n",
      "T-INTERSECTION                       3321\n",
      "DRIVEWAY                             1672\n",
      "RAMP                                 1495\n",
      "UNKNOWN INTERSECTION TYPE             958\n",
      "Y-INTERSECTION                        396\n",
      "FIVE POINT, OR MORE                   390\n",
      "TRAFFIC ROUTE                         290\n",
      "NOT REPORTED                          128\n",
      "ROUNDABOUT                             97\n",
      "L-INTERSECTION                         54\n",
      "Name: TRAFFICWAY_TYPE, dtype: int64\n",
      "\n",
      "ALIGNMENT\n",
      "\n",
      "STRAIGHT AND LEVEL       473505\n",
      "STRAIGHT ON GRADE          6027\n",
      "CURVE, LEVEL               3618\n",
      "STRAIGHT ON HILLCREST      1492\n",
      "CURVE ON GRADE              694\n",
      "CURVE ON HILLCREST          239\n",
      "Name: ALIGNMENT, dtype: int64\n",
      "\n",
      "ROADWAY_SURFACE_COND\n",
      "\n",
      "DRY                360989\n",
      "WET                 66776\n",
      "UNKNOWN             32213\n",
      "SNOW OR SLUSH       20312\n",
      "ICE                  3907\n",
      "OTHER                1160\n",
      "SAND, MUD, DIRT       218\n",
      "Name: ROADWAY_SURFACE_COND, dtype: int64\n",
      "\n",
      "ROAD_DEFECT\n",
      "\n",
      "NO DEFECTS           403335\n",
      "UNKNOWN               71576\n",
      "RUT, HOLES             4457\n",
      "OTHER                  2764\n",
      "WORN SURFACE           1971\n",
      "SHOULDER DEFECT        1055\n",
      "DEBRIS ON ROADWAY       417\n",
      "Name: ROAD_DEFECT, dtype: int64\n",
      "\n",
      "CRASH_TYPE\n",
      "\n",
      "NO INJURY / DRIVE AWAY              365556\n",
      "INJURY AND / OR TOW DUE TO CRASH    120019\n",
      "Name: CRASH_TYPE, dtype: int64\n",
      "\n",
      "DAMAGE\n",
      "\n",
      "OVER $1,500      281131\n",
      "$501 - $1,500    142028\n",
      "$500 OR LESS      62416\n",
      "Name: DAMAGE, dtype: int64\n",
      "\n",
      "PRIM_CONTRIBUTORY_CAUSE\n",
      "\n",
      "UNABLE TO DETERMINE                                                                 179914\n",
      "FAILING TO YIELD RIGHT-OF-WAY                                                        53397\n",
      "FOLLOWING TOO CLOSELY                                                                51452\n",
      "NOT APPLICABLE                                                                       26041\n",
      "IMPROPER OVERTAKING/PASSING                                                          23035\n",
      "IMPROPER BACKING                                                                     21246\n",
      "FAILING TO REDUCE SPEED TO AVOID CRASH                                               20916\n",
      "IMPROPER LANE USAGE                                                                  18669\n",
      "IMPROPER TURNING/NO SIGNAL                                                           16077\n",
      "DRIVING SKILLS/KNOWLEDGE/EXPERIENCE                                                  15155\n",
      "DISREGARDING TRAFFIC SIGNALS                                                          8793\n",
      "WEATHER                                                                               8433\n",
      "OPERATING VEHICLE IN ERRATIC, RECKLESS, CARELESS, NEGLIGENT OR AGGRESSIVE MANNER      6054\n",
      "DISREGARDING STOP SIGN                                                                5393\n",
      "DISTRACTION - FROM INSIDE VEHICLE                                                     3546\n",
      "EQUIPMENT - VEHICLE CONDITION                                                         3023\n",
      "PHYSICAL CONDITION OF DRIVER                                                          2850\n",
      "VISION OBSCURED (SIGNS, TREE LIMBS, BUILDINGS, ETC.)                                  2831\n",
      "UNDER THE INFLUENCE OF ALCOHOL/DRUGS (USE WHEN ARREST IS EFFECTED)                    2589\n",
      "DRIVING ON WRONG SIDE/WRONG WAY                                                       2286\n",
      "DISTRACTION - FROM OUTSIDE VEHICLE                                                    2149\n",
      "EXCEEDING AUTHORIZED SPEED LIMIT                                                      1967\n",
      "EXCEEDING SAFE SPEED FOR CONDITIONS                                                   1674\n",
      "ROAD ENGINEERING/SURFACE/MARKING DEFECTS                                              1369\n",
      "ROAD CONSTRUCTION/MAINTENANCE                                                         1181\n",
      "DISREGARDING OTHER TRAFFIC SIGNS                                                      1038\n",
      "EVASIVE ACTION DUE TO ANIMAL, OBJECT, NONMOTORIST                                      896\n",
      "CELL PHONE USE OTHER THAN TEXTING                                                      679\n",
      "DISREGARDING ROAD MARKINGS                                                             666\n",
      "HAD BEEN DRINKING (USE WHEN ARREST IS NOT MADE)                                        537\n",
      "ANIMAL                                                                                 412\n",
      "TURNING RIGHT ON RED                                                                   338\n",
      "DISTRACTION - OTHER ELECTRONIC DEVICE (NAVIGATION DEVICE, DVD PLAYER, ETC.)            229\n",
      "TEXTING                                                                                212\n",
      "DISREGARDING YIELD SIGN                                                                187\n",
      "RELATED TO BUS STOP                                                                    164\n",
      "BICYCLE ADVANCING LEGALLY ON RED LIGHT                                                  64\n",
      "PASSING STOPPED SCHOOL BUS                                                              64\n",
      "OBSTRUCTED CROSSWALKS                                                                   30\n",
      "MOTORCYCLE ADVANCING LEGALLY ON RED LIGHT                                               19\n",
      "Name: PRIM_CONTRIBUTORY_CAUSE, dtype: int64\n",
      "\n",
      "NUM_UNITS\n",
      "\n",
      "2     427046\n",
      "1      26025\n",
      "3      25898\n",
      "4       4895\n",
      "5       1151\n",
      "6        344\n",
      "7        122\n",
      "8         44\n",
      "9         27\n",
      "10        10\n",
      "11         5\n",
      "12         3\n",
      "14         2\n",
      "18         1\n",
      "16         1\n",
      "15         1\n",
      "Name: NUM_UNITS, dtype: int64\n",
      "\n",
      "CRASH_HOUR\n",
      "\n",
      "16    37115\n",
      "15    36991\n",
      "17    36610\n",
      "14    32986\n",
      "18    30286\n",
      "13    30000\n",
      "12    28851\n",
      "8     25903\n",
      "11    25000\n",
      "9     22775\n",
      "10    22415\n",
      "19    22155\n",
      "7     20907\n",
      "20    17537\n",
      "21    15575\n",
      "22    14323\n",
      "23    12055\n",
      "6     10915\n",
      "0      9818\n",
      "1      8274\n",
      "2      7133\n",
      "5      6657\n",
      "3      5877\n",
      "4      5417\n",
      "Name: CRASH_HOUR, dtype: int64\n",
      "\n",
      "CRASH_DAY_OF_WEEK\n",
      "\n",
      "6    78955\n",
      "7    71895\n",
      "3    69758\n",
      "5    69656\n",
      "4    69179\n",
      "2    67430\n",
      "1    58702\n",
      "Name: CRASH_DAY_OF_WEEK, dtype: int64\n",
      "\n",
      "CRASH_MONTH\n",
      "\n",
      "10    46270\n",
      "12    44020\n",
      "9     43035\n",
      "11    42681\n",
      "8     41704\n",
      "1     41276\n",
      "2     41139\n",
      "7     39944\n",
      "3     39679\n",
      "6     37794\n",
      "5     36728\n",
      "4     31305\n",
      "Name: CRASH_MONTH, dtype: int64\n",
      "\n",
      "LOCATION\n",
      "\n"
     ]
    },
    {
     "name": "stdout",
     "output_type": "stream",
     "text": [
      "POINT (-87.905309125103 41.976201139024)    630\n",
      "POINT (-87.585971992965 41.751460603167)    330\n",
      "POINT (-87.580147768689 41.791420282098)    327\n",
      "POINT (-87.585275565077 41.722257273006)    272\n",
      "POINT (-87.619928173678 41.900958919109)    249\n",
      "                                           ... \n",
      "POINT (-87.660239901005 41.808179666065)      1\n",
      "POINT (-87.626917593942 41.76715091999)       1\n",
      "POINT (-87.765278123746 41.918556157479)      1\n",
      "POINT (-87.736546322145 41.946368049)         1\n",
      "POINT (-87.735448210764 41.837499210789)      1\n",
      "Name: LOCATION, Length: 212660, dtype: int64\n"
     ]
    }
   ],
   "source": [
    "for col in df_crashes_clean.columns[1:]:\n",
    "    print('\\n' + col + '\\n')\n",
    "    print(df_crashes_clean[col].value_counts())"
   ]
  },
  {
   "cell_type": "code",
   "execution_count": 20,
   "metadata": {},
   "outputs": [
    {
     "data": {
      "text/plain": [
       "(485575, 19)"
      ]
     },
     "execution_count": 20,
     "metadata": {},
     "output_type": "execute_result"
    }
   ],
   "source": [
    "df_crashes_clean.shape"
   ]
  },
  {
   "cell_type": "markdown",
   "metadata": {},
   "source": [
    "#### Target Variable"
   ]
  },
  {
   "cell_type": "code",
   "execution_count": 21,
   "metadata": {},
   "outputs": [
    {
     "data": {
      "text/plain": [
       "UNABLE TO DETERMINE                                                                 179914\n",
       "FAILING TO YIELD RIGHT-OF-WAY                                                        53397\n",
       "FOLLOWING TOO CLOSELY                                                                51452\n",
       "NOT APPLICABLE                                                                       26041\n",
       "IMPROPER OVERTAKING/PASSING                                                          23035\n",
       "IMPROPER BACKING                                                                     21246\n",
       "FAILING TO REDUCE SPEED TO AVOID CRASH                                               20916\n",
       "IMPROPER LANE USAGE                                                                  18669\n",
       "IMPROPER TURNING/NO SIGNAL                                                           16077\n",
       "DRIVING SKILLS/KNOWLEDGE/EXPERIENCE                                                  15155\n",
       "DISREGARDING TRAFFIC SIGNALS                                                          8793\n",
       "WEATHER                                                                               8433\n",
       "OPERATING VEHICLE IN ERRATIC, RECKLESS, CARELESS, NEGLIGENT OR AGGRESSIVE MANNER      6054\n",
       "DISREGARDING STOP SIGN                                                                5393\n",
       "DISTRACTION - FROM INSIDE VEHICLE                                                     3546\n",
       "EQUIPMENT - VEHICLE CONDITION                                                         3023\n",
       "PHYSICAL CONDITION OF DRIVER                                                          2850\n",
       "VISION OBSCURED (SIGNS, TREE LIMBS, BUILDINGS, ETC.)                                  2831\n",
       "UNDER THE INFLUENCE OF ALCOHOL/DRUGS (USE WHEN ARREST IS EFFECTED)                    2589\n",
       "DRIVING ON WRONG SIDE/WRONG WAY                                                       2286\n",
       "DISTRACTION - FROM OUTSIDE VEHICLE                                                    2149\n",
       "EXCEEDING AUTHORIZED SPEED LIMIT                                                      1967\n",
       "EXCEEDING SAFE SPEED FOR CONDITIONS                                                   1674\n",
       "ROAD ENGINEERING/SURFACE/MARKING DEFECTS                                              1369\n",
       "ROAD CONSTRUCTION/MAINTENANCE                                                         1181\n",
       "DISREGARDING OTHER TRAFFIC SIGNS                                                      1038\n",
       "EVASIVE ACTION DUE TO ANIMAL, OBJECT, NONMOTORIST                                      896\n",
       "CELL PHONE USE OTHER THAN TEXTING                                                      679\n",
       "DISREGARDING ROAD MARKINGS                                                             666\n",
       "HAD BEEN DRINKING (USE WHEN ARREST IS NOT MADE)                                        537\n",
       "ANIMAL                                                                                 412\n",
       "TURNING RIGHT ON RED                                                                   338\n",
       "DISTRACTION - OTHER ELECTRONIC DEVICE (NAVIGATION DEVICE, DVD PLAYER, ETC.)            229\n",
       "TEXTING                                                                                212\n",
       "DISREGARDING YIELD SIGN                                                                187\n",
       "RELATED TO BUS STOP                                                                    164\n",
       "BICYCLE ADVANCING LEGALLY ON RED LIGHT                                                  64\n",
       "PASSING STOPPED SCHOOL BUS                                                              64\n",
       "OBSTRUCTED CROSSWALKS                                                                   30\n",
       "MOTORCYCLE ADVANCING LEGALLY ON RED LIGHT                                               19\n",
       "Name: PRIM_CONTRIBUTORY_CAUSE, dtype: int64"
      ]
     },
     "execution_count": 21,
     "metadata": {},
     "output_type": "execute_result"
    }
   ],
   "source": [
    "df_crashes_clean['PRIM_CONTRIBUTORY_CAUSE'].value_counts()"
   ]
  },
  {
   "cell_type": "markdown",
   "metadata": {},
   "source": [
    "Target variable 'Unable to determine' does not add any value to our project. Let's remove these rows."
   ]
  },
  {
   "cell_type": "code",
   "execution_count": 22,
   "metadata": {},
   "outputs": [],
   "source": [
    "df_crashes_final = df_crashes_clean[(df_crashes_clean.PRIM_CONTRIBUTORY_CAUSE != 'UNABLE TO DETERMINE') &\n",
    "                                    (df_crashes_clean.PRIM_CONTRIBUTORY_CAUSE != 'NOT APPLICABLE')].copy()"
   ]
  },
  {
   "cell_type": "code",
   "execution_count": 23,
   "metadata": {},
   "outputs": [
    {
     "data": {
      "text/plain": [
       "(279620, 19)"
      ]
     },
     "execution_count": 23,
     "metadata": {},
     "output_type": "execute_result"
    }
   ],
   "source": [
    "df_crashes_final.shape"
   ]
  },
  {
   "cell_type": "markdown",
   "metadata": {},
   "source": [
    "We have 19 variables from our crash dataset. Let's explore other datasets to see what we can find."
   ]
  },
  {
   "cell_type": "markdown",
   "metadata": {},
   "source": [
    "#### 2. Traffic Vehicle Dataset"
   ]
  },
  {
   "cell_type": "code",
   "execution_count": 24,
   "metadata": {},
   "outputs": [
    {
     "data": {
      "text/html": [
       "<div>\n",
       "<style scoped>\n",
       "    .dataframe tbody tr th:only-of-type {\n",
       "        vertical-align: middle;\n",
       "    }\n",
       "\n",
       "    .dataframe tbody tr th {\n",
       "        vertical-align: top;\n",
       "    }\n",
       "\n",
       "    .dataframe thead th {\n",
       "        text-align: right;\n",
       "    }\n",
       "</style>\n",
       "<table border=\"1\" class=\"dataframe\">\n",
       "  <thead>\n",
       "    <tr style=\"text-align: right;\">\n",
       "      <th></th>\n",
       "      <th>CRASH_UNIT_ID</th>\n",
       "      <th>CRASH_RECORD_ID</th>\n",
       "      <th>RD_NO</th>\n",
       "      <th>CRASH_DATE</th>\n",
       "      <th>UNIT_NO</th>\n",
       "      <th>UNIT_TYPE</th>\n",
       "      <th>NUM_PASSENGERS</th>\n",
       "      <th>VEHICLE_ID</th>\n",
       "      <th>CMRC_VEH_I</th>\n",
       "      <th>MAKE</th>\n",
       "      <th>...</th>\n",
       "      <th>TRAILER1_LENGTH</th>\n",
       "      <th>TRAILER2_LENGTH</th>\n",
       "      <th>TOTAL_VEHICLE_LENGTH</th>\n",
       "      <th>AXLE_CNT</th>\n",
       "      <th>VEHICLE_CONFIG</th>\n",
       "      <th>CARGO_BODY_TYPE</th>\n",
       "      <th>LOAD_TYPE</th>\n",
       "      <th>HAZMAT_OUT_OF_SERVICE_I</th>\n",
       "      <th>MCS_OUT_OF_SERVICE_I</th>\n",
       "      <th>HAZMAT_CLASS</th>\n",
       "    </tr>\n",
       "  </thead>\n",
       "  <tbody>\n",
       "    <tr>\n",
       "      <th>0</th>\n",
       "      <td>829999</td>\n",
       "      <td>24ddf9fd8542199d832e1c223cc474e5601b356f1d77a6...</td>\n",
       "      <td>JD124535</td>\n",
       "      <td>01/22/2020 06:25:00 AM</td>\n",
       "      <td>1</td>\n",
       "      <td>DRIVER</td>\n",
       "      <td>NaN</td>\n",
       "      <td>796949</td>\n",
       "      <td>NaN</td>\n",
       "      <td>INFINITI</td>\n",
       "      <td>...</td>\n",
       "      <td>NaN</td>\n",
       "      <td>NaN</td>\n",
       "      <td>NaN</td>\n",
       "      <td>NaN</td>\n",
       "      <td>NaN</td>\n",
       "      <td>NaN</td>\n",
       "      <td>NaN</td>\n",
       "      <td>NaN</td>\n",
       "      <td>NaN</td>\n",
       "      <td>NaN</td>\n",
       "    </tr>\n",
       "    <tr>\n",
       "      <th>1</th>\n",
       "      <td>749947</td>\n",
       "      <td>81dc0de2ed92aa62baccab641fa377be7feb1cc47e6554...</td>\n",
       "      <td>JC451435</td>\n",
       "      <td>09/28/2019 03:30:00 AM</td>\n",
       "      <td>1</td>\n",
       "      <td>DRIVER</td>\n",
       "      <td>NaN</td>\n",
       "      <td>834816</td>\n",
       "      <td>NaN</td>\n",
       "      <td>HONDA</td>\n",
       "      <td>...</td>\n",
       "      <td>NaN</td>\n",
       "      <td>NaN</td>\n",
       "      <td>NaN</td>\n",
       "      <td>NaN</td>\n",
       "      <td>NaN</td>\n",
       "      <td>NaN</td>\n",
       "      <td>NaN</td>\n",
       "      <td>NaN</td>\n",
       "      <td>NaN</td>\n",
       "      <td>NaN</td>\n",
       "    </tr>\n",
       "    <tr>\n",
       "      <th>2</th>\n",
       "      <td>749949</td>\n",
       "      <td>81dc0de2ed92aa62baccab641fa377be7feb1cc47e6554...</td>\n",
       "      <td>JC451435</td>\n",
       "      <td>09/28/2019 03:30:00 AM</td>\n",
       "      <td>2</td>\n",
       "      <td>PARKED</td>\n",
       "      <td>NaN</td>\n",
       "      <td>834819</td>\n",
       "      <td>NaN</td>\n",
       "      <td>TOYOTA</td>\n",
       "      <td>...</td>\n",
       "      <td>NaN</td>\n",
       "      <td>NaN</td>\n",
       "      <td>NaN</td>\n",
       "      <td>NaN</td>\n",
       "      <td>NaN</td>\n",
       "      <td>NaN</td>\n",
       "      <td>NaN</td>\n",
       "      <td>NaN</td>\n",
       "      <td>NaN</td>\n",
       "      <td>NaN</td>\n",
       "    </tr>\n",
       "    <tr>\n",
       "      <th>3</th>\n",
       "      <td>749950</td>\n",
       "      <td>81dc0de2ed92aa62baccab641fa377be7feb1cc47e6554...</td>\n",
       "      <td>JC451435</td>\n",
       "      <td>09/28/2019 03:30:00 AM</td>\n",
       "      <td>3</td>\n",
       "      <td>PARKED</td>\n",
       "      <td>NaN</td>\n",
       "      <td>834817</td>\n",
       "      <td>NaN</td>\n",
       "      <td>GENERAL MOTORS CORPORATION (GMC)</td>\n",
       "      <td>...</td>\n",
       "      <td>NaN</td>\n",
       "      <td>NaN</td>\n",
       "      <td>NaN</td>\n",
       "      <td>NaN</td>\n",
       "      <td>NaN</td>\n",
       "      <td>NaN</td>\n",
       "      <td>NaN</td>\n",
       "      <td>NaN</td>\n",
       "      <td>NaN</td>\n",
       "      <td>NaN</td>\n",
       "    </tr>\n",
       "    <tr>\n",
       "      <th>4</th>\n",
       "      <td>871921</td>\n",
       "      <td>af84fb5c8d996fcd3aefd36593c3a02e6e7509eeb27568...</td>\n",
       "      <td>JD208731</td>\n",
       "      <td>04/13/2020 10:50:00 PM</td>\n",
       "      <td>2</td>\n",
       "      <td>DRIVER</td>\n",
       "      <td>NaN</td>\n",
       "      <td>827212</td>\n",
       "      <td>NaN</td>\n",
       "      <td>BUICK</td>\n",
       "      <td>...</td>\n",
       "      <td>NaN</td>\n",
       "      <td>NaN</td>\n",
       "      <td>NaN</td>\n",
       "      <td>NaN</td>\n",
       "      <td>NaN</td>\n",
       "      <td>NaN</td>\n",
       "      <td>NaN</td>\n",
       "      <td>NaN</td>\n",
       "      <td>NaN</td>\n",
       "      <td>NaN</td>\n",
       "    </tr>\n",
       "  </tbody>\n",
       "</table>\n",
       "<p>5 rows × 72 columns</p>\n",
       "</div>"
      ],
      "text/plain": [
       "  CRASH_UNIT_ID                                    CRASH_RECORD_ID     RD_NO  \\\n",
       "0        829999  24ddf9fd8542199d832e1c223cc474e5601b356f1d77a6...  JD124535   \n",
       "1        749947  81dc0de2ed92aa62baccab641fa377be7feb1cc47e6554...  JC451435   \n",
       "2        749949  81dc0de2ed92aa62baccab641fa377be7feb1cc47e6554...  JC451435   \n",
       "3        749950  81dc0de2ed92aa62baccab641fa377be7feb1cc47e6554...  JC451435   \n",
       "4        871921  af84fb5c8d996fcd3aefd36593c3a02e6e7509eeb27568...  JD208731   \n",
       "\n",
       "               CRASH_DATE UNIT_NO UNIT_TYPE NUM_PASSENGERS VEHICLE_ID  \\\n",
       "0  01/22/2020 06:25:00 AM       1    DRIVER            NaN     796949   \n",
       "1  09/28/2019 03:30:00 AM       1    DRIVER            NaN     834816   \n",
       "2  09/28/2019 03:30:00 AM       2    PARKED            NaN     834819   \n",
       "3  09/28/2019 03:30:00 AM       3    PARKED            NaN     834817   \n",
       "4  04/13/2020 10:50:00 PM       2    DRIVER            NaN     827212   \n",
       "\n",
       "  CMRC_VEH_I                              MAKE  ... TRAILER1_LENGTH  \\\n",
       "0        NaN                          INFINITI  ...             NaN   \n",
       "1        NaN                             HONDA  ...             NaN   \n",
       "2        NaN                            TOYOTA  ...             NaN   \n",
       "3        NaN  GENERAL MOTORS CORPORATION (GMC)  ...             NaN   \n",
       "4        NaN                             BUICK  ...             NaN   \n",
       "\n",
       "  TRAILER2_LENGTH TOTAL_VEHICLE_LENGTH AXLE_CNT VEHICLE_CONFIG  \\\n",
       "0             NaN                  NaN      NaN            NaN   \n",
       "1             NaN                  NaN      NaN            NaN   \n",
       "2             NaN                  NaN      NaN            NaN   \n",
       "3             NaN                  NaN      NaN            NaN   \n",
       "4             NaN                  NaN      NaN            NaN   \n",
       "\n",
       "  CARGO_BODY_TYPE LOAD_TYPE HAZMAT_OUT_OF_SERVICE_I MCS_OUT_OF_SERVICE_I  \\\n",
       "0             NaN       NaN                     NaN                  NaN   \n",
       "1             NaN       NaN                     NaN                  NaN   \n",
       "2             NaN       NaN                     NaN                  NaN   \n",
       "3             NaN       NaN                     NaN                  NaN   \n",
       "4             NaN       NaN                     NaN                  NaN   \n",
       "\n",
       "  HAZMAT_CLASS  \n",
       "0          NaN  \n",
       "1          NaN  \n",
       "2          NaN  \n",
       "3          NaN  \n",
       "4          NaN  \n",
       "\n",
       "[5 rows x 72 columns]"
      ]
     },
     "execution_count": 24,
     "metadata": {},
     "output_type": "execute_result"
    }
   ],
   "source": [
    "df_raw_vehicles.head()"
   ]
  },
  {
   "cell_type": "code",
   "execution_count": 25,
   "metadata": {},
   "outputs": [
    {
     "data": {
      "text/plain": [
       "Index(['CRASH_UNIT_ID', 'CRASH_RECORD_ID', 'RD_NO', 'CRASH_DATE', 'UNIT_NO',\n",
       "       'UNIT_TYPE', 'NUM_PASSENGERS', 'VEHICLE_ID', 'CMRC_VEH_I', 'MAKE',\n",
       "       'MODEL', 'LIC_PLATE_STATE', 'VEHICLE_YEAR', 'VEHICLE_DEFECT',\n",
       "       'VEHICLE_TYPE', 'VEHICLE_USE', 'TRAVEL_DIRECTION', 'MANEUVER',\n",
       "       'TOWED_I', 'FIRE_I', 'OCCUPANT_CNT', 'EXCEED_SPEED_LIMIT_I', 'TOWED_BY',\n",
       "       'TOWED_TO', 'AREA_00_I', 'AREA_01_I', 'AREA_02_I', 'AREA_03_I',\n",
       "       'AREA_04_I', 'AREA_05_I', 'AREA_06_I', 'AREA_07_I', 'AREA_08_I',\n",
       "       'AREA_09_I', 'AREA_10_I', 'AREA_11_I', 'AREA_12_I', 'AREA_99_I',\n",
       "       'FIRST_CONTACT_POINT', 'CMV_ID', 'USDOT_NO', 'CCMC_NO', 'ILCC_NO',\n",
       "       'COMMERCIAL_SRC', 'GVWR', 'CARRIER_NAME', 'CARRIER_STATE',\n",
       "       'CARRIER_CITY', 'HAZMAT_PLACARDS_I', 'HAZMAT_NAME', 'UN_NO',\n",
       "       'HAZMAT_PRESENT_I', 'HAZMAT_REPORT_I', 'HAZMAT_REPORT_NO',\n",
       "       'MCS_REPORT_I', 'MCS_REPORT_NO', 'HAZMAT_VIO_CAUSE_CRASH_I',\n",
       "       'MCS_VIO_CAUSE_CRASH_I', 'IDOT_PERMIT_NO', 'WIDE_LOAD_I',\n",
       "       'TRAILER1_WIDTH', 'TRAILER2_WIDTH', 'TRAILER1_LENGTH',\n",
       "       'TRAILER2_LENGTH', 'TOTAL_VEHICLE_LENGTH', 'AXLE_CNT', 'VEHICLE_CONFIG',\n",
       "       'CARGO_BODY_TYPE', 'LOAD_TYPE', 'HAZMAT_OUT_OF_SERVICE_I',\n",
       "       'MCS_OUT_OF_SERVICE_I', 'HAZMAT_CLASS'],\n",
       "      dtype='object')"
      ]
     },
     "execution_count": 25,
     "metadata": {},
     "output_type": "execute_result"
    }
   ],
   "source": [
    "df_raw_vehicles.columns"
   ]
  },
  {
   "cell_type": "markdown",
   "metadata": {},
   "source": [
    "Using some domain knowledge we can remove most columns."
   ]
  },
  {
   "cell_type": "code",
   "execution_count": 26,
   "metadata": {},
   "outputs": [],
   "source": [
    "columns_to_delete_vehicles = ['CRASH_UNIT_ID', 'RD_NO', 'CRASH_DATE',\n",
    "       'NUM_PASSENGERS', 'MAKE', 'MODEL', 'VEHICLE_YEAR', 'CMRC_VEH_I',\n",
    "       'LIC_PLATE_STATE','TOWED_I', 'FIRE_I', 'OCCUPANT_CNT', 'TOWED_BY',\n",
    "       'TOWED_TO', 'AREA_00_I', 'AREA_01_I', 'AREA_02_I', 'AREA_03_I',\n",
    "       'AREA_04_I', 'AREA_05_I', 'AREA_06_I', 'AREA_07_I', 'AREA_08_I',\n",
    "       'AREA_09_I', 'AREA_10_I', 'AREA_11_I', 'AREA_12_I', 'AREA_99_I',\n",
    "       'CMV_ID', 'USDOT_NO', 'CCMC_NO', 'ILCC_NO',\n",
    "       'COMMERCIAL_SRC', 'GVWR', 'CARRIER_NAME', 'CARRIER_STATE',\n",
    "       'CARRIER_CITY', 'HAZMAT_PLACARDS_I', 'HAZMAT_NAME', 'UN_NO',\n",
    "       'HAZMAT_PRESENT_I', 'HAZMAT_REPORT_I', 'HAZMAT_REPORT_NO',\n",
    "       'MCS_REPORT_I', 'MCS_REPORT_NO', 'HAZMAT_VIO_CAUSE_CRASH_I',\n",
    "       'MCS_VIO_CAUSE_CRASH_I', 'IDOT_PERMIT_NO', 'WIDE_LOAD_I',\n",
    "       'TRAILER1_WIDTH', 'TRAILER2_WIDTH', 'TRAILER1_LENGTH',\n",
    "       'TRAILER2_LENGTH', 'TOTAL_VEHICLE_LENGTH', 'AXLE_CNT', 'VEHICLE_CONFIG',\n",
    "       'CARGO_BODY_TYPE', 'LOAD_TYPE', 'HAZMAT_OUT_OF_SERVICE_I',\n",
    "       'MCS_OUT_OF_SERVICE_I', 'HAZMAT_CLASS']"
   ]
  },
  {
   "cell_type": "code",
   "execution_count": 27,
   "metadata": {},
   "outputs": [],
   "source": [
    "df_vehicles_clean = df_raw_vehicles.drop(columns_to_delete_vehicles, axis=1)"
   ]
  },
  {
   "cell_type": "code",
   "execution_count": 28,
   "metadata": {},
   "outputs": [
    {
     "data": {
      "text/html": [
       "<div>\n",
       "<style scoped>\n",
       "    .dataframe tbody tr th:only-of-type {\n",
       "        vertical-align: middle;\n",
       "    }\n",
       "\n",
       "    .dataframe tbody tr th {\n",
       "        vertical-align: top;\n",
       "    }\n",
       "\n",
       "    .dataframe thead th {\n",
       "        text-align: right;\n",
       "    }\n",
       "</style>\n",
       "<table border=\"1\" class=\"dataframe\">\n",
       "  <thead>\n",
       "    <tr style=\"text-align: right;\">\n",
       "      <th></th>\n",
       "      <th>CRASH_RECORD_ID</th>\n",
       "      <th>UNIT_NO</th>\n",
       "      <th>UNIT_TYPE</th>\n",
       "      <th>VEHICLE_ID</th>\n",
       "      <th>VEHICLE_DEFECT</th>\n",
       "      <th>VEHICLE_TYPE</th>\n",
       "      <th>VEHICLE_USE</th>\n",
       "      <th>TRAVEL_DIRECTION</th>\n",
       "      <th>MANEUVER</th>\n",
       "      <th>EXCEED_SPEED_LIMIT_I</th>\n",
       "      <th>FIRST_CONTACT_POINT</th>\n",
       "    </tr>\n",
       "  </thead>\n",
       "  <tbody>\n",
       "    <tr>\n",
       "      <th>0</th>\n",
       "      <td>24ddf9fd8542199d832e1c223cc474e5601b356f1d77a6...</td>\n",
       "      <td>1</td>\n",
       "      <td>DRIVER</td>\n",
       "      <td>796949</td>\n",
       "      <td>NONE</td>\n",
       "      <td>PASSENGER</td>\n",
       "      <td>PERSONAL</td>\n",
       "      <td>N</td>\n",
       "      <td>STRAIGHT AHEAD</td>\n",
       "      <td>NaN</td>\n",
       "      <td>FRONT</td>\n",
       "    </tr>\n",
       "    <tr>\n",
       "      <th>1</th>\n",
       "      <td>81dc0de2ed92aa62baccab641fa377be7feb1cc47e6554...</td>\n",
       "      <td>1</td>\n",
       "      <td>DRIVER</td>\n",
       "      <td>834816</td>\n",
       "      <td>UNKNOWN</td>\n",
       "      <td>PASSENGER</td>\n",
       "      <td>PERSONAL</td>\n",
       "      <td>N</td>\n",
       "      <td>STRAIGHT AHEAD</td>\n",
       "      <td>NaN</td>\n",
       "      <td>FRONT</td>\n",
       "    </tr>\n",
       "    <tr>\n",
       "      <th>2</th>\n",
       "      <td>81dc0de2ed92aa62baccab641fa377be7feb1cc47e6554...</td>\n",
       "      <td>2</td>\n",
       "      <td>PARKED</td>\n",
       "      <td>834819</td>\n",
       "      <td>NONE</td>\n",
       "      <td>UNKNOWN/NA</td>\n",
       "      <td>PERSONAL</td>\n",
       "      <td>N</td>\n",
       "      <td>PARKED</td>\n",
       "      <td>NaN</td>\n",
       "      <td>ROOF</td>\n",
       "    </tr>\n",
       "    <tr>\n",
       "      <th>3</th>\n",
       "      <td>81dc0de2ed92aa62baccab641fa377be7feb1cc47e6554...</td>\n",
       "      <td>3</td>\n",
       "      <td>PARKED</td>\n",
       "      <td>834817</td>\n",
       "      <td>UNKNOWN</td>\n",
       "      <td>UNKNOWN/NA</td>\n",
       "      <td>UNKNOWN/NA</td>\n",
       "      <td>N</td>\n",
       "      <td>PARKED</td>\n",
       "      <td>NaN</td>\n",
       "      <td>ROOF</td>\n",
       "    </tr>\n",
       "    <tr>\n",
       "      <th>4</th>\n",
       "      <td>af84fb5c8d996fcd3aefd36593c3a02e6e7509eeb27568...</td>\n",
       "      <td>2</td>\n",
       "      <td>DRIVER</td>\n",
       "      <td>827212</td>\n",
       "      <td>NONE</td>\n",
       "      <td>PASSENGER</td>\n",
       "      <td>PERSONAL</td>\n",
       "      <td>W</td>\n",
       "      <td>STRAIGHT AHEAD</td>\n",
       "      <td>NaN</td>\n",
       "      <td>FRONT-RIGHT</td>\n",
       "    </tr>\n",
       "  </tbody>\n",
       "</table>\n",
       "</div>"
      ],
      "text/plain": [
       "                                     CRASH_RECORD_ID UNIT_NO UNIT_TYPE  \\\n",
       "0  24ddf9fd8542199d832e1c223cc474e5601b356f1d77a6...       1    DRIVER   \n",
       "1  81dc0de2ed92aa62baccab641fa377be7feb1cc47e6554...       1    DRIVER   \n",
       "2  81dc0de2ed92aa62baccab641fa377be7feb1cc47e6554...       2    PARKED   \n",
       "3  81dc0de2ed92aa62baccab641fa377be7feb1cc47e6554...       3    PARKED   \n",
       "4  af84fb5c8d996fcd3aefd36593c3a02e6e7509eeb27568...       2    DRIVER   \n",
       "\n",
       "  VEHICLE_ID VEHICLE_DEFECT VEHICLE_TYPE VEHICLE_USE TRAVEL_DIRECTION  \\\n",
       "0     796949           NONE    PASSENGER    PERSONAL                N   \n",
       "1     834816        UNKNOWN    PASSENGER    PERSONAL                N   \n",
       "2     834819           NONE   UNKNOWN/NA    PERSONAL                N   \n",
       "3     834817        UNKNOWN   UNKNOWN/NA  UNKNOWN/NA                N   \n",
       "4     827212           NONE    PASSENGER    PERSONAL                W   \n",
       "\n",
       "         MANEUVER EXCEED_SPEED_LIMIT_I FIRST_CONTACT_POINT  \n",
       "0  STRAIGHT AHEAD                  NaN               FRONT  \n",
       "1  STRAIGHT AHEAD                  NaN               FRONT  \n",
       "2          PARKED                  NaN                ROOF  \n",
       "3          PARKED                  NaN                ROOF  \n",
       "4  STRAIGHT AHEAD                  NaN         FRONT-RIGHT  "
      ]
     },
     "execution_count": 28,
     "metadata": {},
     "output_type": "execute_result"
    }
   ],
   "source": [
    "df_vehicles_clean.head()"
   ]
  },
  {
   "cell_type": "code",
   "execution_count": 29,
   "metadata": {},
   "outputs": [
    {
     "name": "stdout",
     "output_type": "stream",
     "text": [
      "<class 'pandas.core.frame.DataFrame'>\n",
      "RangeIndex: 996986 entries, 0 to 996985\n",
      "Data columns (total 11 columns):\n",
      " #   Column                Non-Null Count   Dtype \n",
      "---  ------                --------------   ----- \n",
      " 0   CRASH_RECORD_ID       996986 non-null  object\n",
      " 1   UNIT_NO               996986 non-null  object\n",
      " 2   UNIT_TYPE             995493 non-null  object\n",
      " 3   VEHICLE_ID            974042 non-null  object\n",
      " 4   VEHICLE_DEFECT        974042 non-null  object\n",
      " 5   VEHICLE_TYPE          974042 non-null  object\n",
      " 6   VEHICLE_USE           974042 non-null  object\n",
      " 7   TRAVEL_DIRECTION      974042 non-null  object\n",
      " 8   MANEUVER              974042 non-null  object\n",
      " 9   EXCEED_SPEED_LIMIT_I  2389 non-null    object\n",
      " 10  FIRST_CONTACT_POINT   967486 non-null  object\n",
      "dtypes: object(11)\n",
      "memory usage: 83.7+ MB\n"
     ]
    }
   ],
   "source": [
    "df_vehicles_clean.info()"
   ]
  },
  {
   "cell_type": "code",
   "execution_count": 30,
   "metadata": {},
   "outputs": [
    {
     "data": {
      "text/plain": [
       "CRASH_RECORD_ID              0\n",
       "UNIT_NO                      0\n",
       "UNIT_TYPE                 1493\n",
       "VEHICLE_ID               22944\n",
       "VEHICLE_DEFECT           22944\n",
       "VEHICLE_TYPE             22944\n",
       "VEHICLE_USE              22944\n",
       "TRAVEL_DIRECTION         22944\n",
       "MANEUVER                 22944\n",
       "EXCEED_SPEED_LIMIT_I    994597\n",
       "FIRST_CONTACT_POINT      29500\n",
       "dtype: int64"
      ]
     },
     "execution_count": 30,
     "metadata": {},
     "output_type": "execute_result"
    }
   ],
   "source": [
    "df_vehicles_clean.isnull().sum()"
   ]
  },
  {
   "cell_type": "markdown",
   "metadata": {},
   "source": [
    "The EXCEED_SPEED_LIMIT column has maximum entries missings. Let's drop this before we remove all missing values."
   ]
  },
  {
   "cell_type": "code",
   "execution_count": 31,
   "metadata": {},
   "outputs": [],
   "source": [
    "df_vehicles_clean.drop('EXCEED_SPEED_LIMIT_I', axis=1, inplace=True)"
   ]
  },
  {
   "cell_type": "code",
   "execution_count": 32,
   "metadata": {},
   "outputs": [
    {
     "data": {
      "text/plain": [
       "CRASH_RECORD_ID            0\n",
       "UNIT_NO                    0\n",
       "UNIT_TYPE               1493\n",
       "VEHICLE_ID             22944\n",
       "VEHICLE_DEFECT         22944\n",
       "VEHICLE_TYPE           22944\n",
       "VEHICLE_USE            22944\n",
       "TRAVEL_DIRECTION       22944\n",
       "MANEUVER               22944\n",
       "FIRST_CONTACT_POINT    29500\n",
       "dtype: int64"
      ]
     },
     "execution_count": 32,
     "metadata": {},
     "output_type": "execute_result"
    }
   ],
   "source": [
    "df_vehicles_clean.isnull().sum()"
   ]
  },
  {
   "cell_type": "code",
   "execution_count": 33,
   "metadata": {},
   "outputs": [],
   "source": [
    "df_vehicles_clean.dropna(axis=0, inplace=True)"
   ]
  },
  {
   "cell_type": "code",
   "execution_count": 34,
   "metadata": {},
   "outputs": [
    {
     "data": {
      "text/plain": [
       "CRASH_RECORD_ID        0\n",
       "UNIT_NO                0\n",
       "UNIT_TYPE              0\n",
       "VEHICLE_ID             0\n",
       "VEHICLE_DEFECT         0\n",
       "VEHICLE_TYPE           0\n",
       "VEHICLE_USE            0\n",
       "TRAVEL_DIRECTION       0\n",
       "MANEUVER               0\n",
       "FIRST_CONTACT_POINT    0\n",
       "dtype: int64"
      ]
     },
     "execution_count": 34,
     "metadata": {},
     "output_type": "execute_result"
    }
   ],
   "source": [
    "df_vehicles_clean.isnull().sum()"
   ]
  },
  {
   "cell_type": "markdown",
   "metadata": {},
   "source": [
    "Let's look into what each of the predictors have as it's classes."
   ]
  },
  {
   "cell_type": "code",
   "execution_count": 35,
   "metadata": {},
   "outputs": [
    {
     "name": "stdout",
     "output_type": "stream",
     "text": [
      "\n",
      "UNIT_NO\n",
      "\n",
      "1          483542\n",
      "2          444572\n",
      "3           30661\n",
      "4            6166\n",
      "5            1623\n",
      "6             523\n",
      "7             202\n",
      "8              85\n",
      "9              47\n",
      "10             21\n",
      "11             12\n",
      "12              7\n",
      "13              4\n",
      "14              4\n",
      "15              3\n",
      "0               3\n",
      "16              2\n",
      "17              1\n",
      "18              1\n",
      "3778035         1\n",
      "Name: UNIT_NO, dtype: int64\n",
      "\n",
      "UNIT_TYPE\n",
      "\n",
      "DRIVER                 831739\n",
      "PARKED                 126401\n",
      "DRIVERLESS               9182\n",
      "NON-CONTACT VEHICLE        82\n",
      "DISABLED VEHICLE           76\n",
      "Name: UNIT_TYPE, dtype: int64\n",
      "\n",
      "VEHICLE_ID\n",
      "\n",
      "979749    1\n",
      "306750    1\n",
      "33991     1\n",
      "568167    1\n",
      "8087      1\n",
      "         ..\n",
      "777498    1\n",
      "34277     1\n",
      "647270    1\n",
      "83857     1\n",
      "89286     1\n",
      "Name: VEHICLE_ID, Length: 967480, dtype: int64\n",
      "\n",
      "VEHICLE_DEFECT\n",
      "\n",
      "NONE                562541\n",
      "UNKNOWN             395046\n",
      "OTHER                 4831\n",
      "BRAKES                3321\n",
      "TIRES                  464\n",
      "STEERING               432\n",
      "WHEELS                 230\n",
      "SUSPENSION             151\n",
      "ENGINE/MOTOR           122\n",
      "FUEL SYSTEM            112\n",
      "LIGHTS                  75\n",
      "WINDOWS                 62\n",
      "CARGO                   30\n",
      "SIGNALS                 25\n",
      "RESTRAINT SYSTEM        14\n",
      "EXHAUST                 13\n",
      "TRAILER COUPLING        11\n",
      "Name: VEHICLE_DEFECT, dtype: int64\n",
      "\n",
      "VEHICLE_TYPE\n",
      "\n",
      "PASSENGER                                 614394\n",
      "SPORT UTILITY VEHICLE (SUV)               124763\n",
      "UNKNOWN/NA                                 92308\n",
      "VAN/MINI-VAN                               49481\n",
      "PICKUP                                     28731\n",
      "TRUCK - SINGLE UNIT                        18583\n",
      "OTHER                                      10837\n",
      "BUS OVER 15 PASS.                          10594\n",
      "TRACTOR W/ SEMI-TRAILER                     8937\n",
      "MOTORCYCLE (OVER 150CC)                     2073\n",
      "BUS UP TO 15 PASS.                          1974\n",
      "OTHER VEHICLE WITH TRAILER                  1281\n",
      "TRACTOR W/O SEMI-TRAILER                    1258\n",
      "SINGLE UNIT TRUCK WITH TRAILER              1030\n",
      "AUTOCYCLE                                    603\n",
      "MOTOR DRIVEN CYCLE                           324\n",
      "MOPED OR MOTORIZED BICYCLE                   136\n",
      "ALL-TERRAIN VEHICLE (ATV)                     88\n",
      "FARM EQUIPMENT                                55\n",
      "3-WHEELED MOTORCYCLE (2 REAR WHEELS)          15\n",
      "RECREATIONAL OFF-HIGHWAY VEHICLE (ROV)         8\n",
      "SNOWMOBILE                                     7\n",
      "Name: VEHICLE_TYPE, dtype: int64\n",
      "\n",
      "VEHICLE_USE\n",
      "\n",
      "PERSONAL                        627786\n",
      "UNKNOWN/NA                      188498\n",
      "NOT IN USE                       49075\n",
      "OTHER                            29742\n",
      "TAXI/FOR HIRE                    16277\n",
      "COMMERCIAL - SINGLE UNIT         12280\n",
      "RIDESHARE SERVICE                 9072\n",
      "CTA                               6497\n",
      "POLICE                            6375\n",
      "CONSTRUCTION/MAINTENANCE          4498\n",
      "OTHER TRANSIT                     3964\n",
      "COMMERCIAL - MULTI-UNIT           3932\n",
      "SCHOOL BUS                        2760\n",
      "TOW TRUCK                         1805\n",
      "AMBULANCE                         1096\n",
      "STATE OWNED                        842\n",
      "FIRE                               837\n",
      "MASS TRANSIT                       832\n",
      "DRIVER EDUCATION                   713\n",
      "LAWN CARE/LANDSCAPING              387\n",
      "AGRICULTURE                         97\n",
      "CAMPER/RV - SINGLE UNIT             47\n",
      "MILITARY                            44\n",
      "HOUSE TRAILER                       14\n",
      "CAMPER/RV - TOWED/MULTI-UNIT        10\n",
      "Name: VEHICLE_USE, dtype: int64\n",
      "\n",
      "TRAVEL_DIRECTION\n",
      "\n",
      "N          228217\n",
      "S          222246\n",
      "W          202256\n",
      "E          197917\n",
      "UNKNOWN     75455\n",
      "SE          12138\n",
      "NW          10988\n",
      "SW           9140\n",
      "NE           9123\n",
      "Name: TRAVEL_DIRECTION, dtype: int64\n",
      "\n",
      "MANEUVER\n",
      "\n",
      "STRAIGHT AHEAD                        436848\n",
      "PARKED                                130499\n",
      "SLOW/STOP IN TRAFFIC                   76688\n",
      "UNKNOWN/NA                             75507\n",
      "TURNING LEFT                           56028\n",
      "BACKING                                41658\n",
      "TURNING RIGHT                          31979\n",
      "PASSING/OVERTAKING                     22868\n",
      "CHANGING LANES                         19517\n",
      "OTHER                                  15947\n",
      "ENTERING TRAFFIC LANE FROM PARKING     11479\n",
      "MERGING                                 6719\n",
      "STARTING IN TRAFFIC                     5876\n",
      "U-TURN                                  5216\n",
      "LEAVING TRAFFIC LANE TO PARK            5003\n",
      "AVOIDING VEHICLES/OBJECTS               4242\n",
      "SKIDDING/CONTROL LOSS                   4228\n",
      "ENTER FROM DRIVE/ALLEY                  4089\n",
      "SLOW/STOP - LEFT TURN                   3042\n",
      "PARKED IN TRAFFIC LANE                  2747\n",
      "SLOW/STOP - RIGHT TURN                  1926\n",
      "SLOW/STOP - LOAD/UNLOAD                 1663\n",
      "NEGOTIATING A CURVE                     1374\n",
      "DRIVING WRONG WAY                       1324\n",
      "DRIVERLESS                               404\n",
      "TURNING ON RED                           391\n",
      "DIVERGING                                144\n",
      "DISABLED                                  74\n",
      "Name: MANEUVER, dtype: int64\n",
      "\n",
      "FIRST_CONTACT_POINT\n",
      "\n",
      "FRONT                161499\n",
      "REAR                 102325\n",
      "REAR-LEFT            100639\n",
      "UNKNOWN               90503\n",
      "FRONT-LEFT            88573\n",
      "OTHER                 84252\n",
      "FRONT-RIGHT           80653\n",
      "SIDE-RIGHT            62365\n",
      "SIDE-LEFT             61168\n",
      "TOTAL (ALL AREAS)     48505\n",
      "REAR-RIGHT            41693\n",
      "ROOF                  27423\n",
      "NONE                   9047\n",
      "UNDER CARRIAGE         8835\n",
      "Name: FIRST_CONTACT_POINT, dtype: int64\n"
     ]
    }
   ],
   "source": [
    "for col in df_vehicles_clean.columns[1:]:\n",
    "    print('\\n' + col + '\\n')\n",
    "    print(df_vehicles_clean[col].value_counts())"
   ]
  },
  {
   "cell_type": "markdown",
   "metadata": {},
   "source": [
    "Couple things we can make out from the above details:\n",
    "\n",
    "- We will use 'VEHICLE_ID' to merge this dataset with the People dataset. We will drop 'CRASH_RECORD_ID'.\n",
    "- UNIT_NO is the number of parties involved. We are not concerned with the count so we will drop this.\n",
    "- UNIT_TYPE seems to be an irrelevant columns. We will drop this.\n",
    "- VEHICLE_DEFECT has about 90% of the data as NONE or UNKNOWN. We will drop this as well.\n",
    "- VEHICLE_TYPE is spread pretty thin outside of PASSENGER and SUV. We will drop this column as well.\n",
    "- VEHICLE_USE has majority PERSONAL and UNKNOWN. We will drop this.\n",
    "- TRAVEL_DIRECTION does not add much to the cause. We will drop this.\n",
    "- FIRST_CONTACT_POINT also does not lead to the cause. We will drop this."
   ]
  },
  {
   "cell_type": "code",
   "execution_count": 36,
   "metadata": {},
   "outputs": [],
   "source": [
    "cols_to_delete_vehicles = ['CRASH_RECORD_ID', 'UNIT_NO', 'UNIT_TYPE', 'VEHICLE_DEFECT', 'VEHICLE_TYPE', 'VEHICLE_USE','TRAVEL_DIRECTION','FIRST_CONTACT_POINT']"
   ]
  },
  {
   "cell_type": "code",
   "execution_count": 37,
   "metadata": {},
   "outputs": [],
   "source": [
    "df_vehicles_clean.drop(cols_to_delete_vehicles, axis=1, inplace=True)"
   ]
  },
  {
   "cell_type": "code",
   "execution_count": 38,
   "metadata": {},
   "outputs": [
    {
     "name": "stdout",
     "output_type": "stream",
     "text": [
      "<class 'pandas.core.frame.DataFrame'>\n",
      "Int64Index: 967480 entries, 0 to 996984\n",
      "Data columns (total 2 columns):\n",
      " #   Column      Non-Null Count   Dtype \n",
      "---  ------      --------------   ----- \n",
      " 0   VEHICLE_ID  967480 non-null  object\n",
      " 1   MANEUVER    967480 non-null  object\n",
      "dtypes: object(2)\n",
      "memory usage: 22.1+ MB\n"
     ]
    }
   ],
   "source": [
    "df_vehicles_clean.info()"
   ]
  },
  {
   "cell_type": "code",
   "execution_count": 39,
   "metadata": {},
   "outputs": [],
   "source": [
    "df_vehicles_final = df_vehicles_clean.copy()"
   ]
  },
  {
   "cell_type": "markdown",
   "metadata": {},
   "source": [
    "Moving on to people data set."
   ]
  },
  {
   "cell_type": "markdown",
   "metadata": {},
   "source": [
    "#### 3. Traffic People Dataset"
   ]
  },
  {
   "cell_type": "code",
   "execution_count": 40,
   "metadata": {},
   "outputs": [
    {
     "data": {
      "text/html": [
       "<div>\n",
       "<style scoped>\n",
       "    .dataframe tbody tr th:only-of-type {\n",
       "        vertical-align: middle;\n",
       "    }\n",
       "\n",
       "    .dataframe tbody tr th {\n",
       "        vertical-align: top;\n",
       "    }\n",
       "\n",
       "    .dataframe thead th {\n",
       "        text-align: right;\n",
       "    }\n",
       "</style>\n",
       "<table border=\"1\" class=\"dataframe\">\n",
       "  <thead>\n",
       "    <tr style=\"text-align: right;\">\n",
       "      <th></th>\n",
       "      <th>PERSON_ID</th>\n",
       "      <th>PERSON_TYPE</th>\n",
       "      <th>CRASH_RECORD_ID</th>\n",
       "      <th>RD_NO</th>\n",
       "      <th>VEHICLE_ID</th>\n",
       "      <th>CRASH_DATE</th>\n",
       "      <th>SEAT_NO</th>\n",
       "      <th>CITY</th>\n",
       "      <th>STATE</th>\n",
       "      <th>ZIPCODE</th>\n",
       "      <th>...</th>\n",
       "      <th>EMS_RUN_NO</th>\n",
       "      <th>DRIVER_ACTION</th>\n",
       "      <th>DRIVER_VISION</th>\n",
       "      <th>PHYSICAL_CONDITION</th>\n",
       "      <th>PEDPEDAL_ACTION</th>\n",
       "      <th>PEDPEDAL_VISIBILITY</th>\n",
       "      <th>PEDPEDAL_LOCATION</th>\n",
       "      <th>BAC_RESULT</th>\n",
       "      <th>BAC_RESULT VALUE</th>\n",
       "      <th>CELL_PHONE_USE</th>\n",
       "    </tr>\n",
       "  </thead>\n",
       "  <tbody>\n",
       "    <tr>\n",
       "      <th>0</th>\n",
       "      <td>O749947</td>\n",
       "      <td>DRIVER</td>\n",
       "      <td>81dc0de2ed92aa62baccab641fa377be7feb1cc47e6554...</td>\n",
       "      <td>JC451435</td>\n",
       "      <td>834816</td>\n",
       "      <td>09/28/2019 03:30:00 AM</td>\n",
       "      <td>NaN</td>\n",
       "      <td>CHICAGO</td>\n",
       "      <td>IL</td>\n",
       "      <td>60651</td>\n",
       "      <td>...</td>\n",
       "      <td>NaN</td>\n",
       "      <td>UNKNOWN</td>\n",
       "      <td>UNKNOWN</td>\n",
       "      <td>UNKNOWN</td>\n",
       "      <td>NaN</td>\n",
       "      <td>NaN</td>\n",
       "      <td>NaN</td>\n",
       "      <td>TEST NOT OFFERED</td>\n",
       "      <td>NaN</td>\n",
       "      <td>NaN</td>\n",
       "    </tr>\n",
       "    <tr>\n",
       "      <th>1</th>\n",
       "      <td>O871921</td>\n",
       "      <td>DRIVER</td>\n",
       "      <td>af84fb5c8d996fcd3aefd36593c3a02e6e7509eeb27568...</td>\n",
       "      <td>JD208731</td>\n",
       "      <td>827212</td>\n",
       "      <td>04/13/2020 10:50:00 PM</td>\n",
       "      <td>NaN</td>\n",
       "      <td>CHICAGO</td>\n",
       "      <td>IL</td>\n",
       "      <td>60620</td>\n",
       "      <td>...</td>\n",
       "      <td>NaN</td>\n",
       "      <td>NONE</td>\n",
       "      <td>NOT OBSCURED</td>\n",
       "      <td>NORMAL</td>\n",
       "      <td>NaN</td>\n",
       "      <td>NaN</td>\n",
       "      <td>NaN</td>\n",
       "      <td>TEST NOT OFFERED</td>\n",
       "      <td>NaN</td>\n",
       "      <td>NaN</td>\n",
       "    </tr>\n",
       "    <tr>\n",
       "      <th>2</th>\n",
       "      <td>O10018</td>\n",
       "      <td>DRIVER</td>\n",
       "      <td>71162af7bf22799b776547132ebf134b5b438dcf3dac6b...</td>\n",
       "      <td>HY484534</td>\n",
       "      <td>9579</td>\n",
       "      <td>11/01/2015 05:00:00 AM</td>\n",
       "      <td>NaN</td>\n",
       "      <td>NaN</td>\n",
       "      <td>NaN</td>\n",
       "      <td>NaN</td>\n",
       "      <td>...</td>\n",
       "      <td>NaN</td>\n",
       "      <td>IMPROPER BACKING</td>\n",
       "      <td>UNKNOWN</td>\n",
       "      <td>UNKNOWN</td>\n",
       "      <td>NaN</td>\n",
       "      <td>NaN</td>\n",
       "      <td>NaN</td>\n",
       "      <td>TEST NOT OFFERED</td>\n",
       "      <td>NaN</td>\n",
       "      <td>NaN</td>\n",
       "    </tr>\n",
       "    <tr>\n",
       "      <th>3</th>\n",
       "      <td>O10038</td>\n",
       "      <td>DRIVER</td>\n",
       "      <td>c21c476e2ccc41af550b5d858d22aaac4ffc88745a1700...</td>\n",
       "      <td>HY484750</td>\n",
       "      <td>9598</td>\n",
       "      <td>11/01/2015 08:00:00 AM</td>\n",
       "      <td>NaN</td>\n",
       "      <td>NaN</td>\n",
       "      <td>NaN</td>\n",
       "      <td>NaN</td>\n",
       "      <td>...</td>\n",
       "      <td>NaN</td>\n",
       "      <td>UNKNOWN</td>\n",
       "      <td>UNKNOWN</td>\n",
       "      <td>UNKNOWN</td>\n",
       "      <td>NaN</td>\n",
       "      <td>NaN</td>\n",
       "      <td>NaN</td>\n",
       "      <td>TEST NOT OFFERED</td>\n",
       "      <td>NaN</td>\n",
       "      <td>NaN</td>\n",
       "    </tr>\n",
       "    <tr>\n",
       "      <th>4</th>\n",
       "      <td>O10039</td>\n",
       "      <td>DRIVER</td>\n",
       "      <td>eb390a4c8e114c69488f5fb8a097fe629f5a92fd528cf4...</td>\n",
       "      <td>HY484778</td>\n",
       "      <td>9600</td>\n",
       "      <td>11/01/2015 10:15:00 AM</td>\n",
       "      <td>NaN</td>\n",
       "      <td>NaN</td>\n",
       "      <td>NaN</td>\n",
       "      <td>NaN</td>\n",
       "      <td>...</td>\n",
       "      <td>NaN</td>\n",
       "      <td>UNKNOWN</td>\n",
       "      <td>UNKNOWN</td>\n",
       "      <td>UNKNOWN</td>\n",
       "      <td>NaN</td>\n",
       "      <td>NaN</td>\n",
       "      <td>NaN</td>\n",
       "      <td>TEST NOT OFFERED</td>\n",
       "      <td>NaN</td>\n",
       "      <td>NaN</td>\n",
       "    </tr>\n",
       "  </tbody>\n",
       "</table>\n",
       "<p>5 rows × 30 columns</p>\n",
       "</div>"
      ],
      "text/plain": [
       "  PERSON_ID PERSON_TYPE                                    CRASH_RECORD_ID  \\\n",
       "0   O749947      DRIVER  81dc0de2ed92aa62baccab641fa377be7feb1cc47e6554...   \n",
       "1   O871921      DRIVER  af84fb5c8d996fcd3aefd36593c3a02e6e7509eeb27568...   \n",
       "2    O10018      DRIVER  71162af7bf22799b776547132ebf134b5b438dcf3dac6b...   \n",
       "3    O10038      DRIVER  c21c476e2ccc41af550b5d858d22aaac4ffc88745a1700...   \n",
       "4    O10039      DRIVER  eb390a4c8e114c69488f5fb8a097fe629f5a92fd528cf4...   \n",
       "\n",
       "      RD_NO VEHICLE_ID              CRASH_DATE SEAT_NO     CITY STATE ZIPCODE  \\\n",
       "0  JC451435     834816  09/28/2019 03:30:00 AM     NaN  CHICAGO    IL   60651   \n",
       "1  JD208731     827212  04/13/2020 10:50:00 PM     NaN  CHICAGO    IL   60620   \n",
       "2  HY484534       9579  11/01/2015 05:00:00 AM     NaN      NaN   NaN     NaN   \n",
       "3  HY484750       9598  11/01/2015 08:00:00 AM     NaN      NaN   NaN     NaN   \n",
       "4  HY484778       9600  11/01/2015 10:15:00 AM     NaN      NaN   NaN     NaN   \n",
       "\n",
       "   ... EMS_RUN_NO     DRIVER_ACTION DRIVER_VISION PHYSICAL_CONDITION  \\\n",
       "0  ...        NaN           UNKNOWN       UNKNOWN            UNKNOWN   \n",
       "1  ...        NaN              NONE  NOT OBSCURED             NORMAL   \n",
       "2  ...        NaN  IMPROPER BACKING       UNKNOWN            UNKNOWN   \n",
       "3  ...        NaN           UNKNOWN       UNKNOWN            UNKNOWN   \n",
       "4  ...        NaN           UNKNOWN       UNKNOWN            UNKNOWN   \n",
       "\n",
       "  PEDPEDAL_ACTION PEDPEDAL_VISIBILITY PEDPEDAL_LOCATION        BAC_RESULT  \\\n",
       "0             NaN                 NaN               NaN  TEST NOT OFFERED   \n",
       "1             NaN                 NaN               NaN  TEST NOT OFFERED   \n",
       "2             NaN                 NaN               NaN  TEST NOT OFFERED   \n",
       "3             NaN                 NaN               NaN  TEST NOT OFFERED   \n",
       "4             NaN                 NaN               NaN  TEST NOT OFFERED   \n",
       "\n",
       "  BAC_RESULT VALUE CELL_PHONE_USE  \n",
       "0              NaN            NaN  \n",
       "1              NaN            NaN  \n",
       "2              NaN            NaN  \n",
       "3              NaN            NaN  \n",
       "4              NaN            NaN  \n",
       "\n",
       "[5 rows x 30 columns]"
      ]
     },
     "execution_count": 40,
     "metadata": {},
     "output_type": "execute_result"
    }
   ],
   "source": [
    "df_raw_people.head()"
   ]
  },
  {
   "cell_type": "code",
   "execution_count": 41,
   "metadata": {},
   "outputs": [
    {
     "data": {
      "text/plain": [
       "(1078794, 30)"
      ]
     },
     "execution_count": 41,
     "metadata": {},
     "output_type": "execute_result"
    }
   ],
   "source": [
    "df_raw_people.shape"
   ]
  },
  {
   "cell_type": "code",
   "execution_count": 42,
   "metadata": {},
   "outputs": [
    {
     "data": {
      "text/plain": [
       "Index(['PERSON_ID', 'PERSON_TYPE', 'CRASH_RECORD_ID', 'RD_NO', 'VEHICLE_ID',\n",
       "       'CRASH_DATE', 'SEAT_NO', 'CITY', 'STATE', 'ZIPCODE', 'SEX', 'AGE',\n",
       "       'DRIVERS_LICENSE_STATE', 'DRIVERS_LICENSE_CLASS', 'SAFETY_EQUIPMENT',\n",
       "       'AIRBAG_DEPLOYED', 'EJECTION', 'INJURY_CLASSIFICATION', 'HOSPITAL',\n",
       "       'EMS_AGENCY', 'EMS_RUN_NO', 'DRIVER_ACTION', 'DRIVER_VISION',\n",
       "       'PHYSICAL_CONDITION', 'PEDPEDAL_ACTION', 'PEDPEDAL_VISIBILITY',\n",
       "       'PEDPEDAL_LOCATION', 'BAC_RESULT', 'BAC_RESULT VALUE',\n",
       "       'CELL_PHONE_USE'],\n",
       "      dtype='object')"
      ]
     },
     "execution_count": 42,
     "metadata": {},
     "output_type": "execute_result"
    }
   ],
   "source": [
    "df_raw_people.columns"
   ]
  },
  {
   "cell_type": "markdown",
   "metadata": {},
   "source": [
    "With the people dataset, we will be looking at the characterstics of the person and action he/she took to determine the cause fo the accident. With this in mind we can delete the following variables."
   ]
  },
  {
   "cell_type": "code",
   "execution_count": 43,
   "metadata": {},
   "outputs": [],
   "source": [
    "columns_to_delete_people = ['PERSON_ID', 'RD_NO', 'CRASH_DATE', 'SEAT_NO', 'CITY', 'STATE', 'ZIPCODE',\n",
    "       'DRIVERS_LICENSE_STATE', 'DRIVERS_LICENSE_CLASS', 'SAFETY_EQUIPMENT', 'AIRBAG_DEPLOYED', 'EJECTION', \n",
    "       'INJURY_CLASSIFICATION', 'HOSPITAL', 'EMS_AGENCY', 'EMS_RUN_NO','PEDPEDAL_LOCATION']"
   ]
  },
  {
   "cell_type": "code",
   "execution_count": 44,
   "metadata": {},
   "outputs": [],
   "source": [
    "df_people_clean = df_raw_people.drop(columns_to_delete_people, axis=1).copy()"
   ]
  },
  {
   "cell_type": "code",
   "execution_count": 45,
   "metadata": {},
   "outputs": [
    {
     "data": {
      "text/html": [
       "<div>\n",
       "<style scoped>\n",
       "    .dataframe tbody tr th:only-of-type {\n",
       "        vertical-align: middle;\n",
       "    }\n",
       "\n",
       "    .dataframe tbody tr th {\n",
       "        vertical-align: top;\n",
       "    }\n",
       "\n",
       "    .dataframe thead th {\n",
       "        text-align: right;\n",
       "    }\n",
       "</style>\n",
       "<table border=\"1\" class=\"dataframe\">\n",
       "  <thead>\n",
       "    <tr style=\"text-align: right;\">\n",
       "      <th></th>\n",
       "      <th>PERSON_TYPE</th>\n",
       "      <th>CRASH_RECORD_ID</th>\n",
       "      <th>VEHICLE_ID</th>\n",
       "      <th>SEX</th>\n",
       "      <th>AGE</th>\n",
       "      <th>DRIVER_ACTION</th>\n",
       "      <th>DRIVER_VISION</th>\n",
       "      <th>PHYSICAL_CONDITION</th>\n",
       "      <th>PEDPEDAL_ACTION</th>\n",
       "      <th>PEDPEDAL_VISIBILITY</th>\n",
       "      <th>BAC_RESULT</th>\n",
       "      <th>BAC_RESULT VALUE</th>\n",
       "      <th>CELL_PHONE_USE</th>\n",
       "    </tr>\n",
       "  </thead>\n",
       "  <tbody>\n",
       "    <tr>\n",
       "      <th>0</th>\n",
       "      <td>DRIVER</td>\n",
       "      <td>81dc0de2ed92aa62baccab641fa377be7feb1cc47e6554...</td>\n",
       "      <td>834816</td>\n",
       "      <td>M</td>\n",
       "      <td>25</td>\n",
       "      <td>UNKNOWN</td>\n",
       "      <td>UNKNOWN</td>\n",
       "      <td>UNKNOWN</td>\n",
       "      <td>NaN</td>\n",
       "      <td>NaN</td>\n",
       "      <td>TEST NOT OFFERED</td>\n",
       "      <td>NaN</td>\n",
       "      <td>NaN</td>\n",
       "    </tr>\n",
       "    <tr>\n",
       "      <th>1</th>\n",
       "      <td>DRIVER</td>\n",
       "      <td>af84fb5c8d996fcd3aefd36593c3a02e6e7509eeb27568...</td>\n",
       "      <td>827212</td>\n",
       "      <td>M</td>\n",
       "      <td>37</td>\n",
       "      <td>NONE</td>\n",
       "      <td>NOT OBSCURED</td>\n",
       "      <td>NORMAL</td>\n",
       "      <td>NaN</td>\n",
       "      <td>NaN</td>\n",
       "      <td>TEST NOT OFFERED</td>\n",
       "      <td>NaN</td>\n",
       "      <td>NaN</td>\n",
       "    </tr>\n",
       "    <tr>\n",
       "      <th>2</th>\n",
       "      <td>DRIVER</td>\n",
       "      <td>71162af7bf22799b776547132ebf134b5b438dcf3dac6b...</td>\n",
       "      <td>9579</td>\n",
       "      <td>X</td>\n",
       "      <td>NaN</td>\n",
       "      <td>IMPROPER BACKING</td>\n",
       "      <td>UNKNOWN</td>\n",
       "      <td>UNKNOWN</td>\n",
       "      <td>NaN</td>\n",
       "      <td>NaN</td>\n",
       "      <td>TEST NOT OFFERED</td>\n",
       "      <td>NaN</td>\n",
       "      <td>NaN</td>\n",
       "    </tr>\n",
       "    <tr>\n",
       "      <th>3</th>\n",
       "      <td>DRIVER</td>\n",
       "      <td>c21c476e2ccc41af550b5d858d22aaac4ffc88745a1700...</td>\n",
       "      <td>9598</td>\n",
       "      <td>X</td>\n",
       "      <td>NaN</td>\n",
       "      <td>UNKNOWN</td>\n",
       "      <td>UNKNOWN</td>\n",
       "      <td>UNKNOWN</td>\n",
       "      <td>NaN</td>\n",
       "      <td>NaN</td>\n",
       "      <td>TEST NOT OFFERED</td>\n",
       "      <td>NaN</td>\n",
       "      <td>NaN</td>\n",
       "    </tr>\n",
       "    <tr>\n",
       "      <th>4</th>\n",
       "      <td>DRIVER</td>\n",
       "      <td>eb390a4c8e114c69488f5fb8a097fe629f5a92fd528cf4...</td>\n",
       "      <td>9600</td>\n",
       "      <td>X</td>\n",
       "      <td>NaN</td>\n",
       "      <td>UNKNOWN</td>\n",
       "      <td>UNKNOWN</td>\n",
       "      <td>UNKNOWN</td>\n",
       "      <td>NaN</td>\n",
       "      <td>NaN</td>\n",
       "      <td>TEST NOT OFFERED</td>\n",
       "      <td>NaN</td>\n",
       "      <td>NaN</td>\n",
       "    </tr>\n",
       "  </tbody>\n",
       "</table>\n",
       "</div>"
      ],
      "text/plain": [
       "  PERSON_TYPE                                    CRASH_RECORD_ID VEHICLE_ID  \\\n",
       "0      DRIVER  81dc0de2ed92aa62baccab641fa377be7feb1cc47e6554...     834816   \n",
       "1      DRIVER  af84fb5c8d996fcd3aefd36593c3a02e6e7509eeb27568...     827212   \n",
       "2      DRIVER  71162af7bf22799b776547132ebf134b5b438dcf3dac6b...       9579   \n",
       "3      DRIVER  c21c476e2ccc41af550b5d858d22aaac4ffc88745a1700...       9598   \n",
       "4      DRIVER  eb390a4c8e114c69488f5fb8a097fe629f5a92fd528cf4...       9600   \n",
       "\n",
       "  SEX  AGE     DRIVER_ACTION DRIVER_VISION PHYSICAL_CONDITION PEDPEDAL_ACTION  \\\n",
       "0   M   25           UNKNOWN       UNKNOWN            UNKNOWN             NaN   \n",
       "1   M   37              NONE  NOT OBSCURED             NORMAL             NaN   \n",
       "2   X  NaN  IMPROPER BACKING       UNKNOWN            UNKNOWN             NaN   \n",
       "3   X  NaN           UNKNOWN       UNKNOWN            UNKNOWN             NaN   \n",
       "4   X  NaN           UNKNOWN       UNKNOWN            UNKNOWN             NaN   \n",
       "\n",
       "  PEDPEDAL_VISIBILITY        BAC_RESULT BAC_RESULT VALUE CELL_PHONE_USE  \n",
       "0                 NaN  TEST NOT OFFERED              NaN            NaN  \n",
       "1                 NaN  TEST NOT OFFERED              NaN            NaN  \n",
       "2                 NaN  TEST NOT OFFERED              NaN            NaN  \n",
       "3                 NaN  TEST NOT OFFERED              NaN            NaN  \n",
       "4                 NaN  TEST NOT OFFERED              NaN            NaN  "
      ]
     },
     "execution_count": 45,
     "metadata": {},
     "output_type": "execute_result"
    }
   ],
   "source": [
    "df_people_clean.head()"
   ]
  },
  {
   "cell_type": "code",
   "execution_count": 46,
   "metadata": {},
   "outputs": [
    {
     "data": {
      "text/plain": [
       "PERSON_TYPE                  0\n",
       "CRASH_RECORD_ID              0\n",
       "VEHICLE_ID               21321\n",
       "SEX                      15993\n",
       "AGE                     307617\n",
       "DRIVER_ACTION           222354\n",
       "DRIVER_VISION           222636\n",
       "PHYSICAL_CONDITION      221732\n",
       "PEDPEDAL_ACTION        1058768\n",
       "PEDPEDAL_VISIBILITY    1058811\n",
       "BAC_RESULT              221238\n",
       "BAC_RESULT VALUE       1077406\n",
       "CELL_PHONE_USE         1077637\n",
       "dtype: int64"
      ]
     },
     "execution_count": 46,
     "metadata": {},
     "output_type": "execute_result"
    }
   ],
   "source": [
    "df_people_clean.isnull().sum()"
   ]
  },
  {
   "cell_type": "code",
   "execution_count": 47,
   "metadata": {},
   "outputs": [
    {
     "data": {
      "text/plain": [
       "(1078794, 13)"
      ]
     },
     "execution_count": 47,
     "metadata": {},
     "output_type": "execute_result"
    }
   ],
   "source": [
    "df_people_clean.shape"
   ]
  },
  {
   "cell_type": "markdown",
   "metadata": {},
   "source": [
    "Majority values are missing for 'PEPPEDAL_ACTION', 'PEDPEDAL_VISIBILITY', 'BAC_RESULT_VALUE', and 'CELL_PHONE_USE'. We will drop these columns."
   ]
  },
  {
   "cell_type": "code",
   "execution_count": 48,
   "metadata": {},
   "outputs": [],
   "source": [
    "df_people_clean.drop(['PEDPEDAL_ACTION','PEDPEDAL_VISIBILITY', 'BAC_RESULT VALUE', 'CELL_PHONE_USE'], axis=1, inplace=True)"
   ]
  },
  {
   "cell_type": "code",
   "execution_count": 49,
   "metadata": {},
   "outputs": [
    {
     "data": {
      "text/plain": [
       "PERSON_TYPE                0\n",
       "CRASH_RECORD_ID            0\n",
       "VEHICLE_ID             21321\n",
       "SEX                    15993\n",
       "AGE                   307617\n",
       "DRIVER_ACTION         222354\n",
       "DRIVER_VISION         222636\n",
       "PHYSICAL_CONDITION    221732\n",
       "BAC_RESULT            221238\n",
       "dtype: int64"
      ]
     },
     "execution_count": 49,
     "metadata": {},
     "output_type": "execute_result"
    }
   ],
   "source": [
    "df_people_clean.isnull().sum()"
   ]
  },
  {
   "cell_type": "markdown",
   "metadata": {},
   "source": [
    "Let's check the unique categories in each of our remainder variables."
   ]
  },
  {
   "cell_type": "code",
   "execution_count": 50,
   "metadata": {},
   "outputs": [
    {
     "name": "stdout",
     "output_type": "stream",
     "text": [
      "\n",
      "PERSON_TYPE\n",
      "\n",
      "DRIVER                 837641\n",
      "PASSENGER              220280\n",
      "PEDESTRIAN              12469\n",
      "BICYCLE                  7249\n",
      "NON-MOTOR VEHICLE         954\n",
      "NON-CONTACT VEHICLE       201\n",
      "Name: PERSON_TYPE, dtype: int64\n",
      "\n",
      "CRASH_RECORD_ID\n",
      "\n",
      "31ecf6862c691ff12d3856213b902c146b07337b42a5692e3a176a66d684d221028bb5118ef6d67a313bcaed9e97bee1855cb1f5e8650f49e8dc17663475a1ee    61\n",
      "13026c7fb51566d9ca487a093e38c6f5621c2ec25be48c306b6574983b61daeee589524b96bb2bfe66ddd0f695c8d2bf3ab0297558528e9c7a70363c763d6bd1    50\n",
      "1829f52c1281a0396ef94692331b3dc530bc4be5a54cd55e94c24a5e5e49b800fbcf9f24dabe4c8277c8964ad05aadc89e90fd94021959d6dff5fad55480d595    46\n",
      "c727dc759107cf17b2e8141149347128bb4bc26b026c7805562206c7c5761c543dd7cc0e47fc11379455a2ecbb2847c3d1744d6feb78f276d9a457e9beeb6121    45\n",
      "60fbcef1942e23e9d93ba3fd5dd7f1da2c5b1e4bcc30731363a0f9ed822b5971a38d109cace85875dc2a7321d8a28ba40f24548d9ddd728f600af3b08c036a70    44\n",
      "                                                                                                                                    ..\n",
      "06cb2fe317a74d1222d2d578a21e58fa047ad647c19b18581ded97043366c8f2cc03a25b40a5e0c8d7d581cef5008304949a82a86cebd6b96c39def2705bdd6c     1\n",
      "27b10d142a9424b1a1e065ab506f065cb307df8d87af9356a654d3f746167ee93af603243c3565efde545247e07c79768454ecf68ab6c2f6f8848d5f0c9c9294     1\n",
      "5615ba1799c30762d4bc36dd5f9eb10c300385cad5a269742b6b504e13d6cb10751e80cfacabf002163a28a40608881bfd6cf6b586090c0147c938c831fd30a5     1\n",
      "7d64aa7b84517c5a318f638a0419658743999f1e2df3f31ee18b5f5788620888a09e49959c18fd4ccba886b6f9c4ab40a5d34b0dd5fb52a4ab5bbd66ad16b15c     1\n",
      "f6435d0d8420453862460aa1d62e3d32505cd9d01265a55460d46553a3dde9452325ca11130ab081814545ff2f16074a417af354b509f3c778f643b806383f5f     1\n",
      "Name: CRASH_RECORD_ID, Length: 487310, dtype: int64\n",
      "\n",
      "VEHICLE_ID\n",
      "\n",
      "332155    60\n",
      "643997    47\n",
      "366311    44\n",
      "162199    44\n",
      "25920     43\n",
      "          ..\n",
      "464457     1\n",
      "232578     1\n",
      "445234     1\n",
      "897380     1\n",
      "45810      1\n",
      "Name: VEHICLE_ID, Length: 847578, dtype: int64\n",
      "\n",
      "SEX\n",
      "\n",
      "M    563519\n",
      "F    407924\n",
      "X     91358\n",
      "Name: SEX, dtype: int64\n",
      "\n",
      "AGE\n",
      "\n",
      "25      22206\n",
      "26      22012\n",
      "27      21854\n",
      "24      21399\n",
      "28      21253\n",
      "        ...  \n",
      "-49         1\n",
      "-177        1\n",
      "106         1\n",
      "-40         1\n",
      "-47         1\n",
      "Name: AGE, Length: 115, dtype: int64\n",
      "\n",
      "DRIVER_ACTION\n",
      "\n",
      "NONE                                 312944\n",
      "UNKNOWN                              202019\n",
      "FAILED TO YIELD                       80171\n",
      "OTHER                                 72943\n",
      "FOLLOWED TOO CLOSELY                  56160\n",
      "IMPROPER BACKING                      27658\n",
      "IMPROPER LANE CHANGE                  22914\n",
      "IMPROPER TURN                         22789\n",
      "IMPROPER PASSING                      18962\n",
      "TOO FAST FOR CONDITIONS               14297\n",
      "DISREGARDED CONTROL DEVICES           13932\n",
      "IMPROPER PARKING                       3365\n",
      "WRONG WAY/SIDE                         3162\n",
      "EVADING POLICE VEHICLE                 1457\n",
      "CELL PHONE USE OTHER THAN TEXTING      1450\n",
      "OVERCORRECTED                           875\n",
      "EMERGENCY VEHICLE ON CALL               823\n",
      "TEXTING                                 382\n",
      "STOPPED SCHOOL BUS                      100\n",
      "LICENSE RESTRICTIONS                     37\n",
      "Name: DRIVER_ACTION, dtype: int64\n",
      "\n",
      "DRIVER_VISION\n",
      "\n",
      "NOT OBSCURED              469038\n",
      "UNKNOWN                   364670\n",
      "OTHER                       9095\n",
      "MOVING VEHICLES             5348\n",
      "PARKED VEHICLES             3209\n",
      "WINDSHIELD (WATER/ICE)      2727\n",
      "BLINDED - SUNLIGHT          1028\n",
      "TREES, PLANTS                403\n",
      "BUILDINGS                    344\n",
      "BLINDED - HEADLIGHTS          83\n",
      "BLOWING MATERIALS             70\n",
      "HILLCREST                     65\n",
      "EMBANKMENT                    56\n",
      "SIGNBOARD                     22\n",
      "Name: DRIVER_VISION, dtype: int64\n",
      "\n",
      "PHYSICAL_CONDITION\n",
      "\n",
      "NORMAL                          575734\n",
      "UNKNOWN                         265076\n",
      "IMPAIRED - ALCOHOL                4188\n",
      "REMOVED BY EMS                    3352\n",
      "OTHER                             2387\n",
      "FATIGUED/ASLEEP                   2275\n",
      "EMOTIONAL                         1782\n",
      "ILLNESS/FAINTED                    782\n",
      "HAD BEEN DRINKING                  687\n",
      "IMPAIRED - DRUGS                   501\n",
      "IMPAIRED - ALCOHOL AND DRUGS       188\n",
      "MEDICATED                          110\n",
      "Name: PHYSICAL_CONDITION, dtype: int64\n",
      "\n",
      "BAC_RESULT\n",
      "\n",
      "TEST NOT OFFERED                   844438\n",
      "TEST REFUSED                         9278\n",
      "TEST PERFORMED, RESULTS UNKNOWN      2205\n",
      "TEST TAKEN                           1635\n",
      "Name: BAC_RESULT, dtype: int64\n"
     ]
    }
   ],
   "source": [
    "for col in df_people_clean.columns:\n",
    "    print('\\n' + col + '\\n')\n",
    "    print(df_people_clean[col].value_counts())"
   ]
  },
  {
   "cell_type": "markdown",
   "metadata": {},
   "source": [
    "Looking at the details above:\n",
    "\n",
    "- We are only intersted in the DRIVER for PERSON_TYPE. We will slice the rest out of the dataset.\n",
    "- 'SEX - X' and negative 'AGE' values will also be out of scope. We will slice them out of the dataset.\n",
    "- DRIVER_ACTION seems like a target variable rather than a predictor. We will drop this column.\n",
    "- BAC_RESULT has mostly TEST NOT OFFERED. the rest of the data will not be able to add any weight for this column. We will drop this as well."
   ]
  },
  {
   "cell_type": "code",
   "execution_count": 51,
   "metadata": {},
   "outputs": [],
   "source": [
    "cols_to_delete_people = ['BAC_RESULT']"
   ]
  },
  {
   "cell_type": "code",
   "execution_count": 52,
   "metadata": {},
   "outputs": [],
   "source": [
    "df_people_clean.drop(cols_to_delete_people, axis=1, inplace=True)"
   ]
  },
  {
   "cell_type": "markdown",
   "metadata": {},
   "source": [
    "Now let's slice the PERSON_TYPE, AGE and SEX columns."
   ]
  },
  {
   "cell_type": "code",
   "execution_count": 53,
   "metadata": {},
   "outputs": [],
   "source": [
    "df_people_final = df_people_clean[(df_people_clean['PERSON_TYPE'] == 'DRIVER') & \n",
    "                                  (df_people_clean['SEX'] != 'X') &\n",
    "                                  (df_people_clean['AGE'] > '0')].copy()"
   ]
  },
  {
   "cell_type": "code",
   "execution_count": 54,
   "metadata": {},
   "outputs": [
    {
     "data": {
      "text/html": [
       "<div>\n",
       "<style scoped>\n",
       "    .dataframe tbody tr th:only-of-type {\n",
       "        vertical-align: middle;\n",
       "    }\n",
       "\n",
       "    .dataframe tbody tr th {\n",
       "        vertical-align: top;\n",
       "    }\n",
       "\n",
       "    .dataframe thead th {\n",
       "        text-align: right;\n",
       "    }\n",
       "</style>\n",
       "<table border=\"1\" class=\"dataframe\">\n",
       "  <thead>\n",
       "    <tr style=\"text-align: right;\">\n",
       "      <th></th>\n",
       "      <th>PERSON_TYPE</th>\n",
       "      <th>CRASH_RECORD_ID</th>\n",
       "      <th>VEHICLE_ID</th>\n",
       "      <th>SEX</th>\n",
       "      <th>AGE</th>\n",
       "      <th>DRIVER_ACTION</th>\n",
       "      <th>DRIVER_VISION</th>\n",
       "      <th>PHYSICAL_CONDITION</th>\n",
       "    </tr>\n",
       "  </thead>\n",
       "  <tbody>\n",
       "    <tr>\n",
       "      <th>0</th>\n",
       "      <td>DRIVER</td>\n",
       "      <td>81dc0de2ed92aa62baccab641fa377be7feb1cc47e6554...</td>\n",
       "      <td>834816</td>\n",
       "      <td>M</td>\n",
       "      <td>25</td>\n",
       "      <td>UNKNOWN</td>\n",
       "      <td>UNKNOWN</td>\n",
       "      <td>UNKNOWN</td>\n",
       "    </tr>\n",
       "    <tr>\n",
       "      <th>1</th>\n",
       "      <td>DRIVER</td>\n",
       "      <td>af84fb5c8d996fcd3aefd36593c3a02e6e7509eeb27568...</td>\n",
       "      <td>827212</td>\n",
       "      <td>M</td>\n",
       "      <td>37</td>\n",
       "      <td>NONE</td>\n",
       "      <td>NOT OBSCURED</td>\n",
       "      <td>NORMAL</td>\n",
       "    </tr>\n",
       "    <tr>\n",
       "      <th>12</th>\n",
       "      <td>DRIVER</td>\n",
       "      <td>f25f09798b51603bde602ded37fea826fc8b7f962fc3b0...</td>\n",
       "      <td>805348</td>\n",
       "      <td>F</td>\n",
       "      <td>34</td>\n",
       "      <td>UNKNOWN</td>\n",
       "      <td>NOT OBSCURED</td>\n",
       "      <td>NORMAL</td>\n",
       "    </tr>\n",
       "    <tr>\n",
       "      <th>13</th>\n",
       "      <td>DRIVER</td>\n",
       "      <td>e9146986f4b0884d00ff3a54da5249263b4b36c15d01ce...</td>\n",
       "      <td>832624</td>\n",
       "      <td>M</td>\n",
       "      <td>53</td>\n",
       "      <td>UNKNOWN</td>\n",
       "      <td>UNKNOWN</td>\n",
       "      <td>NORMAL</td>\n",
       "    </tr>\n",
       "    <tr>\n",
       "      <th>14</th>\n",
       "      <td>DRIVER</td>\n",
       "      <td>f15ccbd94a8e29ce8424882ce93061d4e1d0deb214acfe...</td>\n",
       "      <td>833984</td>\n",
       "      <td>M</td>\n",
       "      <td>65</td>\n",
       "      <td>UNKNOWN</td>\n",
       "      <td>UNKNOWN</td>\n",
       "      <td>NORMAL</td>\n",
       "    </tr>\n",
       "  </tbody>\n",
       "</table>\n",
       "</div>"
      ],
      "text/plain": [
       "   PERSON_TYPE                                    CRASH_RECORD_ID VEHICLE_ID  \\\n",
       "0       DRIVER  81dc0de2ed92aa62baccab641fa377be7feb1cc47e6554...     834816   \n",
       "1       DRIVER  af84fb5c8d996fcd3aefd36593c3a02e6e7509eeb27568...     827212   \n",
       "12      DRIVER  f25f09798b51603bde602ded37fea826fc8b7f962fc3b0...     805348   \n",
       "13      DRIVER  e9146986f4b0884d00ff3a54da5249263b4b36c15d01ce...     832624   \n",
       "14      DRIVER  f15ccbd94a8e29ce8424882ce93061d4e1d0deb214acfe...     833984   \n",
       "\n",
       "   SEX AGE DRIVER_ACTION DRIVER_VISION PHYSICAL_CONDITION  \n",
       "0    M  25       UNKNOWN       UNKNOWN            UNKNOWN  \n",
       "1    M  37          NONE  NOT OBSCURED             NORMAL  \n",
       "12   F  34       UNKNOWN  NOT OBSCURED             NORMAL  \n",
       "13   M  53       UNKNOWN       UNKNOWN             NORMAL  \n",
       "14   M  65       UNKNOWN       UNKNOWN             NORMAL  "
      ]
     },
     "execution_count": 54,
     "metadata": {},
     "output_type": "execute_result"
    }
   ],
   "source": [
    "df_people_final.head()"
   ]
  },
  {
   "cell_type": "code",
   "execution_count": 55,
   "metadata": {},
   "outputs": [
    {
     "data": {
      "text/plain": [
       "(613186, 8)"
      ]
     },
     "execution_count": 55,
     "metadata": {},
     "output_type": "execute_result"
    }
   ],
   "source": [
    "df_people_final.shape"
   ]
  },
  {
   "cell_type": "markdown",
   "metadata": {},
   "source": [
    "### Merge all datasets"
   ]
  },
  {
   "cell_type": "markdown",
   "metadata": {},
   "source": [
    "Now, that all the datasets are cleaned, let's merge them."
   ]
  },
  {
   "cell_type": "code",
   "execution_count": 56,
   "metadata": {},
   "outputs": [],
   "source": [
    "df1 = df_crashes_final\n",
    "df2 = df_vehicles_final\n",
    "df3 = df_people_final"
   ]
  },
  {
   "cell_type": "markdown",
   "metadata": {},
   "source": [
    "Starting with the *Vehicle* and *People* datasets, since these are instances reported for the crash aka vehicle involved. Let's use the Vehicle_ID as the unique ID to merge these two datasets."
   ]
  },
  {
   "cell_type": "code",
   "execution_count": 57,
   "metadata": {},
   "outputs": [],
   "source": [
    "df_v = pd.merge(df2, df3, on=['VEHICLE_ID'], how = 'inner')"
   ]
  },
  {
   "cell_type": "code",
   "execution_count": 58,
   "metadata": {},
   "outputs": [
    {
     "data": {
      "text/html": [
       "<div>\n",
       "<style scoped>\n",
       "    .dataframe tbody tr th:only-of-type {\n",
       "        vertical-align: middle;\n",
       "    }\n",
       "\n",
       "    .dataframe tbody tr th {\n",
       "        vertical-align: top;\n",
       "    }\n",
       "\n",
       "    .dataframe thead th {\n",
       "        text-align: right;\n",
       "    }\n",
       "</style>\n",
       "<table border=\"1\" class=\"dataframe\">\n",
       "  <thead>\n",
       "    <tr style=\"text-align: right;\">\n",
       "      <th></th>\n",
       "      <th>VEHICLE_ID</th>\n",
       "      <th>MANEUVER</th>\n",
       "      <th>PERSON_TYPE</th>\n",
       "      <th>CRASH_RECORD_ID</th>\n",
       "      <th>SEX</th>\n",
       "      <th>AGE</th>\n",
       "      <th>DRIVER_ACTION</th>\n",
       "      <th>DRIVER_VISION</th>\n",
       "      <th>PHYSICAL_CONDITION</th>\n",
       "    </tr>\n",
       "  </thead>\n",
       "  <tbody>\n",
       "    <tr>\n",
       "      <th>0</th>\n",
       "      <td>796949</td>\n",
       "      <td>STRAIGHT AHEAD</td>\n",
       "      <td>DRIVER</td>\n",
       "      <td>24ddf9fd8542199d832e1c223cc474e5601b356f1d77a6...</td>\n",
       "      <td>M</td>\n",
       "      <td>35</td>\n",
       "      <td>NONE</td>\n",
       "      <td>NOT OBSCURED</td>\n",
       "      <td>NORMAL</td>\n",
       "    </tr>\n",
       "    <tr>\n",
       "      <th>1</th>\n",
       "      <td>834816</td>\n",
       "      <td>STRAIGHT AHEAD</td>\n",
       "      <td>DRIVER</td>\n",
       "      <td>81dc0de2ed92aa62baccab641fa377be7feb1cc47e6554...</td>\n",
       "      <td>M</td>\n",
       "      <td>25</td>\n",
       "      <td>UNKNOWN</td>\n",
       "      <td>UNKNOWN</td>\n",
       "      <td>UNKNOWN</td>\n",
       "    </tr>\n",
       "    <tr>\n",
       "      <th>2</th>\n",
       "      <td>827212</td>\n",
       "      <td>STRAIGHT AHEAD</td>\n",
       "      <td>DRIVER</td>\n",
       "      <td>af84fb5c8d996fcd3aefd36593c3a02e6e7509eeb27568...</td>\n",
       "      <td>M</td>\n",
       "      <td>37</td>\n",
       "      <td>NONE</td>\n",
       "      <td>NOT OBSCURED</td>\n",
       "      <td>NORMAL</td>\n",
       "    </tr>\n",
       "    <tr>\n",
       "      <th>3</th>\n",
       "      <td>792247</td>\n",
       "      <td>STRAIGHT AHEAD</td>\n",
       "      <td>DRIVER</td>\n",
       "      <td>ecf9e646f89a73ed3df0f373e4fbd18e91f5a595004019...</td>\n",
       "      <td>F</td>\n",
       "      <td>32</td>\n",
       "      <td>DISREGARDED CONTROL DEVICES</td>\n",
       "      <td>NOT OBSCURED</td>\n",
       "      <td>NORMAL</td>\n",
       "    </tr>\n",
       "    <tr>\n",
       "      <th>4</th>\n",
       "      <td>792252</td>\n",
       "      <td>STRAIGHT AHEAD</td>\n",
       "      <td>DRIVER</td>\n",
       "      <td>ecf9e646f89a73ed3df0f373e4fbd18e91f5a595004019...</td>\n",
       "      <td>F</td>\n",
       "      <td>37</td>\n",
       "      <td>NONE</td>\n",
       "      <td>NOT OBSCURED</td>\n",
       "      <td>NORMAL</td>\n",
       "    </tr>\n",
       "    <tr>\n",
       "      <th>...</th>\n",
       "      <td>...</td>\n",
       "      <td>...</td>\n",
       "      <td>...</td>\n",
       "      <td>...</td>\n",
       "      <td>...</td>\n",
       "      <td>...</td>\n",
       "      <td>...</td>\n",
       "      <td>...</td>\n",
       "      <td>...</td>\n",
       "    </tr>\n",
       "    <tr>\n",
       "      <th>608330</th>\n",
       "      <td>1006407</td>\n",
       "      <td>STRAIGHT AHEAD</td>\n",
       "      <td>DRIVER</td>\n",
       "      <td>927b6872d8bd9525e808e2f89d962b96e56b64c734ecdf...</td>\n",
       "      <td>F</td>\n",
       "      <td>29</td>\n",
       "      <td>OTHER</td>\n",
       "      <td>UNKNOWN</td>\n",
       "      <td>NORMAL</td>\n",
       "    </tr>\n",
       "    <tr>\n",
       "      <th>608331</th>\n",
       "      <td>1006408</td>\n",
       "      <td>TURNING LEFT</td>\n",
       "      <td>DRIVER</td>\n",
       "      <td>927b6872d8bd9525e808e2f89d962b96e56b64c734ecdf...</td>\n",
       "      <td>M</td>\n",
       "      <td>42</td>\n",
       "      <td>OTHER</td>\n",
       "      <td>UNKNOWN</td>\n",
       "      <td>NORMAL</td>\n",
       "    </tr>\n",
       "    <tr>\n",
       "      <th>608332</th>\n",
       "      <td>1007674</td>\n",
       "      <td>STRAIGHT AHEAD</td>\n",
       "      <td>DRIVER</td>\n",
       "      <td>779616321ef7268ea183bea47805a63bc4f9bc6819c4ac...</td>\n",
       "      <td>M</td>\n",
       "      <td>27</td>\n",
       "      <td>FAILED TO YIELD</td>\n",
       "      <td>NOT OBSCURED</td>\n",
       "      <td>NORMAL</td>\n",
       "    </tr>\n",
       "    <tr>\n",
       "      <th>608333</th>\n",
       "      <td>1007675</td>\n",
       "      <td>STRAIGHT AHEAD</td>\n",
       "      <td>DRIVER</td>\n",
       "      <td>779616321ef7268ea183bea47805a63bc4f9bc6819c4ac...</td>\n",
       "      <td>M</td>\n",
       "      <td>53</td>\n",
       "      <td>NONE</td>\n",
       "      <td>NOT OBSCURED</td>\n",
       "      <td>NORMAL</td>\n",
       "    </tr>\n",
       "    <tr>\n",
       "      <th>608334</th>\n",
       "      <td>1007883</td>\n",
       "      <td>SLOW/STOP IN TRAFFIC</td>\n",
       "      <td>DRIVER</td>\n",
       "      <td>e5f38d35bfeb8107b424d58a54fd314bd723e489912484...</td>\n",
       "      <td>F</td>\n",
       "      <td>85</td>\n",
       "      <td>NONE</td>\n",
       "      <td>NOT OBSCURED</td>\n",
       "      <td>NORMAL</td>\n",
       "    </tr>\n",
       "  </tbody>\n",
       "</table>\n",
       "<p>608335 rows × 9 columns</p>\n",
       "</div>"
      ],
      "text/plain": [
       "       VEHICLE_ID              MANEUVER PERSON_TYPE  \\\n",
       "0          796949        STRAIGHT AHEAD      DRIVER   \n",
       "1          834816        STRAIGHT AHEAD      DRIVER   \n",
       "2          827212        STRAIGHT AHEAD      DRIVER   \n",
       "3          792247        STRAIGHT AHEAD      DRIVER   \n",
       "4          792252        STRAIGHT AHEAD      DRIVER   \n",
       "...           ...                   ...         ...   \n",
       "608330    1006407        STRAIGHT AHEAD      DRIVER   \n",
       "608331    1006408          TURNING LEFT      DRIVER   \n",
       "608332    1007674        STRAIGHT AHEAD      DRIVER   \n",
       "608333    1007675        STRAIGHT AHEAD      DRIVER   \n",
       "608334    1007883  SLOW/STOP IN TRAFFIC      DRIVER   \n",
       "\n",
       "                                          CRASH_RECORD_ID SEX AGE  \\\n",
       "0       24ddf9fd8542199d832e1c223cc474e5601b356f1d77a6...   M  35   \n",
       "1       81dc0de2ed92aa62baccab641fa377be7feb1cc47e6554...   M  25   \n",
       "2       af84fb5c8d996fcd3aefd36593c3a02e6e7509eeb27568...   M  37   \n",
       "3       ecf9e646f89a73ed3df0f373e4fbd18e91f5a595004019...   F  32   \n",
       "4       ecf9e646f89a73ed3df0f373e4fbd18e91f5a595004019...   F  37   \n",
       "...                                                   ...  ..  ..   \n",
       "608330  927b6872d8bd9525e808e2f89d962b96e56b64c734ecdf...   F  29   \n",
       "608331  927b6872d8bd9525e808e2f89d962b96e56b64c734ecdf...   M  42   \n",
       "608332  779616321ef7268ea183bea47805a63bc4f9bc6819c4ac...   M  27   \n",
       "608333  779616321ef7268ea183bea47805a63bc4f9bc6819c4ac...   M  53   \n",
       "608334  e5f38d35bfeb8107b424d58a54fd314bd723e489912484...   F  85   \n",
       "\n",
       "                      DRIVER_ACTION DRIVER_VISION PHYSICAL_CONDITION  \n",
       "0                              NONE  NOT OBSCURED             NORMAL  \n",
       "1                           UNKNOWN       UNKNOWN            UNKNOWN  \n",
       "2                              NONE  NOT OBSCURED             NORMAL  \n",
       "3       DISREGARDED CONTROL DEVICES  NOT OBSCURED             NORMAL  \n",
       "4                              NONE  NOT OBSCURED             NORMAL  \n",
       "...                             ...           ...                ...  \n",
       "608330                        OTHER       UNKNOWN             NORMAL  \n",
       "608331                        OTHER       UNKNOWN             NORMAL  \n",
       "608332              FAILED TO YIELD  NOT OBSCURED             NORMAL  \n",
       "608333                         NONE  NOT OBSCURED             NORMAL  \n",
       "608334                         NONE  NOT OBSCURED             NORMAL  \n",
       "\n",
       "[608335 rows x 9 columns]"
      ]
     },
     "execution_count": 58,
     "metadata": {},
     "output_type": "execute_result"
    }
   ],
   "source": [
    "df_v"
   ]
  },
  {
   "cell_type": "code",
   "execution_count": 59,
   "metadata": {},
   "outputs": [],
   "source": [
    "df_a = pd.merge(df_v, df1, on=['CRASH_RECORD_ID'], how='inner')"
   ]
  },
  {
   "cell_type": "code",
   "execution_count": 60,
   "metadata": {},
   "outputs": [
    {
     "data": {
      "text/html": [
       "<div>\n",
       "<style scoped>\n",
       "    .dataframe tbody tr th:only-of-type {\n",
       "        vertical-align: middle;\n",
       "    }\n",
       "\n",
       "    .dataframe tbody tr th {\n",
       "        vertical-align: top;\n",
       "    }\n",
       "\n",
       "    .dataframe thead th {\n",
       "        text-align: right;\n",
       "    }\n",
       "</style>\n",
       "<table border=\"1\" class=\"dataframe\">\n",
       "  <thead>\n",
       "    <tr style=\"text-align: right;\">\n",
       "      <th></th>\n",
       "      <th>VEHICLE_ID</th>\n",
       "      <th>MANEUVER</th>\n",
       "      <th>PERSON_TYPE</th>\n",
       "      <th>CRASH_RECORD_ID</th>\n",
       "      <th>SEX</th>\n",
       "      <th>AGE</th>\n",
       "      <th>DRIVER_ACTION</th>\n",
       "      <th>DRIVER_VISION</th>\n",
       "      <th>PHYSICAL_CONDITION</th>\n",
       "      <th>POSTED_SPEED_LIMIT</th>\n",
       "      <th>...</th>\n",
       "      <th>ROADWAY_SURFACE_COND</th>\n",
       "      <th>ROAD_DEFECT</th>\n",
       "      <th>CRASH_TYPE</th>\n",
       "      <th>DAMAGE</th>\n",
       "      <th>PRIM_CONTRIBUTORY_CAUSE</th>\n",
       "      <th>NUM_UNITS</th>\n",
       "      <th>CRASH_HOUR</th>\n",
       "      <th>CRASH_DAY_OF_WEEK</th>\n",
       "      <th>CRASH_MONTH</th>\n",
       "      <th>LOCATION</th>\n",
       "    </tr>\n",
       "  </thead>\n",
       "  <tbody>\n",
       "    <tr>\n",
       "      <th>0</th>\n",
       "      <td>827212</td>\n",
       "      <td>STRAIGHT AHEAD</td>\n",
       "      <td>DRIVER</td>\n",
       "      <td>af84fb5c8d996fcd3aefd36593c3a02e6e7509eeb27568...</td>\n",
       "      <td>M</td>\n",
       "      <td>37</td>\n",
       "      <td>NONE</td>\n",
       "      <td>NOT OBSCURED</td>\n",
       "      <td>NORMAL</td>\n",
       "      <td>30</td>\n",
       "      <td>...</td>\n",
       "      <td>DRY</td>\n",
       "      <td>NO DEFECTS</td>\n",
       "      <td>NO INJURY / DRIVE AWAY</td>\n",
       "      <td>$500 OR LESS</td>\n",
       "      <td>IMPROPER OVERTAKING/PASSING</td>\n",
       "      <td>2</td>\n",
       "      <td>22</td>\n",
       "      <td>2</td>\n",
       "      <td>4</td>\n",
       "      <td>POINT (-87.653404241798 41.736044089544)</td>\n",
       "    </tr>\n",
       "    <tr>\n",
       "      <th>1</th>\n",
       "      <td>792247</td>\n",
       "      <td>STRAIGHT AHEAD</td>\n",
       "      <td>DRIVER</td>\n",
       "      <td>ecf9e646f89a73ed3df0f373e4fbd18e91f5a595004019...</td>\n",
       "      <td>F</td>\n",
       "      <td>32</td>\n",
       "      <td>DISREGARDED CONTROL DEVICES</td>\n",
       "      <td>NOT OBSCURED</td>\n",
       "      <td>NORMAL</td>\n",
       "      <td>25</td>\n",
       "      <td>...</td>\n",
       "      <td>DRY</td>\n",
       "      <td>NO DEFECTS</td>\n",
       "      <td>INJURY AND / OR TOW DUE TO CRASH</td>\n",
       "      <td>OVER $1,500</td>\n",
       "      <td>DISREGARDING TRAFFIC SIGNALS</td>\n",
       "      <td>2</td>\n",
       "      <td>15</td>\n",
       "      <td>2</td>\n",
       "      <td>2</td>\n",
       "      <td>POINT (-87.694829722211 41.997754789249)</td>\n",
       "    </tr>\n",
       "    <tr>\n",
       "      <th>2</th>\n",
       "      <td>792252</td>\n",
       "      <td>STRAIGHT AHEAD</td>\n",
       "      <td>DRIVER</td>\n",
       "      <td>ecf9e646f89a73ed3df0f373e4fbd18e91f5a595004019...</td>\n",
       "      <td>F</td>\n",
       "      <td>37</td>\n",
       "      <td>NONE</td>\n",
       "      <td>NOT OBSCURED</td>\n",
       "      <td>NORMAL</td>\n",
       "      <td>25</td>\n",
       "      <td>...</td>\n",
       "      <td>DRY</td>\n",
       "      <td>NO DEFECTS</td>\n",
       "      <td>INJURY AND / OR TOW DUE TO CRASH</td>\n",
       "      <td>OVER $1,500</td>\n",
       "      <td>DISREGARDING TRAFFIC SIGNALS</td>\n",
       "      <td>2</td>\n",
       "      <td>15</td>\n",
       "      <td>2</td>\n",
       "      <td>2</td>\n",
       "      <td>POINT (-87.694829722211 41.997754789249)</td>\n",
       "    </tr>\n",
       "    <tr>\n",
       "      <th>3</th>\n",
       "      <td>794765</td>\n",
       "      <td>STARTING IN TRAFFIC</td>\n",
       "      <td>DRIVER</td>\n",
       "      <td>55a20437d79a3176ac805c65b13940186970246ab14ce5...</td>\n",
       "      <td>M</td>\n",
       "      <td>41</td>\n",
       "      <td>FAILED TO YIELD</td>\n",
       "      <td>UNKNOWN</td>\n",
       "      <td>NORMAL</td>\n",
       "      <td>30</td>\n",
       "      <td>...</td>\n",
       "      <td>WET</td>\n",
       "      <td>NO DEFECTS</td>\n",
       "      <td>INJURY AND / OR TOW DUE TO CRASH</td>\n",
       "      <td>$500 OR LESS</td>\n",
       "      <td>DRIVING SKILLS/KNOWLEDGE/EXPERIENCE</td>\n",
       "      <td>2</td>\n",
       "      <td>13</td>\n",
       "      <td>6</td>\n",
       "      <td>2</td>\n",
       "      <td>POINT (-87.566318064211 41.748002679833)</td>\n",
       "    </tr>\n",
       "    <tr>\n",
       "      <th>4</th>\n",
       "      <td>795379</td>\n",
       "      <td>TURNING LEFT</td>\n",
       "      <td>DRIVER</td>\n",
       "      <td>012618108e2df088485e86bc1cf9c1989719e6a19f84b0...</td>\n",
       "      <td>M</td>\n",
       "      <td>50</td>\n",
       "      <td>IMPROPER TURN</td>\n",
       "      <td>UNKNOWN</td>\n",
       "      <td>NORMAL</td>\n",
       "      <td>30</td>\n",
       "      <td>...</td>\n",
       "      <td>DRY</td>\n",
       "      <td>NO DEFECTS</td>\n",
       "      <td>NO INJURY / DRIVE AWAY</td>\n",
       "      <td>$501 - $1,500</td>\n",
       "      <td>IMPROPER TURNING/NO SIGNAL</td>\n",
       "      <td>2</td>\n",
       "      <td>12</td>\n",
       "      <td>7</td>\n",
       "      <td>2</td>\n",
       "      <td>POINT (-87.660503563674 41.99807987571)</td>\n",
       "    </tr>\n",
       "    <tr>\n",
       "      <th>...</th>\n",
       "      <td>...</td>\n",
       "      <td>...</td>\n",
       "      <td>...</td>\n",
       "      <td>...</td>\n",
       "      <td>...</td>\n",
       "      <td>...</td>\n",
       "      <td>...</td>\n",
       "      <td>...</td>\n",
       "      <td>...</td>\n",
       "      <td>...</td>\n",
       "      <td>...</td>\n",
       "      <td>...</td>\n",
       "      <td>...</td>\n",
       "      <td>...</td>\n",
       "      <td>...</td>\n",
       "      <td>...</td>\n",
       "      <td>...</td>\n",
       "      <td>...</td>\n",
       "      <td>...</td>\n",
       "      <td>...</td>\n",
       "      <td>...</td>\n",
       "    </tr>\n",
       "    <tr>\n",
       "      <th>404321</th>\n",
       "      <td>1002477</td>\n",
       "      <td>SLOW/STOP IN TRAFFIC</td>\n",
       "      <td>DRIVER</td>\n",
       "      <td>399186bd44824c730eaa908a9f6e9f523d076bcb567cc2...</td>\n",
       "      <td>M</td>\n",
       "      <td>20</td>\n",
       "      <td>NONE</td>\n",
       "      <td>UNKNOWN</td>\n",
       "      <td>UNKNOWN</td>\n",
       "      <td>30</td>\n",
       "      <td>...</td>\n",
       "      <td>DRY</td>\n",
       "      <td>NO DEFECTS</td>\n",
       "      <td>INJURY AND / OR TOW DUE TO CRASH</td>\n",
       "      <td>OVER $1,500</td>\n",
       "      <td>DISREGARDING TRAFFIC SIGNALS</td>\n",
       "      <td>3</td>\n",
       "      <td>23</td>\n",
       "      <td>5</td>\n",
       "      <td>3</td>\n",
       "      <td>POINT (-87.559149656862 41.65930504)</td>\n",
       "    </tr>\n",
       "    <tr>\n",
       "      <th>404322</th>\n",
       "      <td>1002508</td>\n",
       "      <td>STRAIGHT AHEAD</td>\n",
       "      <td>DRIVER</td>\n",
       "      <td>09a8ec0f4461f208a2e314a81d4605d69472321725acaa...</td>\n",
       "      <td>M</td>\n",
       "      <td>71</td>\n",
       "      <td>FOLLOWED TOO CLOSELY</td>\n",
       "      <td>UNKNOWN</td>\n",
       "      <td>UNKNOWN</td>\n",
       "      <td>30</td>\n",
       "      <td>...</td>\n",
       "      <td>DRY</td>\n",
       "      <td>NO DEFECTS</td>\n",
       "      <td>NO INJURY / DRIVE AWAY</td>\n",
       "      <td>OVER $1,500</td>\n",
       "      <td>FOLLOWING TOO CLOSELY</td>\n",
       "      <td>2</td>\n",
       "      <td>18</td>\n",
       "      <td>5</td>\n",
       "      <td>3</td>\n",
       "      <td>POINT (-87.619894234352 41.663366468507)</td>\n",
       "    </tr>\n",
       "    <tr>\n",
       "      <th>404323</th>\n",
       "      <td>1002510</td>\n",
       "      <td>SLOW/STOP IN TRAFFIC</td>\n",
       "      <td>DRIVER</td>\n",
       "      <td>09a8ec0f4461f208a2e314a81d4605d69472321725acaa...</td>\n",
       "      <td>F</td>\n",
       "      <td>59</td>\n",
       "      <td>NONE</td>\n",
       "      <td>NOT OBSCURED</td>\n",
       "      <td>NORMAL</td>\n",
       "      <td>30</td>\n",
       "      <td>...</td>\n",
       "      <td>DRY</td>\n",
       "      <td>NO DEFECTS</td>\n",
       "      <td>NO INJURY / DRIVE AWAY</td>\n",
       "      <td>OVER $1,500</td>\n",
       "      <td>FOLLOWING TOO CLOSELY</td>\n",
       "      <td>2</td>\n",
       "      <td>18</td>\n",
       "      <td>5</td>\n",
       "      <td>3</td>\n",
       "      <td>POINT (-87.619894234352 41.663366468507)</td>\n",
       "    </tr>\n",
       "    <tr>\n",
       "      <th>404324</th>\n",
       "      <td>1002757</td>\n",
       "      <td>SLOW/STOP IN TRAFFIC</td>\n",
       "      <td>DRIVER</td>\n",
       "      <td>578ddf3e4f3ae8b9486819bfd39925a40666150f6fe0f5...</td>\n",
       "      <td>F</td>\n",
       "      <td>21</td>\n",
       "      <td>FOLLOWED TOO CLOSELY</td>\n",
       "      <td>UNKNOWN</td>\n",
       "      <td>NORMAL</td>\n",
       "      <td>30</td>\n",
       "      <td>...</td>\n",
       "      <td>DRY</td>\n",
       "      <td>NO DEFECTS</td>\n",
       "      <td>NO INJURY / DRIVE AWAY</td>\n",
       "      <td>OVER $1,500</td>\n",
       "      <td>FOLLOWING TOO CLOSELY</td>\n",
       "      <td>2</td>\n",
       "      <td>23</td>\n",
       "      <td>5</td>\n",
       "      <td>3</td>\n",
       "      <td>POINT (-87.705530099163 41.990517689091)</td>\n",
       "    </tr>\n",
       "    <tr>\n",
       "      <th>404325</th>\n",
       "      <td>1002772</td>\n",
       "      <td>SLOW/STOP IN TRAFFIC</td>\n",
       "      <td>DRIVER</td>\n",
       "      <td>578ddf3e4f3ae8b9486819bfd39925a40666150f6fe0f5...</td>\n",
       "      <td>F</td>\n",
       "      <td>40</td>\n",
       "      <td>NONE</td>\n",
       "      <td>NOT OBSCURED</td>\n",
       "      <td>NORMAL</td>\n",
       "      <td>30</td>\n",
       "      <td>...</td>\n",
       "      <td>DRY</td>\n",
       "      <td>NO DEFECTS</td>\n",
       "      <td>NO INJURY / DRIVE AWAY</td>\n",
       "      <td>OVER $1,500</td>\n",
       "      <td>FOLLOWING TOO CLOSELY</td>\n",
       "      <td>2</td>\n",
       "      <td>23</td>\n",
       "      <td>5</td>\n",
       "      <td>3</td>\n",
       "      <td>POINT (-87.705530099163 41.990517689091)</td>\n",
       "    </tr>\n",
       "  </tbody>\n",
       "</table>\n",
       "<p>404326 rows × 27 columns</p>\n",
       "</div>"
      ],
      "text/plain": [
       "       VEHICLE_ID              MANEUVER PERSON_TYPE  \\\n",
       "0          827212        STRAIGHT AHEAD      DRIVER   \n",
       "1          792247        STRAIGHT AHEAD      DRIVER   \n",
       "2          792252        STRAIGHT AHEAD      DRIVER   \n",
       "3          794765   STARTING IN TRAFFIC      DRIVER   \n",
       "4          795379          TURNING LEFT      DRIVER   \n",
       "...           ...                   ...         ...   \n",
       "404321    1002477  SLOW/STOP IN TRAFFIC      DRIVER   \n",
       "404322    1002508        STRAIGHT AHEAD      DRIVER   \n",
       "404323    1002510  SLOW/STOP IN TRAFFIC      DRIVER   \n",
       "404324    1002757  SLOW/STOP IN TRAFFIC      DRIVER   \n",
       "404325    1002772  SLOW/STOP IN TRAFFIC      DRIVER   \n",
       "\n",
       "                                          CRASH_RECORD_ID SEX AGE  \\\n",
       "0       af84fb5c8d996fcd3aefd36593c3a02e6e7509eeb27568...   M  37   \n",
       "1       ecf9e646f89a73ed3df0f373e4fbd18e91f5a595004019...   F  32   \n",
       "2       ecf9e646f89a73ed3df0f373e4fbd18e91f5a595004019...   F  37   \n",
       "3       55a20437d79a3176ac805c65b13940186970246ab14ce5...   M  41   \n",
       "4       012618108e2df088485e86bc1cf9c1989719e6a19f84b0...   M  50   \n",
       "...                                                   ...  ..  ..   \n",
       "404321  399186bd44824c730eaa908a9f6e9f523d076bcb567cc2...   M  20   \n",
       "404322  09a8ec0f4461f208a2e314a81d4605d69472321725acaa...   M  71   \n",
       "404323  09a8ec0f4461f208a2e314a81d4605d69472321725acaa...   F  59   \n",
       "404324  578ddf3e4f3ae8b9486819bfd39925a40666150f6fe0f5...   F  21   \n",
       "404325  578ddf3e4f3ae8b9486819bfd39925a40666150f6fe0f5...   F  40   \n",
       "\n",
       "                      DRIVER_ACTION DRIVER_VISION PHYSICAL_CONDITION  \\\n",
       "0                              NONE  NOT OBSCURED             NORMAL   \n",
       "1       DISREGARDED CONTROL DEVICES  NOT OBSCURED             NORMAL   \n",
       "2                              NONE  NOT OBSCURED             NORMAL   \n",
       "3                   FAILED TO YIELD       UNKNOWN             NORMAL   \n",
       "4                     IMPROPER TURN       UNKNOWN             NORMAL   \n",
       "...                             ...           ...                ...   \n",
       "404321                         NONE       UNKNOWN            UNKNOWN   \n",
       "404322         FOLLOWED TOO CLOSELY       UNKNOWN            UNKNOWN   \n",
       "404323                         NONE  NOT OBSCURED             NORMAL   \n",
       "404324         FOLLOWED TOO CLOSELY       UNKNOWN             NORMAL   \n",
       "404325                         NONE  NOT OBSCURED             NORMAL   \n",
       "\n",
       "        POSTED_SPEED_LIMIT  ... ROADWAY_SURFACE_COND ROAD_DEFECT  \\\n",
       "0                       30  ...                  DRY  NO DEFECTS   \n",
       "1                       25  ...                  DRY  NO DEFECTS   \n",
       "2                       25  ...                  DRY  NO DEFECTS   \n",
       "3                       30  ...                  WET  NO DEFECTS   \n",
       "4                       30  ...                  DRY  NO DEFECTS   \n",
       "...                    ...  ...                  ...         ...   \n",
       "404321                  30  ...                  DRY  NO DEFECTS   \n",
       "404322                  30  ...                  DRY  NO DEFECTS   \n",
       "404323                  30  ...                  DRY  NO DEFECTS   \n",
       "404324                  30  ...                  DRY  NO DEFECTS   \n",
       "404325                  30  ...                  DRY  NO DEFECTS   \n",
       "\n",
       "                              CRASH_TYPE         DAMAGE  \\\n",
       "0                 NO INJURY / DRIVE AWAY   $500 OR LESS   \n",
       "1       INJURY AND / OR TOW DUE TO CRASH    OVER $1,500   \n",
       "2       INJURY AND / OR TOW DUE TO CRASH    OVER $1,500   \n",
       "3       INJURY AND / OR TOW DUE TO CRASH   $500 OR LESS   \n",
       "4                 NO INJURY / DRIVE AWAY  $501 - $1,500   \n",
       "...                                  ...            ...   \n",
       "404321  INJURY AND / OR TOW DUE TO CRASH    OVER $1,500   \n",
       "404322            NO INJURY / DRIVE AWAY    OVER $1,500   \n",
       "404323            NO INJURY / DRIVE AWAY    OVER $1,500   \n",
       "404324            NO INJURY / DRIVE AWAY    OVER $1,500   \n",
       "404325            NO INJURY / DRIVE AWAY    OVER $1,500   \n",
       "\n",
       "                    PRIM_CONTRIBUTORY_CAUSE NUM_UNITS CRASH_HOUR  \\\n",
       "0               IMPROPER OVERTAKING/PASSING         2         22   \n",
       "1              DISREGARDING TRAFFIC SIGNALS         2         15   \n",
       "2              DISREGARDING TRAFFIC SIGNALS         2         15   \n",
       "3       DRIVING SKILLS/KNOWLEDGE/EXPERIENCE         2         13   \n",
       "4                IMPROPER TURNING/NO SIGNAL         2         12   \n",
       "...                                     ...       ...        ...   \n",
       "404321         DISREGARDING TRAFFIC SIGNALS         3         23   \n",
       "404322                FOLLOWING TOO CLOSELY         2         18   \n",
       "404323                FOLLOWING TOO CLOSELY         2         18   \n",
       "404324                FOLLOWING TOO CLOSELY         2         23   \n",
       "404325                FOLLOWING TOO CLOSELY         2         23   \n",
       "\n",
       "       CRASH_DAY_OF_WEEK CRASH_MONTH                                  LOCATION  \n",
       "0                      2           4  POINT (-87.653404241798 41.736044089544)  \n",
       "1                      2           2  POINT (-87.694829722211 41.997754789249)  \n",
       "2                      2           2  POINT (-87.694829722211 41.997754789249)  \n",
       "3                      6           2  POINT (-87.566318064211 41.748002679833)  \n",
       "4                      7           2   POINT (-87.660503563674 41.99807987571)  \n",
       "...                  ...         ...                                       ...  \n",
       "404321                 5           3      POINT (-87.559149656862 41.65930504)  \n",
       "404322                 5           3  POINT (-87.619894234352 41.663366468507)  \n",
       "404323                 5           3  POINT (-87.619894234352 41.663366468507)  \n",
       "404324                 5           3  POINT (-87.705530099163 41.990517689091)  \n",
       "404325                 5           3  POINT (-87.705530099163 41.990517689091)  \n",
       "\n",
       "[404326 rows x 27 columns]"
      ]
     },
     "execution_count": 60,
     "metadata": {},
     "output_type": "execute_result"
    }
   ],
   "source": [
    "df_a"
   ]
  },
  {
   "cell_type": "code",
   "execution_count": 61,
   "metadata": {},
   "outputs": [
    {
     "data": {
      "text/plain": [
       "Index(['VEHICLE_ID', 'MANEUVER', 'PERSON_TYPE', 'CRASH_RECORD_ID', 'SEX',\n",
       "       'AGE', 'DRIVER_ACTION', 'DRIVER_VISION', 'PHYSICAL_CONDITION',\n",
       "       'POSTED_SPEED_LIMIT', 'TRAFFIC_CONTROL_DEVICE', 'DEVICE_CONDITION',\n",
       "       'WEATHER_CONDITION', 'LIGHTING_CONDITION', 'FIRST_CRASH_TYPE',\n",
       "       'TRAFFICWAY_TYPE', 'ALIGNMENT', 'ROADWAY_SURFACE_COND', 'ROAD_DEFECT',\n",
       "       'CRASH_TYPE', 'DAMAGE', 'PRIM_CONTRIBUTORY_CAUSE', 'NUM_UNITS',\n",
       "       'CRASH_HOUR', 'CRASH_DAY_OF_WEEK', 'CRASH_MONTH', 'LOCATION'],\n",
       "      dtype='object')"
      ]
     },
     "execution_count": 61,
     "metadata": {},
     "output_type": "execute_result"
    }
   ],
   "source": [
    "df_a.columns"
   ]
  },
  {
   "cell_type": "code",
   "execution_count": 62,
   "metadata": {},
   "outputs": [
    {
     "name": "stdout",
     "output_type": "stream",
     "text": [
      "<class 'pandas.core.frame.DataFrame'>\n",
      "Int64Index: 404326 entries, 0 to 404325\n",
      "Data columns (total 27 columns):\n",
      " #   Column                   Non-Null Count   Dtype \n",
      "---  ------                   --------------   ----- \n",
      " 0   VEHICLE_ID               404326 non-null  object\n",
      " 1   MANEUVER                 404326 non-null  object\n",
      " 2   PERSON_TYPE              404326 non-null  object\n",
      " 3   CRASH_RECORD_ID          404326 non-null  object\n",
      " 4   SEX                      404326 non-null  object\n",
      " 5   AGE                      404326 non-null  object\n",
      " 6   DRIVER_ACTION            404326 non-null  object\n",
      " 7   DRIVER_VISION            404326 non-null  object\n",
      " 8   PHYSICAL_CONDITION       404326 non-null  object\n",
      " 9   POSTED_SPEED_LIMIT       404326 non-null  int64 \n",
      " 10  TRAFFIC_CONTROL_DEVICE   404326 non-null  object\n",
      " 11  DEVICE_CONDITION         404326 non-null  object\n",
      " 12  WEATHER_CONDITION        404326 non-null  object\n",
      " 13  LIGHTING_CONDITION       404326 non-null  object\n",
      " 14  FIRST_CRASH_TYPE         404326 non-null  object\n",
      " 15  TRAFFICWAY_TYPE          404326 non-null  object\n",
      " 16  ALIGNMENT                404326 non-null  object\n",
      " 17  ROADWAY_SURFACE_COND     404326 non-null  object\n",
      " 18  ROAD_DEFECT              404326 non-null  object\n",
      " 19  CRASH_TYPE               404326 non-null  object\n",
      " 20  DAMAGE                   404326 non-null  object\n",
      " 21  PRIM_CONTRIBUTORY_CAUSE  404326 non-null  object\n",
      " 22  NUM_UNITS                404326 non-null  int64 \n",
      " 23  CRASH_HOUR               404326 non-null  int64 \n",
      " 24  CRASH_DAY_OF_WEEK        404326 non-null  int64 \n",
      " 25  CRASH_MONTH              404326 non-null  int64 \n",
      " 26  LOCATION                 404326 non-null  object\n",
      "dtypes: int64(5), object(22)\n",
      "memory usage: 86.4+ MB\n"
     ]
    }
   ],
   "source": [
    "df_a.info()"
   ]
  },
  {
   "cell_type": "markdown",
   "metadata": {},
   "source": [
    "Let's check the unique variables for each category."
   ]
  },
  {
   "cell_type": "code",
   "execution_count": 63,
   "metadata": {},
   "outputs": [
    {
     "name": "stdout",
     "output_type": "stream",
     "text": [
      "\n",
      "VEHICLE_ID\n",
      "\n",
      "210863    1\n",
      "102850    1\n",
      "520291    1\n",
      "14438     1\n",
      "896419    1\n",
      "         ..\n",
      "5842      1\n",
      "219007    1\n",
      "230811    1\n",
      "491907    1\n",
      "996496    1\n",
      "Name: VEHICLE_ID, Length: 404326, dtype: int64\n",
      "\n",
      "MANEUVER\n",
      "\n",
      "STRAIGHT AHEAD                        231031\n",
      "SLOW/STOP IN TRAFFIC                   46918\n",
      "TURNING LEFT                           32489\n",
      "BACKING                                17140\n",
      "TURNING RIGHT                          16998\n",
      "PASSING/OVERTAKING                     10031\n",
      "CHANGING LANES                          9613\n",
      "OTHER                                   6306\n",
      "ENTERING TRAFFIC LANE FROM PARKING      5600\n",
      "UNKNOWN/NA                              3857\n",
      "STARTING IN TRAFFIC                     3505\n",
      "MERGING                                 3113\n",
      "U-TURN                                  2917\n",
      "SKIDDING/CONTROL LOSS                   2737\n",
      "AVOIDING VEHICLES/OBJECTS               2441\n",
      "ENTER FROM DRIVE/ALLEY                  2172\n",
      "LEAVING TRAFFIC LANE TO PARK            2007\n",
      "SLOW/STOP - LEFT TURN                   1867\n",
      "SLOW/STOP - RIGHT TURN                  1168\n",
      "SLOW/STOP - LOAD/UNLOAD                  883\n",
      "NEGOTIATING A CURVE                      635\n",
      "DRIVING WRONG WAY                        621\n",
      "TURNING ON RED                           197\n",
      "DIVERGING                                 75\n",
      "PARKED                                     4\n",
      "PARKED IN TRAFFIC LANE                     1\n",
      "Name: MANEUVER, dtype: int64\n",
      "\n",
      "PERSON_TYPE\n",
      "\n",
      "DRIVER    404326\n",
      "Name: PERSON_TYPE, dtype: int64\n",
      "\n",
      "CRASH_RECORD_ID\n",
      "\n",
      "c9d233e31a4f2a07733ef75f0404e75c360b30c7ee9bc45076938dc80c375578c1468bc096ecb773d2bfc71270d746d95f416a5bd6b15fbcf8707b1748693722    12\n",
      "e37c9d9c015f0b82720644d4d48b4092b8e96b0af99fc1b5db100d8079c250825a5606e87fd7331d7f20c869438ff02511f368ef5ecd4cf881cb93eeed00d416    12\n",
      "f28f71fecccb0d5dc1b0146d44f98ea0d234e6225faf0e3ed310c6f267a3b455a466f41a5df5b1bdcacbe31b6cb81b6f9c7f8e8401d478e103120e705dfc7063    10\n",
      "2294d7387552dd1804e1eddde6b4ce561209f90ede1fb98805a0658ad6fcb9f8d3f8846416358dbf8b9e71db2095d505387d2ce4ad894ad9a5a9ea5ae691abaa     9\n",
      "7be311dead41c5337cbd12d40bb7be93c505303d6f1cf92e72a2b7c695ae95b472a66d9b3a6b505a0e4c2279d53acf3b6115320fcafb54d8ee1aa3d0c811e3a0     9\n",
      "                                                                                                                                    ..\n",
      "dd6f68a8a638eb73fac99f3ca3f2ebbddf57580448ee7c9260fa8880b16cfe170e90007092979e7917212c1dc182232197988a6ce7fa8d4f4cde5e3d59f6386a     1\n",
      "19c2c4d60bb9d0e94c7cfa2ea26afb08641d9dd02fce0fe57aee345c1535bb133b64e34a9f46899aaf7fc83745d99796dd65c3ebdada253020b643ce79238386     1\n",
      "61b366aa34d2f156d29558c04a8e597e21ee6d272068548d091053d9b79734e134bcc03d93de4bead240f1bf4c9dcd70ef19efa52d9b1ff7da29bad705abdbba     1\n",
      "152c65f7c8e63a472f03d230b7f90dcc9faff96c10a6b0518a6fc089f66b9a680c9673de9c4ac16308ac5d2c0270ba1ca7595a00a8bdcf2cb5901372522c39f9     1\n",
      "08f80c9dd759e174bc7c3a46e1a5f7569518aa206f14176979110a2888fc511f549e53ff29c4c42d2171afcdbffe6246e001d47b6011f9b6b61b8eec33a6c87d     1\n",
      "Name: CRASH_RECORD_ID, Length: 250769, dtype: int64\n",
      "\n",
      "SEX\n",
      "\n",
      "M    242739\n",
      "F    161587\n",
      "Name: SEX, dtype: int64\n",
      "\n",
      "AGE\n",
      "\n",
      "25     12444\n",
      "27     12224\n",
      "26     12224\n",
      "28     11882\n",
      "24     11750\n",
      "       ...  \n",
      "108        2\n",
      "104        1\n",
      "109        1\n",
      "107        1\n",
      "110        1\n",
      "Name: AGE, Length: 107, dtype: int64\n",
      "\n",
      "DRIVER_ACTION\n",
      "\n",
      "NONE                                 188706\n",
      "FAILED TO YIELD                       48672\n",
      "FOLLOWED TOO CLOSELY                  35626\n",
      "OTHER                                 34734\n",
      "UNKNOWN                               25357\n",
      "IMPROPER BACKING                      13959\n",
      "IMPROPER TURN                         13912\n",
      "IMPROPER LANE CHANGE                  12681\n",
      "IMPROPER PASSING                       8691\n",
      "TOO FAST FOR CONDITIONS                8483\n",
      "DISREGARDED CONTROL DEVICES            8040\n",
      "WRONG WAY/SIDE                         1531\n",
      "IMPROPER PARKING                       1219\n",
      "EVADING POLICE VEHICLE                  792\n",
      "CELL PHONE USE OTHER THAN TEXTING       753\n",
      "EMERGENCY VEHICLE ON CALL               437\n",
      "OVERCORRECTED                           417\n",
      "TEXTING                                 227\n",
      "STOPPED SCHOOL BUS                       64\n",
      "LICENSE RESTRICTIONS                     25\n",
      "Name: DRIVER_ACTION, dtype: int64\n",
      "\n",
      "DRIVER_VISION\n",
      "\n",
      "NOT OBSCURED              293289\n",
      "UNKNOWN                    96291\n",
      "OTHER                       5111\n",
      "MOVING VEHICLES             3893\n",
      "PARKED VEHICLES             2361\n",
      "WINDSHIELD (WATER/ICE)      1899\n",
      "BLINDED - SUNLIGHT           789\n",
      "TREES, PLANTS                270\n",
      "BUILDINGS                    223\n",
      "BLINDED - HEADLIGHTS          49\n",
      "HILLCREST                     46\n",
      "EMBANKMENT                    44\n",
      "BLOWING MATERIALS             44\n",
      "SIGNBOARD                     17\n",
      "Name: DRIVER_VISION, dtype: int64\n",
      "\n",
      "PHYSICAL_CONDITION\n",
      "\n",
      "NORMAL                          352495\n",
      "UNKNOWN                          41568\n",
      "IMPAIRED - ALCOHOL                3255\n",
      "FATIGUED/ASLEEP                   1634\n",
      "REMOVED BY EMS                    1465\n",
      "OTHER                             1179\n",
      "EMOTIONAL                         1101\n",
      "ILLNESS/FAINTED                    621\n",
      "HAD BEEN DRINKING                  403\n",
      "IMPAIRED - DRUGS                   377\n",
      "IMPAIRED - ALCOHOL AND DRUGS       148\n",
      "MEDICATED                           80\n",
      "Name: PHYSICAL_CONDITION, dtype: int64\n",
      "\n",
      "POSTED_SPEED_LIMIT\n",
      "\n",
      "30    312896\n",
      "35     32367\n",
      "25     19733\n",
      "20     10513\n",
      "15      9304\n",
      "40      5204\n",
      "10      4599\n",
      "0       4160\n",
      "45      3048\n",
      "5       1741\n",
      "55       354\n",
      "50        99\n",
      "3         85\n",
      "39        57\n",
      "9         55\n",
      "60        20\n",
      "32        12\n",
      "2         11\n",
      "1         11\n",
      "99        10\n",
      "33        10\n",
      "34         7\n",
      "11         6\n",
      "36         5\n",
      "24         3\n",
      "7          3\n",
      "70         2\n",
      "12         2\n",
      "63         2\n",
      "65         2\n",
      "31         2\n",
      "6          1\n",
      "38         1\n",
      "49         1\n",
      "Name: POSTED_SPEED_LIMIT, dtype: int64\n",
      "\n",
      "TRAFFIC_CONTROL_DEVICE\n",
      "\n",
      "NO CONTROLS                 188729\n",
      "TRAFFIC SIGNAL              150066\n",
      "STOP SIGN/FLASHER            52186\n",
      "UNKNOWN                       6589\n",
      "OTHER                         2355\n",
      "LANE USE MARKING              1415\n",
      "YIELD                          776\n",
      "OTHER REG. SIGN                461\n",
      "OTHER WARNING SIGN             413\n",
      "RAILROAD CROSSING GATE         336\n",
      "POLICE/FLAGMAN                 213\n",
      "PEDESTRIAN CROSSING SIGN       209\n",
      "DELINEATORS                    143\n",
      "FLASHING CONTROL SIGNAL        133\n",
      "SCHOOL ZONE                    128\n",
      "OTHER RAILROAD CROSSING        107\n",
      "NO PASSING                      31\n",
      "RR CROSSING SIGN                28\n",
      "BICYCLE CROSSING SIGN            8\n",
      "Name: TRAFFIC_CONTROL_DEVICE, dtype: int64\n",
      "\n",
      "DEVICE_CONDITION\n",
      "\n",
      "NO CONTROLS                 193475\n",
      "FUNCTIONING PROPERLY        188494\n",
      "UNKNOWN                      14454\n",
      "OTHER                         3292\n",
      "FUNCTIONING IMPROPERLY        2827\n",
      "NOT FUNCTIONING               1474\n",
      "WORN REFLECTIVE MATERIAL       241\n",
      "MISSING                         69\n",
      "Name: DEVICE_CONDITION, dtype: int64\n",
      "\n",
      "WEATHER_CONDITION\n",
      "\n",
      "CLEAR                       321586\n",
      "RAIN                         41076\n",
      "SNOW                         17911\n",
      "CLOUDY/OVERCAST              14493\n",
      "UNKNOWN                       5633\n",
      "OTHER                         1358\n",
      "FOG/SMOKE/HAZE                 745\n",
      "SLEET/HAIL                     722\n",
      "FREEZING RAIN/DRIZZLE          560\n",
      "BLOWING SNOW                   151\n",
      "SEVERE CROSS WIND GATE          89\n",
      "BLOWING SAND, SOIL, DIRT         2\n",
      "Name: WEATHER_CONDITION, dtype: int64\n",
      "\n",
      "LIGHTING_CONDITION\n",
      "\n",
      "DAYLIGHT                  276998\n",
      "DARKNESS, LIGHTED ROAD     87325\n",
      "DARKNESS                   17095\n",
      "DUSK                       13000\n",
      "DAWN                        6800\n",
      "UNKNOWN                     3108\n",
      "Name: LIGHTING_CONDITION, dtype: int64\n",
      "\n",
      "FIRST_CRASH_TYPE\n",
      "\n",
      "REAR END                        130846\n",
      "TURNING                          82395\n",
      "SIDESWIPE SAME DIRECTION         72151\n",
      "ANGLE                            60883\n",
      "PARKED MOTOR VEHICLE             23079\n",
      "FIXED OBJECT                      9223\n",
      "SIDESWIPE OPPOSITE DIRECTION      6300\n",
      "HEAD ON                           4635\n",
      "PEDESTRIAN                        4032\n",
      "REAR TO FRONT                     2991\n",
      "PEDALCYCLIST                      2802\n",
      "REAR TO SIDE                      1906\n",
      "OTHER OBJECT                      1610\n",
      "OTHER NONCOLLISION                 607\n",
      "REAR TO REAR                       520\n",
      "ANIMAL                             189\n",
      "OVERTURNED                         137\n",
      "TRAIN                               20\n",
      "Name: FIRST_CRASH_TYPE, dtype: int64\n",
      "\n",
      "TRAFFICWAY_TYPE\n",
      "\n",
      "NOT DIVIDED                        182652\n",
      "DIVIDED - W/MEDIAN (NOT RAISED)     87269\n",
      "ONE-WAY                             37958\n",
      "DIVIDED - W/MEDIAN BARRIER          30646\n",
      "FOUR WAY                            18703\n",
      "PARKING LOT                         16377\n",
      "OTHER                               10518\n",
      "CENTER TURN LANE                     4981\n",
      "ALLEY                                4279\n",
      "T-INTERSECTION                       3890\n",
      "UNKNOWN                              2149\n",
      "RAMP                                 1441\n",
      "DRIVEWAY                              996\n",
      "UNKNOWN INTERSECTION TYPE             932\n",
      "FIVE POINT, OR MORE                   468\n",
      "Y-INTERSECTION                        432\n",
      "TRAFFIC ROUTE                         365\n",
      "NOT REPORTED                          151\n",
      "ROUNDABOUT                             71\n",
      "L-INTERSECTION                         48\n",
      "Name: TRAFFICWAY_TYPE, dtype: int64\n",
      "\n",
      "ALIGNMENT\n",
      "\n",
      "STRAIGHT AND LEVEL       392584\n",
      "STRAIGHT ON GRADE          5918\n",
      "CURVE, LEVEL               3349\n",
      "STRAIGHT ON HILLCREST      1585\n",
      "CURVE ON GRADE              675\n",
      "CURVE ON HILLCREST          215\n",
      "Name: ALIGNMENT, dtype: int64\n",
      "\n",
      "ROADWAY_SURFACE_COND\n",
      "\n",
      "DRY                304923\n",
      "WET                 64034\n",
      "SNOW OR SLUSH       16959\n",
      "UNKNOWN             13496\n",
      "ICE                  3913\n",
      "OTHER                 854\n",
      "SAND, MUD, DIRT       147\n",
      "Name: ROADWAY_SURFACE_COND, dtype: int64\n",
      "\n",
      "ROAD_DEFECT\n",
      "\n",
      "NO DEFECTS           349387\n",
      "UNKNOWN               47035\n",
      "RUT, HOLES             2690\n",
      "OTHER                  2313\n",
      "WORN SURFACE           1632\n",
      "SHOULDER DEFECT         909\n",
      "DEBRIS ON ROADWAY       360\n",
      "Name: ROAD_DEFECT, dtype: int64\n",
      "\n",
      "CRASH_TYPE\n",
      "\n"
     ]
    },
    {
     "name": "stdout",
     "output_type": "stream",
     "text": [
      "NO INJURY / DRIVE AWAY              277848\n",
      "INJURY AND / OR TOW DUE TO CRASH    126478\n",
      "Name: CRASH_TYPE, dtype: int64\n",
      "\n",
      "DAMAGE\n",
      "\n",
      "OVER $1,500      257732\n",
      "$501 - $1,500    104785\n",
      "$500 OR LESS      41809\n",
      "Name: DAMAGE, dtype: int64\n",
      "\n",
      "PRIM_CONTRIBUTORY_CAUSE\n",
      "\n",
      "FAILING TO YIELD RIGHT-OF-WAY                                                       84685\n",
      "FOLLOWING TOO CLOSELY                                                               84098\n",
      "IMPROPER OVERTAKING/PASSING                                                         31710\n",
      "FAILING TO REDUCE SPEED TO AVOID CRASH                                              31389\n",
      "IMPROPER LANE USAGE                                                                 26154\n",
      "IMPROPER TURNING/NO SIGNAL                                                          24911\n",
      "IMPROPER BACKING                                                                    23631\n",
      "DRIVING SKILLS/KNOWLEDGE/EXPERIENCE                                                 17327\n",
      "DISREGARDING TRAFFIC SIGNALS                                                        14701\n",
      "WEATHER                                                                             11730\n",
      "DISREGARDING STOP SIGN                                                               7994\n",
      "OPERATING VEHICLE IN ERRATIC, RECKLESS, CARELESS, NEGLIGENT OR AGGRESSIVE MANNER     5521\n",
      "DISTRACTION - FROM INSIDE VEHICLE                                                    5404\n",
      "VISION OBSCURED (SIGNS, TREE LIMBS, BUILDINGS, ETC.)                                 4193\n",
      "EQUIPMENT - VEHICLE CONDITION                                                        3978\n",
      "UNDER THE INFLUENCE OF ALCOHOL/DRUGS (USE WHEN ARREST IS EFFECTED)                   3585\n",
      "PHYSICAL CONDITION OF DRIVER                                                         3571\n",
      "DISTRACTION - FROM OUTSIDE VEHICLE                                                   2938\n",
      "DRIVING ON WRONG SIDE/WRONG WAY                                                      2805\n",
      "EXCEEDING SAFE SPEED FOR CONDITIONS                                                  2226\n",
      "EXCEEDING AUTHORIZED SPEED LIMIT                                                     2061\n",
      "DISREGARDING OTHER TRAFFIC SIGNS                                                     1467\n",
      "ROAD CONSTRUCTION/MAINTENANCE                                                        1350\n",
      "ROAD ENGINEERING/SURFACE/MARKING DEFECTS                                             1288\n",
      "EVASIVE ACTION DUE TO ANIMAL, OBJECT, NONMOTORIST                                    1104\n",
      "CELL PHONE USE OTHER THAN TEXTING                                                     973\n",
      "DISREGARDING ROAD MARKINGS                                                            884\n",
      "TURNING RIGHT ON RED                                                                  506\n",
      "HAD BEEN DRINKING (USE WHEN ARREST IS NOT MADE)                                       474\n",
      "ANIMAL                                                                                400\n",
      "DISTRACTION - OTHER ELECTRONIC DEVICE (NAVIGATION DEVICE, DVD PLAYER, ETC.)           349\n",
      "TEXTING                                                                               284\n",
      "DISREGARDING YIELD SIGN                                                               245\n",
      "RELATED TO BUS STOP                                                                   207\n",
      "PASSING STOPPED SCHOOL BUS                                                             73\n",
      "BICYCLE ADVANCING LEGALLY ON RED LIGHT                                                 51\n",
      "OBSTRUCTED CROSSWALKS                                                                  37\n",
      "MOTORCYCLE ADVANCING LEGALLY ON RED LIGHT                                              22\n",
      "Name: PRIM_CONTRIBUTORY_CAUSE, dtype: int64\n",
      "\n",
      "NUM_UNITS\n",
      "\n",
      "2     353637\n",
      "3      32190\n",
      "1      10217\n",
      "4       6234\n",
      "5       1339\n",
      "6        462\n",
      "7        114\n",
      "8         68\n",
      "9         37\n",
      "10        17\n",
      "11         6\n",
      "18         2\n",
      "12         2\n",
      "16         1\n",
      "Name: NUM_UNITS, dtype: int64\n",
      "\n",
      "CRASH_HOUR\n",
      "\n",
      "16    32858\n",
      "17    32647\n",
      "15    32114\n",
      "14    27834\n",
      "18    26138\n",
      "13    25033\n",
      "12    23671\n",
      "8     23235\n",
      "11    21438\n",
      "9     19463\n",
      "10    19088\n",
      "7     18772\n",
      "19    18504\n",
      "20    14081\n",
      "21    12384\n",
      "22    11332\n",
      "23     9215\n",
      "6      8813\n",
      "0      6816\n",
      "1      5304\n",
      "5      4507\n",
      "2      4465\n",
      "3      3466\n",
      "4      3148\n",
      "Name: CRASH_HOUR, dtype: int64\n",
      "\n",
      "CRASH_DAY_OF_WEEK\n",
      "\n",
      "6    67675\n",
      "5    59891\n",
      "4    58922\n",
      "3    58613\n",
      "7    58456\n",
      "2    55593\n",
      "1    45176\n",
      "Name: CRASH_DAY_OF_WEEK, dtype: int64\n",
      "\n",
      "CRASH_MONTH\n",
      "\n",
      "10    38984\n",
      "12    37350\n",
      "11    36268\n",
      "9     35506\n",
      "1     34801\n",
      "8     34459\n",
      "2     33358\n",
      "3     32809\n",
      "7     32727\n",
      "6     30793\n",
      "5     30648\n",
      "4     26623\n",
      "Name: CRASH_MONTH, dtype: int64\n",
      "\n",
      "LOCATION\n",
      "\n",
      "POINT (-87.905309125103 41.976201139024)    532\n",
      "POINT (-87.585971992965 41.751460603167)    306\n",
      "POINT (-87.580147768689 41.791420282098)    292\n",
      "POINT (-87.619928173678 41.900958919109)    245\n",
      "POINT (-87.585275565077 41.722257273006)    221\n",
      "                                           ... \n",
      "POINT (-87.717021930439 41.920660254709)      1\n",
      "POINT (-87.598169838264 41.7642442872)        1\n",
      "POINT (-87.672147240918 41.998697835695)      1\n",
      "POINT (-87.671572254269 41.927909510622)      1\n",
      "POINT (-87.7343857472 41.929070847282)        1\n",
      "Name: LOCATION, Length: 121238, dtype: int64\n"
     ]
    }
   ],
   "source": [
    "for col in df_a.columns:\n",
    "    print('\\n' + col + '\\n')\n",
    "    print(df_a[col].value_counts())"
   ]
  },
  {
   "cell_type": "markdown",
   "metadata": {},
   "source": [
    "Let's take a deeper dive into all classes present in our final dataframe.\n",
    "\n",
    "- CRASH_RECORD_ID, VEHICLE_ID can be dropped as we already used it to merge datasets.\n",
    "- PERSON_TYPE has only one variable. We can drop this.\n",
    "- FIRST_CRASH_TYPE also seems more of a diagnosis rather than action leading to the cause. We will not use this for prediction.\n",
    "- Majority of ALIGNMENT is STRAIGHT AND LEVEL. We will drop this column.\n",
    "- CRASH_TYPE does not present any insighful information. We will drop this.\n",
    "- We are not interested in DAMAGE for this EDA. We will drop this.\n",
    "- NUM_UNITS involved in car crash is also irrelevant. We will drop this."
   ]
  },
  {
   "cell_type": "code",
   "execution_count": 64,
   "metadata": {},
   "outputs": [],
   "source": [
    "df_final = df_a.drop(['CRASH_RECORD_ID', 'VEHICLE_ID', 'PERSON_TYPE','FIRST_CRASH_TYPE','ALIGNMENT', 'CRASH_TYPE', 'DAMAGE', 'NUM_UNITS'], axis=1).copy()  "
   ]
  },
  {
   "cell_type": "code",
   "execution_count": 65,
   "metadata": {},
   "outputs": [
    {
     "data": {
      "text/html": [
       "<div>\n",
       "<style scoped>\n",
       "    .dataframe tbody tr th:only-of-type {\n",
       "        vertical-align: middle;\n",
       "    }\n",
       "\n",
       "    .dataframe tbody tr th {\n",
       "        vertical-align: top;\n",
       "    }\n",
       "\n",
       "    .dataframe thead th {\n",
       "        text-align: right;\n",
       "    }\n",
       "</style>\n",
       "<table border=\"1\" class=\"dataframe\">\n",
       "  <thead>\n",
       "    <tr style=\"text-align: right;\">\n",
       "      <th></th>\n",
       "      <th>MANEUVER</th>\n",
       "      <th>SEX</th>\n",
       "      <th>AGE</th>\n",
       "      <th>DRIVER_ACTION</th>\n",
       "      <th>DRIVER_VISION</th>\n",
       "      <th>PHYSICAL_CONDITION</th>\n",
       "      <th>POSTED_SPEED_LIMIT</th>\n",
       "      <th>TRAFFIC_CONTROL_DEVICE</th>\n",
       "      <th>DEVICE_CONDITION</th>\n",
       "      <th>WEATHER_CONDITION</th>\n",
       "      <th>LIGHTING_CONDITION</th>\n",
       "      <th>TRAFFICWAY_TYPE</th>\n",
       "      <th>ROADWAY_SURFACE_COND</th>\n",
       "      <th>ROAD_DEFECT</th>\n",
       "      <th>PRIM_CONTRIBUTORY_CAUSE</th>\n",
       "      <th>CRASH_HOUR</th>\n",
       "      <th>CRASH_DAY_OF_WEEK</th>\n",
       "      <th>CRASH_MONTH</th>\n",
       "      <th>LOCATION</th>\n",
       "    </tr>\n",
       "  </thead>\n",
       "  <tbody>\n",
       "    <tr>\n",
       "      <th>0</th>\n",
       "      <td>STRAIGHT AHEAD</td>\n",
       "      <td>M</td>\n",
       "      <td>37</td>\n",
       "      <td>NONE</td>\n",
       "      <td>NOT OBSCURED</td>\n",
       "      <td>NORMAL</td>\n",
       "      <td>30</td>\n",
       "      <td>FLASHING CONTROL SIGNAL</td>\n",
       "      <td>FUNCTIONING PROPERLY</td>\n",
       "      <td>CLEAR</td>\n",
       "      <td>DARKNESS, LIGHTED ROAD</td>\n",
       "      <td>DIVIDED - W/MEDIAN (NOT RAISED)</td>\n",
       "      <td>DRY</td>\n",
       "      <td>NO DEFECTS</td>\n",
       "      <td>IMPROPER OVERTAKING/PASSING</td>\n",
       "      <td>22</td>\n",
       "      <td>2</td>\n",
       "      <td>4</td>\n",
       "      <td>POINT (-87.653404241798 41.736044089544)</td>\n",
       "    </tr>\n",
       "    <tr>\n",
       "      <th>1</th>\n",
       "      <td>STRAIGHT AHEAD</td>\n",
       "      <td>F</td>\n",
       "      <td>32</td>\n",
       "      <td>DISREGARDED CONTROL DEVICES</td>\n",
       "      <td>NOT OBSCURED</td>\n",
       "      <td>NORMAL</td>\n",
       "      <td>25</td>\n",
       "      <td>TRAFFIC SIGNAL</td>\n",
       "      <td>FUNCTIONING PROPERLY</td>\n",
       "      <td>CLEAR</td>\n",
       "      <td>DAYLIGHT</td>\n",
       "      <td>NOT DIVIDED</td>\n",
       "      <td>DRY</td>\n",
       "      <td>NO DEFECTS</td>\n",
       "      <td>DISREGARDING TRAFFIC SIGNALS</td>\n",
       "      <td>15</td>\n",
       "      <td>2</td>\n",
       "      <td>2</td>\n",
       "      <td>POINT (-87.694829722211 41.997754789249)</td>\n",
       "    </tr>\n",
       "    <tr>\n",
       "      <th>2</th>\n",
       "      <td>STRAIGHT AHEAD</td>\n",
       "      <td>F</td>\n",
       "      <td>37</td>\n",
       "      <td>NONE</td>\n",
       "      <td>NOT OBSCURED</td>\n",
       "      <td>NORMAL</td>\n",
       "      <td>25</td>\n",
       "      <td>TRAFFIC SIGNAL</td>\n",
       "      <td>FUNCTIONING PROPERLY</td>\n",
       "      <td>CLEAR</td>\n",
       "      <td>DAYLIGHT</td>\n",
       "      <td>NOT DIVIDED</td>\n",
       "      <td>DRY</td>\n",
       "      <td>NO DEFECTS</td>\n",
       "      <td>DISREGARDING TRAFFIC SIGNALS</td>\n",
       "      <td>15</td>\n",
       "      <td>2</td>\n",
       "      <td>2</td>\n",
       "      <td>POINT (-87.694829722211 41.997754789249)</td>\n",
       "    </tr>\n",
       "    <tr>\n",
       "      <th>3</th>\n",
       "      <td>STARTING IN TRAFFIC</td>\n",
       "      <td>M</td>\n",
       "      <td>41</td>\n",
       "      <td>FAILED TO YIELD</td>\n",
       "      <td>UNKNOWN</td>\n",
       "      <td>NORMAL</td>\n",
       "      <td>30</td>\n",
       "      <td>STOP SIGN/FLASHER</td>\n",
       "      <td>OTHER</td>\n",
       "      <td>CLEAR</td>\n",
       "      <td>DAYLIGHT</td>\n",
       "      <td>FOUR WAY</td>\n",
       "      <td>WET</td>\n",
       "      <td>NO DEFECTS</td>\n",
       "      <td>DRIVING SKILLS/KNOWLEDGE/EXPERIENCE</td>\n",
       "      <td>13</td>\n",
       "      <td>6</td>\n",
       "      <td>2</td>\n",
       "      <td>POINT (-87.566318064211 41.748002679833)</td>\n",
       "    </tr>\n",
       "    <tr>\n",
       "      <th>4</th>\n",
       "      <td>TURNING LEFT</td>\n",
       "      <td>M</td>\n",
       "      <td>50</td>\n",
       "      <td>IMPROPER TURN</td>\n",
       "      <td>UNKNOWN</td>\n",
       "      <td>NORMAL</td>\n",
       "      <td>30</td>\n",
       "      <td>TRAFFIC SIGNAL</td>\n",
       "      <td>FUNCTIONING PROPERLY</td>\n",
       "      <td>CLEAR</td>\n",
       "      <td>DAYLIGHT</td>\n",
       "      <td>FOUR WAY</td>\n",
       "      <td>DRY</td>\n",
       "      <td>NO DEFECTS</td>\n",
       "      <td>IMPROPER TURNING/NO SIGNAL</td>\n",
       "      <td>12</td>\n",
       "      <td>7</td>\n",
       "      <td>2</td>\n",
       "      <td>POINT (-87.660503563674 41.99807987571)</td>\n",
       "    </tr>\n",
       "  </tbody>\n",
       "</table>\n",
       "</div>"
      ],
      "text/plain": [
       "              MANEUVER SEX AGE                DRIVER_ACTION DRIVER_VISION  \\\n",
       "0       STRAIGHT AHEAD   M  37                         NONE  NOT OBSCURED   \n",
       "1       STRAIGHT AHEAD   F  32  DISREGARDED CONTROL DEVICES  NOT OBSCURED   \n",
       "2       STRAIGHT AHEAD   F  37                         NONE  NOT OBSCURED   \n",
       "3  STARTING IN TRAFFIC   M  41              FAILED TO YIELD       UNKNOWN   \n",
       "4         TURNING LEFT   M  50                IMPROPER TURN       UNKNOWN   \n",
       "\n",
       "  PHYSICAL_CONDITION  POSTED_SPEED_LIMIT   TRAFFIC_CONTROL_DEVICE  \\\n",
       "0             NORMAL                  30  FLASHING CONTROL SIGNAL   \n",
       "1             NORMAL                  25           TRAFFIC SIGNAL   \n",
       "2             NORMAL                  25           TRAFFIC SIGNAL   \n",
       "3             NORMAL                  30        STOP SIGN/FLASHER   \n",
       "4             NORMAL                  30           TRAFFIC SIGNAL   \n",
       "\n",
       "       DEVICE_CONDITION WEATHER_CONDITION      LIGHTING_CONDITION  \\\n",
       "0  FUNCTIONING PROPERLY             CLEAR  DARKNESS, LIGHTED ROAD   \n",
       "1  FUNCTIONING PROPERLY             CLEAR                DAYLIGHT   \n",
       "2  FUNCTIONING PROPERLY             CLEAR                DAYLIGHT   \n",
       "3                 OTHER             CLEAR                DAYLIGHT   \n",
       "4  FUNCTIONING PROPERLY             CLEAR                DAYLIGHT   \n",
       "\n",
       "                   TRAFFICWAY_TYPE ROADWAY_SURFACE_COND ROAD_DEFECT  \\\n",
       "0  DIVIDED - W/MEDIAN (NOT RAISED)                  DRY  NO DEFECTS   \n",
       "1                      NOT DIVIDED                  DRY  NO DEFECTS   \n",
       "2                      NOT DIVIDED                  DRY  NO DEFECTS   \n",
       "3                         FOUR WAY                  WET  NO DEFECTS   \n",
       "4                         FOUR WAY                  DRY  NO DEFECTS   \n",
       "\n",
       "               PRIM_CONTRIBUTORY_CAUSE  CRASH_HOUR  CRASH_DAY_OF_WEEK  \\\n",
       "0          IMPROPER OVERTAKING/PASSING          22                  2   \n",
       "1         DISREGARDING TRAFFIC SIGNALS          15                  2   \n",
       "2         DISREGARDING TRAFFIC SIGNALS          15                  2   \n",
       "3  DRIVING SKILLS/KNOWLEDGE/EXPERIENCE          13                  6   \n",
       "4           IMPROPER TURNING/NO SIGNAL          12                  7   \n",
       "\n",
       "   CRASH_MONTH                                  LOCATION  \n",
       "0            4  POINT (-87.653404241798 41.736044089544)  \n",
       "1            2  POINT (-87.694829722211 41.997754789249)  \n",
       "2            2  POINT (-87.694829722211 41.997754789249)  \n",
       "3            2  POINT (-87.566318064211 41.748002679833)  \n",
       "4            2   POINT (-87.660503563674 41.99807987571)  "
      ]
     },
     "execution_count": 65,
     "metadata": {},
     "output_type": "execute_result"
    }
   ],
   "source": [
    "df_final.head()"
   ]
  },
  {
   "cell_type": "code",
   "execution_count": 66,
   "metadata": {},
   "outputs": [
    {
     "data": {
      "text/plain": [
       "(404326, 19)"
      ]
     },
     "execution_count": 66,
     "metadata": {},
     "output_type": "execute_result"
    }
   ],
   "source": [
    "df_final.shape"
   ]
  },
  {
   "cell_type": "markdown",
   "metadata": {},
   "source": [
    "Our final dataset has about 400,000 rows with 19 columns. Almost all of the columns are categorical. We will have to do some feature elimination to make this fit into a model."
   ]
  },
  {
   "cell_type": "markdown",
   "metadata": {},
   "source": [
    "### Feature Engineering"
   ]
  },
  {
   "cell_type": "markdown",
   "metadata": {},
   "source": [
    "#### 1. Target Variables"
   ]
  },
  {
   "cell_type": "code",
   "execution_count": 67,
   "metadata": {},
   "outputs": [],
   "source": [
    "target_list = list(df_final.PRIM_CONTRIBUTORY_CAUSE.unique())"
   ]
  },
  {
   "cell_type": "code",
   "execution_count": 68,
   "metadata": {},
   "outputs": [
    {
     "data": {
      "text/plain": [
       "['IMPROPER OVERTAKING/PASSING',\n",
       " 'DISREGARDING TRAFFIC SIGNALS',\n",
       " 'DRIVING SKILLS/KNOWLEDGE/EXPERIENCE',\n",
       " 'IMPROPER TURNING/NO SIGNAL',\n",
       " 'FAILING TO REDUCE SPEED TO AVOID CRASH',\n",
       " 'FOLLOWING TOO CLOSELY',\n",
       " 'IMPROPER BACKING',\n",
       " 'IMPROPER LANE USAGE',\n",
       " 'FAILING TO YIELD RIGHT-OF-WAY',\n",
       " 'DISREGARDING STOP SIGN',\n",
       " 'DISTRACTION - FROM INSIDE VEHICLE',\n",
       " 'UNDER THE INFLUENCE OF ALCOHOL/DRUGS (USE WHEN ARREST IS EFFECTED)',\n",
       " 'VISION OBSCURED (SIGNS, TREE LIMBS, BUILDINGS, ETC.)',\n",
       " 'EQUIPMENT - VEHICLE CONDITION',\n",
       " 'DISREGARDING OTHER TRAFFIC SIGNS',\n",
       " 'DRIVING ON WRONG SIDE/WRONG WAY',\n",
       " 'WEATHER',\n",
       " 'DISTRACTION - FROM OUTSIDE VEHICLE',\n",
       " 'PHYSICAL CONDITION OF DRIVER',\n",
       " 'ROAD ENGINEERING/SURFACE/MARKING DEFECTS',\n",
       " 'OPERATING VEHICLE IN ERRATIC, RECKLESS, CARELESS, NEGLIGENT OR AGGRESSIVE MANNER',\n",
       " 'TEXTING',\n",
       " 'ROAD CONSTRUCTION/MAINTENANCE',\n",
       " 'DISREGARDING ROAD MARKINGS',\n",
       " 'DISREGARDING YIELD SIGN',\n",
       " 'EVASIVE ACTION DUE TO ANIMAL, OBJECT, NONMOTORIST',\n",
       " 'ANIMAL',\n",
       " 'CELL PHONE USE OTHER THAN TEXTING',\n",
       " 'RELATED TO BUS STOP',\n",
       " 'TURNING RIGHT ON RED',\n",
       " 'DISTRACTION - OTHER ELECTRONIC DEVICE (NAVIGATION DEVICE, DVD PLAYER, ETC.)',\n",
       " 'HAD BEEN DRINKING (USE WHEN ARREST IS NOT MADE)',\n",
       " 'OBSTRUCTED CROSSWALKS',\n",
       " 'PASSING STOPPED SCHOOL BUS',\n",
       " 'EXCEEDING AUTHORIZED SPEED LIMIT',\n",
       " 'EXCEEDING SAFE SPEED FOR CONDITIONS',\n",
       " 'BICYCLE ADVANCING LEGALLY ON RED LIGHT',\n",
       " 'MOTORCYCLE ADVANCING LEGALLY ON RED LIGHT']"
      ]
     },
     "execution_count": 68,
     "metadata": {},
     "output_type": "execute_result"
    }
   ],
   "source": [
    "target_list"
   ]
  },
  {
   "cell_type": "code",
   "execution_count": 69,
   "metadata": {},
   "outputs": [
    {
     "data": {
      "text/plain": [
       "38"
      ]
     },
     "execution_count": 69,
     "metadata": {},
     "output_type": "execute_result"
    }
   ],
   "source": [
    "len(target_list)"
   ]
  },
  {
   "cell_type": "markdown",
   "metadata": {},
   "source": [
    "We have about 38 target variables which are a bit too many to classify and predict. For the purposes of this business case, we will reduce these target variables to just two categories.\n",
    "\n",
    "* UNINTENTIONAL (0): This will include all causes or actions that led to an accident but the driver was unaware or thought that an accident would not occur. \n",
    "* INTENTIONAL (1): This will include all causes or actions that the driver took willingly, knowing that there is a high chance of a crash following his actions."
   ]
  },
  {
   "cell_type": "code",
   "execution_count": 70,
   "metadata": {},
   "outputs": [],
   "source": [
    "df_final.PRIM_CONTRIBUTORY_CAUSE = df_final.PRIM_CONTRIBUTORY_CAUSE.map({\n",
    "    'DRIVING SKILLS/KNOWLEDGE/EXPERIENCE':0,\n",
    "    'DISTRACTION - FROM INSIDE VEHICLE':0,\n",
    "    'VISION OBSCURED (SIGNS, TREE LIMBS, BUILDINGS, ETC.)':0,\n",
    "    'WEATHER':0,\n",
    "    'DISTRACTION - FROM OUTSIDE VEHICLE':0,\n",
    "    'ROAD ENGINEERING/SURFACE/MARKING DEFECTS':0,\n",
    "    'OBSTRUCTED CROSSWALKS':0,\n",
    "    'BICYCLE ADVANCING LEGALLY ON RED LIGHT':0,\n",
    "    'MOTORCYCLE ADVANCING LEGALLY ON RED LIGHT':0,\n",
    "    'FAILING TO YIELD RIGHT-OF-WAY':0,\n",
    "    'FAILING TO REDUCE SPEED TO AVOID CRASH':0,\n",
    "    'PHYSICAL CONDITION OF DRIVER':0,\n",
    "    'TEXTING':0,\n",
    "    'ROAD CONSTRUCTION/MAINTENANCE':0,\n",
    "    'EVASIVE ACTION DUE TO ANIMAL, OBJECT, NONMOTORIST':0,\n",
    "    'ANIMAL':0,\n",
    "    'CELL PHONE USE OTHER THAN TEXTING':0,\n",
    "    'RELATED TO BUS STOP':0,\n",
    "    'TURNING RIGHT ON RED':0,\n",
    "    'DISTRACTION - OTHER ELECTRONIC DEVICE (NAVIGATION DEVICE, DVD PLAYER, ETC.)':0,\n",
    "    'PASSING STOPPED SCHOOL BUS':0,\n",
    "    'EQUIPMENT - VEHICLE CONDITION':0,\n",
    "    'IMPROPER OVERTAKING/PASSING':1,\n",
    "    'DISREGARDING TRAFFIC SIGNALS':1,\n",
    "    'IMPROPER TURNING/NO SIGNAL':1,\n",
    "    'FOLLOWING TOO CLOSELY':1,\n",
    "    'IMPROPER BACKING':1,\n",
    "    'IMPROPER LANE USAGE':1,\n",
    "    'DISREGARDING STOP SIGN':1,\n",
    "    'DISREGARDING OTHER TRAFFIC SIGNS':1,\n",
    "    'DRIVING ON WRONG SIDE/WRONG WAY':1,\n",
    "    'OPERATING VEHICLE IN ERRATIC, RECKLESS, CARELESS, NEGLIGENT OR AGGRESSIVE MANNER':1,\n",
    "    'DISREGARDING ROAD MARKINGS':1,\n",
    "    'DISREGARDING YIELD SIGN':1,\n",
    "    'EXCEEDING AUTHORIZED SPEED LIMIT':1,\n",
    "    'EXCEEDING SAFE SPEED FOR CONDITIONS':1,\n",
    "    'UNDER THE INFLUENCE OF ALCOHOL/DRUGS (USE WHEN ARREST IS EFFECTED)':1,\n",
    "    'HAD BEEN DRINKING (USE WHEN ARREST IS NOT MADE)':1\n",
    "})"
   ]
  },
  {
   "cell_type": "code",
   "execution_count": 71,
   "metadata": {},
   "outputs": [
    {
     "data": {
      "text/plain": [
       "1    232467\n",
       "0    171859\n",
       "Name: PRIM_CONTRIBUTORY_CAUSE, dtype: int64"
      ]
     },
     "execution_count": 71,
     "metadata": {},
     "output_type": "execute_result"
    }
   ],
   "source": [
    "df_final.PRIM_CONTRIBUTORY_CAUSE.value_counts()"
   ]
  },
  {
   "cell_type": "markdown",
   "metadata": {},
   "source": [
    "Now we have only 2 target variables. The samples are evenly distributed, which will help us train the model accurately."
   ]
  },
  {
   "cell_type": "markdown",
   "metadata": {},
   "source": [
    "#### 2. Predictors"
   ]
  },
  {
   "cell_type": "code",
   "execution_count": 72,
   "metadata": {},
   "outputs": [
    {
     "name": "stdout",
     "output_type": "stream",
     "text": [
      "\n",
      "MANEUVER\n",
      "\n",
      "STRAIGHT AHEAD                        231031\n",
      "SLOW/STOP IN TRAFFIC                   46918\n",
      "TURNING LEFT                           32489\n",
      "BACKING                                17140\n",
      "TURNING RIGHT                          16998\n",
      "PASSING/OVERTAKING                     10031\n",
      "CHANGING LANES                          9613\n",
      "OTHER                                   6306\n",
      "ENTERING TRAFFIC LANE FROM PARKING      5600\n",
      "UNKNOWN/NA                              3857\n",
      "STARTING IN TRAFFIC                     3505\n",
      "MERGING                                 3113\n",
      "U-TURN                                  2917\n",
      "SKIDDING/CONTROL LOSS                   2737\n",
      "AVOIDING VEHICLES/OBJECTS               2441\n",
      "ENTER FROM DRIVE/ALLEY                  2172\n",
      "LEAVING TRAFFIC LANE TO PARK            2007\n",
      "SLOW/STOP - LEFT TURN                   1867\n",
      "SLOW/STOP - RIGHT TURN                  1168\n",
      "SLOW/STOP - LOAD/UNLOAD                  883\n",
      "NEGOTIATING A CURVE                      635\n",
      "DRIVING WRONG WAY                        621\n",
      "TURNING ON RED                           197\n",
      "DIVERGING                                 75\n",
      "PARKED                                     4\n",
      "PARKED IN TRAFFIC LANE                     1\n",
      "Name: MANEUVER, dtype: int64\n",
      "\n",
      "SEX\n",
      "\n",
      "M    242739\n",
      "F    161587\n",
      "Name: SEX, dtype: int64\n",
      "\n",
      "AGE\n",
      "\n",
      "25     12444\n",
      "27     12224\n",
      "26     12224\n",
      "28     11882\n",
      "24     11750\n",
      "       ...  \n",
      "108        2\n",
      "104        1\n",
      "109        1\n",
      "107        1\n",
      "110        1\n",
      "Name: AGE, Length: 107, dtype: int64\n",
      "\n",
      "DRIVER_ACTION\n",
      "\n",
      "NONE                                 188706\n",
      "FAILED TO YIELD                       48672\n",
      "FOLLOWED TOO CLOSELY                  35626\n",
      "OTHER                                 34734\n",
      "UNKNOWN                               25357\n",
      "IMPROPER BACKING                      13959\n",
      "IMPROPER TURN                         13912\n",
      "IMPROPER LANE CHANGE                  12681\n",
      "IMPROPER PASSING                       8691\n",
      "TOO FAST FOR CONDITIONS                8483\n",
      "DISREGARDED CONTROL DEVICES            8040\n",
      "WRONG WAY/SIDE                         1531\n",
      "IMPROPER PARKING                       1219\n",
      "EVADING POLICE VEHICLE                  792\n",
      "CELL PHONE USE OTHER THAN TEXTING       753\n",
      "EMERGENCY VEHICLE ON CALL               437\n",
      "OVERCORRECTED                           417\n",
      "TEXTING                                 227\n",
      "STOPPED SCHOOL BUS                       64\n",
      "LICENSE RESTRICTIONS                     25\n",
      "Name: DRIVER_ACTION, dtype: int64\n",
      "\n",
      "DRIVER_VISION\n",
      "\n",
      "NOT OBSCURED              293289\n",
      "UNKNOWN                    96291\n",
      "OTHER                       5111\n",
      "MOVING VEHICLES             3893\n",
      "PARKED VEHICLES             2361\n",
      "WINDSHIELD (WATER/ICE)      1899\n",
      "BLINDED - SUNLIGHT           789\n",
      "TREES, PLANTS                270\n",
      "BUILDINGS                    223\n",
      "BLINDED - HEADLIGHTS          49\n",
      "HILLCREST                     46\n",
      "EMBANKMENT                    44\n",
      "BLOWING MATERIALS             44\n",
      "SIGNBOARD                     17\n",
      "Name: DRIVER_VISION, dtype: int64\n",
      "\n",
      "PHYSICAL_CONDITION\n",
      "\n",
      "NORMAL                          352495\n",
      "UNKNOWN                          41568\n",
      "IMPAIRED - ALCOHOL                3255\n",
      "FATIGUED/ASLEEP                   1634\n",
      "REMOVED BY EMS                    1465\n",
      "OTHER                             1179\n",
      "EMOTIONAL                         1101\n",
      "ILLNESS/FAINTED                    621\n",
      "HAD BEEN DRINKING                  403\n",
      "IMPAIRED - DRUGS                   377\n",
      "IMPAIRED - ALCOHOL AND DRUGS       148\n",
      "MEDICATED                           80\n",
      "Name: PHYSICAL_CONDITION, dtype: int64\n",
      "\n",
      "POSTED_SPEED_LIMIT\n",
      "\n",
      "30    312896\n",
      "35     32367\n",
      "25     19733\n",
      "20     10513\n",
      "15      9304\n",
      "40      5204\n",
      "10      4599\n",
      "0       4160\n",
      "45      3048\n",
      "5       1741\n",
      "55       354\n",
      "50        99\n",
      "3         85\n",
      "39        57\n",
      "9         55\n",
      "60        20\n",
      "32        12\n",
      "2         11\n",
      "1         11\n",
      "99        10\n",
      "33        10\n",
      "34         7\n",
      "11         6\n",
      "36         5\n",
      "24         3\n",
      "7          3\n",
      "70         2\n",
      "12         2\n",
      "63         2\n",
      "65         2\n",
      "31         2\n",
      "6          1\n",
      "38         1\n",
      "49         1\n",
      "Name: POSTED_SPEED_LIMIT, dtype: int64\n",
      "\n",
      "TRAFFIC_CONTROL_DEVICE\n",
      "\n",
      "NO CONTROLS                 188729\n",
      "TRAFFIC SIGNAL              150066\n",
      "STOP SIGN/FLASHER            52186\n",
      "UNKNOWN                       6589\n",
      "OTHER                         2355\n",
      "LANE USE MARKING              1415\n",
      "YIELD                          776\n",
      "OTHER REG. SIGN                461\n",
      "OTHER WARNING SIGN             413\n",
      "RAILROAD CROSSING GATE         336\n",
      "POLICE/FLAGMAN                 213\n",
      "PEDESTRIAN CROSSING SIGN       209\n",
      "DELINEATORS                    143\n",
      "FLASHING CONTROL SIGNAL        133\n",
      "SCHOOL ZONE                    128\n",
      "OTHER RAILROAD CROSSING        107\n",
      "NO PASSING                      31\n",
      "RR CROSSING SIGN                28\n",
      "BICYCLE CROSSING SIGN            8\n",
      "Name: TRAFFIC_CONTROL_DEVICE, dtype: int64\n",
      "\n",
      "DEVICE_CONDITION\n",
      "\n",
      "NO CONTROLS                 193475\n",
      "FUNCTIONING PROPERLY        188494\n",
      "UNKNOWN                      14454\n",
      "OTHER                         3292\n",
      "FUNCTIONING IMPROPERLY        2827\n",
      "NOT FUNCTIONING               1474\n",
      "WORN REFLECTIVE MATERIAL       241\n",
      "MISSING                         69\n",
      "Name: DEVICE_CONDITION, dtype: int64\n",
      "\n",
      "WEATHER_CONDITION\n",
      "\n",
      "CLEAR                       321586\n",
      "RAIN                         41076\n",
      "SNOW                         17911\n",
      "CLOUDY/OVERCAST              14493\n",
      "UNKNOWN                       5633\n",
      "OTHER                         1358\n",
      "FOG/SMOKE/HAZE                 745\n",
      "SLEET/HAIL                     722\n",
      "FREEZING RAIN/DRIZZLE          560\n",
      "BLOWING SNOW                   151\n",
      "SEVERE CROSS WIND GATE          89\n",
      "BLOWING SAND, SOIL, DIRT         2\n",
      "Name: WEATHER_CONDITION, dtype: int64\n",
      "\n",
      "LIGHTING_CONDITION\n",
      "\n",
      "DAYLIGHT                  276998\n",
      "DARKNESS, LIGHTED ROAD     87325\n",
      "DARKNESS                   17095\n",
      "DUSK                       13000\n",
      "DAWN                        6800\n",
      "UNKNOWN                     3108\n",
      "Name: LIGHTING_CONDITION, dtype: int64\n",
      "\n",
      "TRAFFICWAY_TYPE\n",
      "\n",
      "NOT DIVIDED                        182652\n",
      "DIVIDED - W/MEDIAN (NOT RAISED)     87269\n",
      "ONE-WAY                             37958\n",
      "DIVIDED - W/MEDIAN BARRIER          30646\n",
      "FOUR WAY                            18703\n",
      "PARKING LOT                         16377\n",
      "OTHER                               10518\n",
      "CENTER TURN LANE                     4981\n",
      "ALLEY                                4279\n",
      "T-INTERSECTION                       3890\n",
      "UNKNOWN                              2149\n",
      "RAMP                                 1441\n",
      "DRIVEWAY                              996\n",
      "UNKNOWN INTERSECTION TYPE             932\n",
      "FIVE POINT, OR MORE                   468\n",
      "Y-INTERSECTION                        432\n",
      "TRAFFIC ROUTE                         365\n",
      "NOT REPORTED                          151\n",
      "ROUNDABOUT                             71\n",
      "L-INTERSECTION                         48\n",
      "Name: TRAFFICWAY_TYPE, dtype: int64\n",
      "\n",
      "ROADWAY_SURFACE_COND\n",
      "\n",
      "DRY                304923\n",
      "WET                 64034\n",
      "SNOW OR SLUSH       16959\n",
      "UNKNOWN             13496\n",
      "ICE                  3913\n",
      "OTHER                 854\n",
      "SAND, MUD, DIRT       147\n",
      "Name: ROADWAY_SURFACE_COND, dtype: int64\n",
      "\n",
      "ROAD_DEFECT\n",
      "\n",
      "NO DEFECTS           349387\n",
      "UNKNOWN               47035\n",
      "RUT, HOLES             2690\n",
      "OTHER                  2313\n",
      "WORN SURFACE           1632\n",
      "SHOULDER DEFECT         909\n",
      "DEBRIS ON ROADWAY       360\n",
      "Name: ROAD_DEFECT, dtype: int64\n",
      "\n",
      "PRIM_CONTRIBUTORY_CAUSE\n",
      "\n",
      "1    232467\n",
      "0    171859\n",
      "Name: PRIM_CONTRIBUTORY_CAUSE, dtype: int64\n",
      "\n",
      "CRASH_HOUR\n",
      "\n",
      "16    32858\n",
      "17    32647\n",
      "15    32114\n",
      "14    27834\n",
      "18    26138\n",
      "13    25033\n",
      "12    23671\n",
      "8     23235\n",
      "11    21438\n",
      "9     19463\n",
      "10    19088\n",
      "7     18772\n",
      "19    18504\n",
      "20    14081\n",
      "21    12384\n",
      "22    11332\n",
      "23     9215\n",
      "6      8813\n",
      "0      6816\n",
      "1      5304\n",
      "5      4507\n",
      "2      4465\n",
      "3      3466\n",
      "4      3148\n",
      "Name: CRASH_HOUR, dtype: int64\n",
      "\n",
      "CRASH_DAY_OF_WEEK\n",
      "\n",
      "6    67675\n",
      "5    59891\n",
      "4    58922\n",
      "3    58613\n",
      "7    58456\n",
      "2    55593\n",
      "1    45176\n",
      "Name: CRASH_DAY_OF_WEEK, dtype: int64\n",
      "\n",
      "CRASH_MONTH\n",
      "\n",
      "10    38984\n",
      "12    37350\n",
      "11    36268\n",
      "9     35506\n",
      "1     34801\n",
      "8     34459\n",
      "2     33358\n",
      "3     32809\n",
      "7     32727\n",
      "6     30793\n",
      "5     30648\n",
      "4     26623\n",
      "Name: CRASH_MONTH, dtype: int64\n",
      "\n",
      "LOCATION\n",
      "\n",
      "POINT (-87.905309125103 41.976201139024)    532\n",
      "POINT (-87.585971992965 41.751460603167)    306\n",
      "POINT (-87.580147768689 41.791420282098)    292\n",
      "POINT (-87.619928173678 41.900958919109)    245\n",
      "POINT (-87.585275565077 41.722257273006)    221\n",
      "                                           ... \n",
      "POINT (-87.717021930439 41.920660254709)      1\n",
      "POINT (-87.598169838264 41.7642442872)        1\n",
      "POINT (-87.672147240918 41.998697835695)      1\n",
      "POINT (-87.671572254269 41.927909510622)      1\n",
      "POINT (-87.7343857472 41.929070847282)        1\n",
      "Name: LOCATION, Length: 121238, dtype: int64\n"
     ]
    }
   ],
   "source": [
    "for col in df_final.columns:\n",
    "    print('\\n' + col + '\\n')\n",
    "    print(df_final[col].value_counts())"
   ]
  },
  {
   "cell_type": "code",
   "execution_count": 73,
   "metadata": {},
   "outputs": [
    {
     "data": {
      "text/plain": [
       "count     404326\n",
       "unique       107\n",
       "top           25\n",
       "freq       12444\n",
       "Name: AGE, dtype: object"
      ]
     },
     "execution_count": 73,
     "metadata": {},
     "output_type": "execute_result"
    }
   ],
   "source": [
    "df_final.AGE.describe()"
   ]
  },
  {
   "cell_type": "code",
   "execution_count": 74,
   "metadata": {},
   "outputs": [
    {
     "data": {
      "text/plain": [
       "NOT OBSCURED              293289\n",
       "UNKNOWN                    96291\n",
       "OTHER                       5111\n",
       "MOVING VEHICLES             3893\n",
       "PARKED VEHICLES             2361\n",
       "WINDSHIELD (WATER/ICE)      1899\n",
       "BLINDED - SUNLIGHT           789\n",
       "TREES, PLANTS                270\n",
       "BUILDINGS                    223\n",
       "BLINDED - HEADLIGHTS          49\n",
       "HILLCREST                     46\n",
       "EMBANKMENT                    44\n",
       "BLOWING MATERIALS             44\n",
       "SIGNBOARD                     17\n",
       "Name: DRIVER_VISION, dtype: int64"
      ]
     },
     "execution_count": 74,
     "metadata": {},
     "output_type": "execute_result"
    }
   ],
   "source": [
    "df_final.DRIVER_VISION.value_counts()"
   ]
  },
  {
   "cell_type": "markdown",
   "metadata": {},
   "source": [
    "Here, other than NOT OBSCURED and UNKNOWN, everything else is a type of OBSCURED. We will group them into one."
   ]
  },
  {
   "cell_type": "code",
   "execution_count": 75,
   "metadata": {},
   "outputs": [],
   "source": [
    "df_final.DRIVER_VISION = df_final.DRIVER_VISION.apply(lambda x: 'OBSCURED' if x not in ['NOT OBSCURED', 'UNKNOWN'] else x)"
   ]
  },
  {
   "cell_type": "code",
   "execution_count": 76,
   "metadata": {},
   "outputs": [
    {
     "data": {
      "text/plain": [
       "NOT OBSCURED    293289\n",
       "UNKNOWN          96291\n",
       "OBSCURED         14746\n",
       "Name: DRIVER_VISION, dtype: int64"
      ]
     },
     "execution_count": 76,
     "metadata": {},
     "output_type": "execute_result"
    }
   ],
   "source": [
    "df_final.DRIVER_VISION.value_counts()"
   ]
  },
  {
   "cell_type": "code",
   "execution_count": 77,
   "metadata": {},
   "outputs": [
    {
     "data": {
      "text/plain": [
       "NORMAL                          352495\n",
       "UNKNOWN                          41568\n",
       "IMPAIRED - ALCOHOL                3255\n",
       "FATIGUED/ASLEEP                   1634\n",
       "REMOVED BY EMS                    1465\n",
       "OTHER                             1179\n",
       "EMOTIONAL                         1101\n",
       "ILLNESS/FAINTED                    621\n",
       "HAD BEEN DRINKING                  403\n",
       "IMPAIRED - DRUGS                   377\n",
       "IMPAIRED - ALCOHOL AND DRUGS       148\n",
       "MEDICATED                           80\n",
       "Name: PHYSICAL_CONDITION, dtype: int64"
      ]
     },
     "execution_count": 77,
     "metadata": {},
     "output_type": "execute_result"
    }
   ],
   "source": [
    "df_final.PHYSICAL_CONDITION.value_counts()"
   ]
  },
  {
   "cell_type": "markdown",
   "metadata": {},
   "source": [
    "Here too, other than NORMAL and UNKNOWN, we will rename the rest as IMPAIRED."
   ]
  },
  {
   "cell_type": "code",
   "execution_count": 78,
   "metadata": {},
   "outputs": [],
   "source": [
    "df_final.PHYSICAL_CONDITION = df_final.PHYSICAL_CONDITION.apply(lambda x: 'IMPAIRED' if x not in ['NORMAL', 'UNKNOWN'] else x)"
   ]
  },
  {
   "cell_type": "code",
   "execution_count": 79,
   "metadata": {},
   "outputs": [
    {
     "data": {
      "text/plain": [
       "NORMAL      352495\n",
       "UNKNOWN      41568\n",
       "IMPAIRED     10263\n",
       "Name: PHYSICAL_CONDITION, dtype: int64"
      ]
     },
     "execution_count": 79,
     "metadata": {},
     "output_type": "execute_result"
    }
   ],
   "source": [
    "df_final.PHYSICAL_CONDITION.value_counts()"
   ]
  },
  {
   "cell_type": "code",
   "execution_count": 80,
   "metadata": {},
   "outputs": [
    {
     "data": {
      "text/plain": [
       "NO CONTROLS                 193475\n",
       "FUNCTIONING PROPERLY        188494\n",
       "UNKNOWN                      14454\n",
       "OTHER                         3292\n",
       "FUNCTIONING IMPROPERLY        2827\n",
       "NOT FUNCTIONING               1474\n",
       "WORN REFLECTIVE MATERIAL       241\n",
       "MISSING                         69\n",
       "Name: DEVICE_CONDITION, dtype: int64"
      ]
     },
     "execution_count": 80,
     "metadata": {},
     "output_type": "execute_result"
    }
   ],
   "source": [
    "df_final.DEVICE_CONDITION.value_counts()"
   ]
  },
  {
   "cell_type": "markdown",
   "metadata": {},
   "source": [
    "We will group these into NO_CONTROLS, FUNCTIONING, NOT FUNCTIONING and UNKNOWN."
   ]
  },
  {
   "cell_type": "code",
   "execution_count": 81,
   "metadata": {},
   "outputs": [],
   "source": [
    "df_final.DEVICE_CONDITION = df_final.DEVICE_CONDITION.apply(lambda x: 'FUNCTIONING' if x in ['FUNCTIONING PROPERLY', 'WORN REFLECTIVE MATERIAL'] else x)"
   ]
  },
  {
   "cell_type": "code",
   "execution_count": 82,
   "metadata": {},
   "outputs": [],
   "source": [
    "df_final.DEVICE_CONDITION = df_final.DEVICE_CONDITION.apply(lambda x: 'NOT FUNCTIONING' if x in ['FUNCTIONING IMPROPERLY', 'NOT FUNCTIONING'] else x)"
   ]
  },
  {
   "cell_type": "code",
   "execution_count": 83,
   "metadata": {},
   "outputs": [],
   "source": [
    "df_final.DEVICE_CONDITION = df_final.DEVICE_CONDITION.apply(lambda x: 'NO CONTROLS' if x in ['NO CONTROLS', 'MISSING'] else x)"
   ]
  },
  {
   "cell_type": "code",
   "execution_count": 84,
   "metadata": {},
   "outputs": [],
   "source": [
    "df_final.DEVICE_CONDITION = df_final.DEVICE_CONDITION.apply(lambda x: 'UNKNOWN' if x in ['UNKNOWN', 'OTHER'] else x)"
   ]
  },
  {
   "cell_type": "code",
   "execution_count": 85,
   "metadata": {},
   "outputs": [
    {
     "data": {
      "text/plain": [
       "NO CONTROLS        193544\n",
       "FUNCTIONING        188735\n",
       "UNKNOWN             17746\n",
       "NOT FUNCTIONING      4301\n",
       "Name: DEVICE_CONDITION, dtype: int64"
      ]
     },
     "execution_count": 85,
     "metadata": {},
     "output_type": "execute_result"
    }
   ],
   "source": [
    "df_final.DEVICE_CONDITION.value_counts()"
   ]
  },
  {
   "cell_type": "code",
   "execution_count": 86,
   "metadata": {},
   "outputs": [
    {
     "data": {
      "text/plain": [
       "CLEAR                       321586\n",
       "RAIN                         41076\n",
       "SNOW                         17911\n",
       "CLOUDY/OVERCAST              14493\n",
       "UNKNOWN                       5633\n",
       "OTHER                         1358\n",
       "FOG/SMOKE/HAZE                 745\n",
       "SLEET/HAIL                     722\n",
       "FREEZING RAIN/DRIZZLE          560\n",
       "BLOWING SNOW                   151\n",
       "SEVERE CROSS WIND GATE          89\n",
       "BLOWING SAND, SOIL, DIRT         2\n",
       "Name: WEATHER_CONDITION, dtype: int64"
      ]
     },
     "execution_count": 86,
     "metadata": {},
     "output_type": "execute_result"
    }
   ],
   "source": [
    "df_final.WEATHER_CONDITION.value_counts()"
   ]
  },
  {
   "cell_type": "code",
   "execution_count": 87,
   "metadata": {},
   "outputs": [],
   "source": [
    "df_final.WEATHER_CONDITION = df_final.WEATHER_CONDITION.apply(lambda x: 'SNOW' if x == 'BLOWING SNOW' else x)"
   ]
  },
  {
   "cell_type": "code",
   "execution_count": 88,
   "metadata": {},
   "outputs": [],
   "source": [
    "df_final.WEATHER_CONDITION = df_final.WEATHER_CONDITION.apply(lambda x: 'RAIN' if x in ['FREEZING RAIN/DRIZZLE','SLEET/HAIL'] else x)"
   ]
  },
  {
   "cell_type": "code",
   "execution_count": 89,
   "metadata": {},
   "outputs": [],
   "source": [
    "df_final.WEATHER_CONDITION = df_final.WEATHER_CONDITION.apply(lambda x: 'OTHER' if x in ['FOG/SMOKE/HAZE','SEVERE CROSS WIND GATE','BLOWING SAND, SOIL, DIRT'] else x)"
   ]
  },
  {
   "cell_type": "code",
   "execution_count": 90,
   "metadata": {},
   "outputs": [
    {
     "data": {
      "text/plain": [
       "CLEAR              321586\n",
       "RAIN                42358\n",
       "SNOW                18062\n",
       "CLOUDY/OVERCAST     14493\n",
       "UNKNOWN              5633\n",
       "OTHER                2194\n",
       "Name: WEATHER_CONDITION, dtype: int64"
      ]
     },
     "execution_count": 90,
     "metadata": {},
     "output_type": "execute_result"
    }
   ],
   "source": [
    "df_final.WEATHER_CONDITION.value_counts()"
   ]
  },
  {
   "cell_type": "code",
   "execution_count": 91,
   "metadata": {},
   "outputs": [
    {
     "data": {
      "text/plain": [
       "DAYLIGHT                  276998\n",
       "DARKNESS, LIGHTED ROAD     87325\n",
       "DARKNESS                   17095\n",
       "DUSK                       13000\n",
       "DAWN                        6800\n",
       "UNKNOWN                     3108\n",
       "Name: LIGHTING_CONDITION, dtype: int64"
      ]
     },
     "execution_count": 91,
     "metadata": {},
     "output_type": "execute_result"
    }
   ],
   "source": [
    "df_final.LIGHTING_CONDITION.value_counts()"
   ]
  },
  {
   "cell_type": "code",
   "execution_count": 92,
   "metadata": {},
   "outputs": [],
   "source": [
    "df_final.LIGHTING_CONDITION = df_final.LIGHTING_CONDITION.apply(lambda x: 'DARKNESS' if x == 'DARKNESS, LIGHTED ROAD' else x)"
   ]
  },
  {
   "cell_type": "code",
   "execution_count": 93,
   "metadata": {},
   "outputs": [
    {
     "data": {
      "text/plain": [
       "DAYLIGHT    276998\n",
       "DARKNESS    104420\n",
       "DUSK         13000\n",
       "DAWN          6800\n",
       "UNKNOWN       3108\n",
       "Name: LIGHTING_CONDITION, dtype: int64"
      ]
     },
     "execution_count": 93,
     "metadata": {},
     "output_type": "execute_result"
    }
   ],
   "source": [
    "df_final.LIGHTING_CONDITION.value_counts()"
   ]
  },
  {
   "cell_type": "code",
   "execution_count": 94,
   "metadata": {},
   "outputs": [
    {
     "data": {
      "text/plain": [
       "NOT DIVIDED                        182652\n",
       "DIVIDED - W/MEDIAN (NOT RAISED)     87269\n",
       "ONE-WAY                             37958\n",
       "DIVIDED - W/MEDIAN BARRIER          30646\n",
       "FOUR WAY                            18703\n",
       "PARKING LOT                         16377\n",
       "OTHER                               10518\n",
       "CENTER TURN LANE                     4981\n",
       "ALLEY                                4279\n",
       "T-INTERSECTION                       3890\n",
       "UNKNOWN                              2149\n",
       "RAMP                                 1441\n",
       "DRIVEWAY                              996\n",
       "UNKNOWN INTERSECTION TYPE             932\n",
       "FIVE POINT, OR MORE                   468\n",
       "Y-INTERSECTION                        432\n",
       "TRAFFIC ROUTE                         365\n",
       "NOT REPORTED                          151\n",
       "ROUNDABOUT                             71\n",
       "L-INTERSECTION                         48\n",
       "Name: TRAFFICWAY_TYPE, dtype: int64"
      ]
     },
     "execution_count": 94,
     "metadata": {},
     "output_type": "execute_result"
    }
   ],
   "source": [
    "df_final.TRAFFICWAY_TYPE.value_counts()"
   ]
  },
  {
   "cell_type": "code",
   "execution_count": 95,
   "metadata": {},
   "outputs": [],
   "source": [
    "df_final.TRAFFICWAY_TYPE = df_final.TRAFFICWAY_TYPE.apply(lambda x: 'INTERSECTION' if x in ['T-INTERSECTION','UNKNOWN INTERSECTION TYPE','Y-INTERSECTION','L-INTERSECTION'] else x)"
   ]
  },
  {
   "cell_type": "code",
   "execution_count": 96,
   "metadata": {},
   "outputs": [],
   "source": [
    "df_final.TRAFFICWAY_TYPE = df_final.TRAFFICWAY_TYPE.apply(lambda x: 'DIVIDED' if x in ['DIVIDED - W/MEDIAN (NOT RAISED)','DIVIDED - W/MEDIAN BARRIER'] else x)"
   ]
  },
  {
   "cell_type": "code",
   "execution_count": 97,
   "metadata": {},
   "outputs": [
    {
     "data": {
      "text/plain": [
       "NOT DIVIDED            182652\n",
       "DIVIDED                117915\n",
       "ONE-WAY                 37958\n",
       "FOUR WAY                18703\n",
       "PARKING LOT             16377\n",
       "OTHER                   10518\n",
       "INTERSECTION             5302\n",
       "CENTER TURN LANE         4981\n",
       "ALLEY                    4279\n",
       "UNKNOWN                  2149\n",
       "RAMP                     1441\n",
       "DRIVEWAY                  996\n",
       "FIVE POINT, OR MORE       468\n",
       "TRAFFIC ROUTE             365\n",
       "NOT REPORTED              151\n",
       "ROUNDABOUT                 71\n",
       "Name: TRAFFICWAY_TYPE, dtype: int64"
      ]
     },
     "execution_count": 97,
     "metadata": {},
     "output_type": "execute_result"
    }
   ],
   "source": [
    "df_final.TRAFFICWAY_TYPE.value_counts()"
   ]
  },
  {
   "cell_type": "code",
   "execution_count": 98,
   "metadata": {},
   "outputs": [
    {
     "data": {
      "text/plain": [
       "DRY                304923\n",
       "WET                 64034\n",
       "SNOW OR SLUSH       16959\n",
       "UNKNOWN             13496\n",
       "ICE                  3913\n",
       "OTHER                 854\n",
       "SAND, MUD, DIRT       147\n",
       "Name: ROADWAY_SURFACE_COND, dtype: int64"
      ]
     },
     "execution_count": 98,
     "metadata": {},
     "output_type": "execute_result"
    }
   ],
   "source": [
    "df_final.ROADWAY_SURFACE_COND.value_counts()"
   ]
  },
  {
   "cell_type": "code",
   "execution_count": 99,
   "metadata": {},
   "outputs": [],
   "source": [
    "df_final.ROADWAY_SURFACE_COND = df_final.ROADWAY_SURFACE_COND.apply(lambda x: 'SNOW/SLUSH/ICE' if x in ['SNOW OR SLUSH', 'ICE'] else x)"
   ]
  },
  {
   "cell_type": "code",
   "execution_count": 100,
   "metadata": {},
   "outputs": [],
   "source": [
    "df_final.ROADWAY_SURFACE_COND = df_final.ROADWAY_SURFACE_COND.apply(lambda x: 'OTHER' if x in ['OTHER','SAND, MUD, DIRT'] else x)"
   ]
  },
  {
   "cell_type": "code",
   "execution_count": 101,
   "metadata": {},
   "outputs": [
    {
     "data": {
      "text/plain": [
       "DRY               304923\n",
       "WET                64034\n",
       "SNOW/SLUSH/ICE     20872\n",
       "UNKNOWN            13496\n",
       "OTHER               1001\n",
       "Name: ROADWAY_SURFACE_COND, dtype: int64"
      ]
     },
     "execution_count": 101,
     "metadata": {},
     "output_type": "execute_result"
    }
   ],
   "source": [
    "df_final.ROADWAY_SURFACE_COND.value_counts()"
   ]
  },
  {
   "cell_type": "code",
   "execution_count": 102,
   "metadata": {},
   "outputs": [
    {
     "data": {
      "text/plain": [
       "NO DEFECTS           349387\n",
       "UNKNOWN               47035\n",
       "RUT, HOLES             2690\n",
       "OTHER                  2313\n",
       "WORN SURFACE           1632\n",
       "SHOULDER DEFECT         909\n",
       "DEBRIS ON ROADWAY       360\n",
       "Name: ROAD_DEFECT, dtype: int64"
      ]
     },
     "execution_count": 102,
     "metadata": {},
     "output_type": "execute_result"
    }
   ],
   "source": [
    "df_final.ROAD_DEFECT.value_counts()"
   ]
  },
  {
   "cell_type": "code",
   "execution_count": 103,
   "metadata": {},
   "outputs": [],
   "source": [
    "df_final.ROAD_DEFECT = df_final.ROAD_DEFECT.apply(lambda x: 'DEFECTS' if x not in ['NO DEFECTS', 'UNKNOWN'] else x)"
   ]
  },
  {
   "cell_type": "code",
   "execution_count": 104,
   "metadata": {},
   "outputs": [
    {
     "data": {
      "text/plain": [
       "NO DEFECTS    349387\n",
       "UNKNOWN        47035\n",
       "DEFECTS         7904\n",
       "Name: ROAD_DEFECT, dtype: int64"
      ]
     },
     "execution_count": 104,
     "metadata": {},
     "output_type": "execute_result"
    }
   ],
   "source": [
    "df_final.ROAD_DEFECT.value_counts()"
   ]
  },
  {
   "cell_type": "code",
   "execution_count": 105,
   "metadata": {},
   "outputs": [
    {
     "name": "stdout",
     "output_type": "stream",
     "text": [
      "\n",
      "MANEUVER\n",
      "\n",
      "STRAIGHT AHEAD                        231031\n",
      "SLOW/STOP IN TRAFFIC                   46918\n",
      "TURNING LEFT                           32489\n",
      "BACKING                                17140\n",
      "TURNING RIGHT                          16998\n",
      "PASSING/OVERTAKING                     10031\n",
      "CHANGING LANES                          9613\n",
      "OTHER                                   6306\n",
      "ENTERING TRAFFIC LANE FROM PARKING      5600\n",
      "UNKNOWN/NA                              3857\n",
      "STARTING IN TRAFFIC                     3505\n",
      "MERGING                                 3113\n",
      "U-TURN                                  2917\n",
      "SKIDDING/CONTROL LOSS                   2737\n",
      "AVOIDING VEHICLES/OBJECTS               2441\n",
      "ENTER FROM DRIVE/ALLEY                  2172\n",
      "LEAVING TRAFFIC LANE TO PARK            2007\n",
      "SLOW/STOP - LEFT TURN                   1867\n",
      "SLOW/STOP - RIGHT TURN                  1168\n",
      "SLOW/STOP - LOAD/UNLOAD                  883\n",
      "NEGOTIATING A CURVE                      635\n",
      "DRIVING WRONG WAY                        621\n",
      "TURNING ON RED                           197\n",
      "DIVERGING                                 75\n",
      "PARKED                                     4\n",
      "PARKED IN TRAFFIC LANE                     1\n",
      "Name: MANEUVER, dtype: int64\n",
      "\n",
      "SEX\n",
      "\n",
      "M    242739\n",
      "F    161587\n",
      "Name: SEX, dtype: int64\n",
      "\n",
      "AGE\n",
      "\n",
      "25     12444\n",
      "27     12224\n",
      "26     12224\n",
      "28     11882\n",
      "24     11750\n",
      "       ...  \n",
      "108        2\n",
      "104        1\n",
      "109        1\n",
      "107        1\n",
      "110        1\n",
      "Name: AGE, Length: 107, dtype: int64\n",
      "\n",
      "DRIVER_ACTION\n",
      "\n",
      "NONE                                 188706\n",
      "FAILED TO YIELD                       48672\n",
      "FOLLOWED TOO CLOSELY                  35626\n",
      "OTHER                                 34734\n",
      "UNKNOWN                               25357\n",
      "IMPROPER BACKING                      13959\n",
      "IMPROPER TURN                         13912\n",
      "IMPROPER LANE CHANGE                  12681\n",
      "IMPROPER PASSING                       8691\n",
      "TOO FAST FOR CONDITIONS                8483\n",
      "DISREGARDED CONTROL DEVICES            8040\n",
      "WRONG WAY/SIDE                         1531\n",
      "IMPROPER PARKING                       1219\n",
      "EVADING POLICE VEHICLE                  792\n",
      "CELL PHONE USE OTHER THAN TEXTING       753\n",
      "EMERGENCY VEHICLE ON CALL               437\n",
      "OVERCORRECTED                           417\n",
      "TEXTING                                 227\n",
      "STOPPED SCHOOL BUS                       64\n",
      "LICENSE RESTRICTIONS                     25\n",
      "Name: DRIVER_ACTION, dtype: int64\n",
      "\n",
      "DRIVER_VISION\n",
      "\n",
      "NOT OBSCURED    293289\n",
      "UNKNOWN          96291\n",
      "OBSCURED         14746\n",
      "Name: DRIVER_VISION, dtype: int64\n",
      "\n",
      "PHYSICAL_CONDITION\n",
      "\n",
      "NORMAL      352495\n",
      "UNKNOWN      41568\n",
      "IMPAIRED     10263\n",
      "Name: PHYSICAL_CONDITION, dtype: int64\n",
      "\n",
      "POSTED_SPEED_LIMIT\n",
      "\n",
      "30    312896\n",
      "35     32367\n",
      "25     19733\n",
      "20     10513\n",
      "15      9304\n",
      "40      5204\n",
      "10      4599\n",
      "0       4160\n",
      "45      3048\n",
      "5       1741\n",
      "55       354\n",
      "50        99\n",
      "3         85\n",
      "39        57\n",
      "9         55\n",
      "60        20\n",
      "32        12\n",
      "2         11\n",
      "1         11\n",
      "99        10\n",
      "33        10\n",
      "34         7\n",
      "11         6\n",
      "36         5\n",
      "24         3\n",
      "7          3\n",
      "70         2\n",
      "12         2\n",
      "63         2\n",
      "65         2\n",
      "31         2\n",
      "6          1\n",
      "38         1\n",
      "49         1\n",
      "Name: POSTED_SPEED_LIMIT, dtype: int64\n",
      "\n",
      "TRAFFIC_CONTROL_DEVICE\n",
      "\n",
      "NO CONTROLS                 188729\n",
      "TRAFFIC SIGNAL              150066\n",
      "STOP SIGN/FLASHER            52186\n",
      "UNKNOWN                       6589\n",
      "OTHER                         2355\n",
      "LANE USE MARKING              1415\n",
      "YIELD                          776\n",
      "OTHER REG. SIGN                461\n",
      "OTHER WARNING SIGN             413\n",
      "RAILROAD CROSSING GATE         336\n",
      "POLICE/FLAGMAN                 213\n",
      "PEDESTRIAN CROSSING SIGN       209\n",
      "DELINEATORS                    143\n",
      "FLASHING CONTROL SIGNAL        133\n",
      "SCHOOL ZONE                    128\n",
      "OTHER RAILROAD CROSSING        107\n",
      "NO PASSING                      31\n",
      "RR CROSSING SIGN                28\n",
      "BICYCLE CROSSING SIGN            8\n",
      "Name: TRAFFIC_CONTROL_DEVICE, dtype: int64\n",
      "\n",
      "DEVICE_CONDITION\n",
      "\n",
      "NO CONTROLS        193544\n",
      "FUNCTIONING        188735\n",
      "UNKNOWN             17746\n",
      "NOT FUNCTIONING      4301\n",
      "Name: DEVICE_CONDITION, dtype: int64\n",
      "\n",
      "WEATHER_CONDITION\n",
      "\n",
      "CLEAR              321586\n",
      "RAIN                42358\n",
      "SNOW                18062\n",
      "CLOUDY/OVERCAST     14493\n",
      "UNKNOWN              5633\n",
      "OTHER                2194\n",
      "Name: WEATHER_CONDITION, dtype: int64\n",
      "\n",
      "LIGHTING_CONDITION\n",
      "\n",
      "DAYLIGHT    276998\n",
      "DARKNESS    104420\n",
      "DUSK         13000\n",
      "DAWN          6800\n",
      "UNKNOWN       3108\n",
      "Name: LIGHTING_CONDITION, dtype: int64\n",
      "\n",
      "TRAFFICWAY_TYPE\n",
      "\n",
      "NOT DIVIDED            182652\n",
      "DIVIDED                117915\n",
      "ONE-WAY                 37958\n",
      "FOUR WAY                18703\n",
      "PARKING LOT             16377\n",
      "OTHER                   10518\n",
      "INTERSECTION             5302\n",
      "CENTER TURN LANE         4981\n",
      "ALLEY                    4279\n",
      "UNKNOWN                  2149\n",
      "RAMP                     1441\n",
      "DRIVEWAY                  996\n",
      "FIVE POINT, OR MORE       468\n",
      "TRAFFIC ROUTE             365\n",
      "NOT REPORTED              151\n",
      "ROUNDABOUT                 71\n",
      "Name: TRAFFICWAY_TYPE, dtype: int64\n",
      "\n",
      "ROADWAY_SURFACE_COND\n",
      "\n",
      "DRY               304923\n",
      "WET                64034\n",
      "SNOW/SLUSH/ICE     20872\n",
      "UNKNOWN            13496\n",
      "OTHER               1001\n",
      "Name: ROADWAY_SURFACE_COND, dtype: int64\n",
      "\n",
      "ROAD_DEFECT\n",
      "\n",
      "NO DEFECTS    349387\n",
      "UNKNOWN        47035\n",
      "DEFECTS         7904\n",
      "Name: ROAD_DEFECT, dtype: int64\n",
      "\n",
      "PRIM_CONTRIBUTORY_CAUSE\n",
      "\n",
      "1    232467\n",
      "0    171859\n",
      "Name: PRIM_CONTRIBUTORY_CAUSE, dtype: int64\n",
      "\n",
      "CRASH_HOUR\n",
      "\n",
      "16    32858\n",
      "17    32647\n",
      "15    32114\n",
      "14    27834\n",
      "18    26138\n",
      "13    25033\n",
      "12    23671\n",
      "8     23235\n",
      "11    21438\n",
      "9     19463\n",
      "10    19088\n",
      "7     18772\n",
      "19    18504\n",
      "20    14081\n",
      "21    12384\n",
      "22    11332\n",
      "23     9215\n",
      "6      8813\n",
      "0      6816\n",
      "1      5304\n",
      "5      4507\n",
      "2      4465\n",
      "3      3466\n",
      "4      3148\n",
      "Name: CRASH_HOUR, dtype: int64\n",
      "\n",
      "CRASH_DAY_OF_WEEK\n",
      "\n",
      "6    67675\n",
      "5    59891\n",
      "4    58922\n",
      "3    58613\n",
      "7    58456\n",
      "2    55593\n",
      "1    45176\n",
      "Name: CRASH_DAY_OF_WEEK, dtype: int64\n",
      "\n",
      "CRASH_MONTH\n",
      "\n",
      "10    38984\n",
      "12    37350\n",
      "11    36268\n",
      "9     35506\n",
      "1     34801\n",
      "8     34459\n",
      "2     33358\n",
      "3     32809\n",
      "7     32727\n",
      "6     30793\n",
      "5     30648\n",
      "4     26623\n",
      "Name: CRASH_MONTH, dtype: int64\n",
      "\n",
      "LOCATION\n",
      "\n",
      "POINT (-87.905309125103 41.976201139024)    532\n",
      "POINT (-87.585971992965 41.751460603167)    306\n",
      "POINT (-87.580147768689 41.791420282098)    292\n",
      "POINT (-87.619928173678 41.900958919109)    245\n",
      "POINT (-87.585275565077 41.722257273006)    221\n",
      "                                           ... \n",
      "POINT (-87.717021930439 41.920660254709)      1\n",
      "POINT (-87.598169838264 41.7642442872)        1\n",
      "POINT (-87.672147240918 41.998697835695)      1\n",
      "POINT (-87.671572254269 41.927909510622)      1\n",
      "POINT (-87.7343857472 41.929070847282)        1\n",
      "Name: LOCATION, Length: 121238, dtype: int64\n"
     ]
    }
   ],
   "source": [
    "for col in df_final.columns:\n",
    "    print('\\n' + col + '\\n')\n",
    "    print(df_final[col].value_counts())"
   ]
  },
  {
   "cell_type": "markdown",
   "metadata": {},
   "source": [
    "We have reduced many classes for each of the categorical variables. This will help us classify the Primary Cause more accurately."
   ]
  },
  {
   "cell_type": "code",
   "execution_count": 106,
   "metadata": {},
   "outputs": [
    {
     "data": {
      "text/plain": [
       "(404326, 19)"
      ]
     },
     "execution_count": 106,
     "metadata": {},
     "output_type": "execute_result"
    }
   ],
   "source": [
    "df_final.shape"
   ]
  },
  {
   "cell_type": "markdown",
   "metadata": {},
   "source": [
    "### Prepare the data"
   ]
  },
  {
   "cell_type": "code",
   "execution_count": 108,
   "metadata": {},
   "outputs": [],
   "source": [
    "X = df_final.drop(['PRIM_CONTRIBUTORY_CAUSE', 'CRASH_HOUR','CRASH_DAY_OF_WEEK', 'CRASH_MONTH', 'LOCATION'], axis=1).copy()\n",
    "y = df_final.PRIM_CONTRIBUTORY_CAUSE"
   ]
  },
  {
   "cell_type": "code",
   "execution_count": 109,
   "metadata": {},
   "outputs": [],
   "source": [
    "# Convert predictors into dummies\n",
    "X = pd.get_dummies(X, drop_first=True)"
   ]
  },
  {
   "cell_type": "code",
   "execution_count": 110,
   "metadata": {},
   "outputs": [
    {
     "data": {
      "text/plain": [
       "(404326, 207)"
      ]
     },
     "execution_count": 110,
     "metadata": {},
     "output_type": "execute_result"
    }
   ],
   "source": [
    "X.shape"
   ]
  },
  {
   "cell_type": "markdown",
   "metadata": {},
   "source": [
    "### Train-Test Split"
   ]
  },
  {
   "cell_type": "code",
   "execution_count": 111,
   "metadata": {},
   "outputs": [],
   "source": [
    "# split into train and test sets\n",
    "X_train, X_test, y_train, y_test = train_test_split(X, y, test_size=0.30, random_state=123)"
   ]
  },
  {
   "cell_type": "markdown",
   "metadata": {},
   "source": [
    "### Scale the data"
   ]
  },
  {
   "cell_type": "code",
   "execution_count": 112,
   "metadata": {},
   "outputs": [],
   "source": [
    "#Instantiate Standard Scaler\n",
    "scaler = StandardScaler()\n",
    "\n",
    "X_train_scaled = scaler.fit_transform(X_train)\n",
    "X_test_scaled = scaler.transform(X_test)"
   ]
  },
  {
   "cell_type": "markdown",
   "metadata": {},
   "source": [
    "### Feature Importance Using Random Forest"
   ]
  },
  {
   "cell_type": "code",
   "execution_count": 113,
   "metadata": {},
   "outputs": [
    {
     "data": {
      "text/plain": [
       "RandomForestClassifier()"
      ]
     },
     "execution_count": 113,
     "metadata": {},
     "output_type": "execute_result"
    }
   ],
   "source": [
    "# Instantiate and fit the model\n",
    "rfc = RandomForestClassifier(n_estimators=100)\n",
    "rfc.fit(X_train_scaled, y_train)  "
   ]
  },
  {
   "cell_type": "code",
   "execution_count": 114,
   "metadata": {},
   "outputs": [],
   "source": [
    "labels = list(X_train.columns)"
   ]
  },
  {
   "cell_type": "code",
   "execution_count": 115,
   "metadata": {},
   "outputs": [
    {
     "data": {
      "image/png": "[encoded data removed]",
      "text/plain": [
       "<Figure size 1440x3600 with 1 Axes>"
      ]
     },
     "metadata": {
      "needs_background": "light"
     },
     "output_type": "display_data"
    }
   ],
   "source": [
    "# Plot feature importances\n",
    "n_features = X_train_scaled.shape[1]\n",
    "plt.figure(figsize=(20,50))\n",
    "plt.barh(range(n_features), rfc.feature_importances_, align='center') \n",
    "plt.yticks(np.arange(n_features),labels=labels)\n",
    "plt.title('Feature Imporance', fontsize=30, pad=5)\n",
    "plt.xlabel('Feature importance', fontsize=20, labelpad=5)\n",
    "plt.ylabel('Features', fontsize=20)\n",
    "plt.tight_layout()\n",
    "plt.savefig(r'D:\\Data Science\\Module_3_Final_Project\\Graphs\\feat_imp_main.png', bbox_inches='tight')"
   ]
  },
  {
   "cell_type": "code",
   "execution_count": 116,
   "metadata": {},
   "outputs": [
    {
     "data": {
      "text/plain": [
       "77"
      ]
     },
     "execution_count": 116,
     "metadata": {},
     "output_type": "execute_result"
    }
   ],
   "source": [
    "selected_features = X_train.columns[rfc.feature_importances_ > rfc.feature_importances_.mean()]\n",
    "len(selected_features)"
   ]
  },
  {
   "cell_type": "code",
   "execution_count": 117,
   "metadata": {},
   "outputs": [
    {
     "name": "stdout",
     "output_type": "stream",
     "text": [
      "Index(['POSTED_SPEED_LIMIT', 'MANEUVER_BACKING', 'MANEUVER_PASSING/OVERTAKING',\n",
      "       'MANEUVER_SLOW/STOP IN TRAFFIC', 'MANEUVER_STRAIGHT AHEAD',\n",
      "       'MANEUVER_TURNING LEFT', 'SEX_M', 'AGE_19', 'AGE_20', 'AGE_21',\n",
      "       'AGE_22', 'AGE_23', 'AGE_24', 'AGE_25', 'AGE_26', 'AGE_27', 'AGE_28',\n",
      "       'AGE_29', 'AGE_30', 'AGE_31', 'AGE_32', 'AGE_33', 'AGE_34', 'AGE_35',\n",
      "       'AGE_36', 'AGE_37', 'AGE_38', 'AGE_39', 'AGE_40', 'AGE_41', 'AGE_42',\n",
      "       'AGE_43', 'AGE_44', 'AGE_45', 'AGE_46', 'AGE_47', 'AGE_48', 'AGE_49',\n",
      "       'AGE_50', 'AGE_51', 'AGE_52', 'AGE_53', 'AGE_55',\n",
      "       'DRIVER_ACTION_DISREGARDED CONTROL DEVICES',\n",
      "       'DRIVER_ACTION_FAILED TO YIELD', 'DRIVER_ACTION_FOLLOWED TOO CLOSELY',\n",
      "       'DRIVER_ACTION_IMPROPER BACKING', 'DRIVER_ACTION_IMPROPER LANE CHANGE',\n",
      "       'DRIVER_ACTION_IMPROPER PASSING', 'DRIVER_ACTION_IMPROPER TURN',\n",
      "       'DRIVER_ACTION_NONE', 'DRIVER_ACTION_OTHER', 'DRIVER_ACTION_UNKNOWN',\n",
      "       'DRIVER_VISION_OBSCURED', 'DRIVER_VISION_UNKNOWN',\n",
      "       'PHYSICAL_CONDITION_NORMAL', 'PHYSICAL_CONDITION_UNKNOWN',\n",
      "       'TRAFFIC_CONTROL_DEVICE_NO CONTROLS',\n",
      "       'TRAFFIC_CONTROL_DEVICE_STOP SIGN/FLASHER',\n",
      "       'TRAFFIC_CONTROL_DEVICE_TRAFFIC SIGNAL', 'DEVICE_CONDITION_NO CONTROLS',\n",
      "       'DEVICE_CONDITION_UNKNOWN', 'WEATHER_CONDITION_CLOUDY/OVERCAST',\n",
      "       'WEATHER_CONDITION_RAIN', 'WEATHER_CONDITION_SNOW',\n",
      "       'LIGHTING_CONDITION_DAWN', 'LIGHTING_CONDITION_DAYLIGHT',\n",
      "       'LIGHTING_CONDITION_DUSK', 'TRAFFICWAY_TYPE_DIVIDED',\n",
      "       'TRAFFICWAY_TYPE_FOUR WAY', 'TRAFFICWAY_TYPE_NOT DIVIDED',\n",
      "       'TRAFFICWAY_TYPE_ONE-WAY', 'TRAFFICWAY_TYPE_OTHER',\n",
      "       'ROADWAY_SURFACE_COND_SNOW/SLUSH/ICE', 'ROADWAY_SURFACE_COND_WET',\n",
      "       'ROAD_DEFECT_NO DEFECTS', 'ROAD_DEFECT_UNKNOWN'],\n",
      "      dtype='object')\n"
     ]
    }
   ],
   "source": [
    "print(selected_features)"
   ]
  },
  {
   "cell_type": "markdown",
   "metadata": {},
   "source": [
    "Selecting features of importance that are higher than the mean gives us a good insight on the causes of the accidents. Comparing this list with the plot above, we can make out some characterstics about the accidents.\n",
    "\n",
    "* DRIVER_ACTION_FAILED_TO_YIELD seems to be the most important feature, followed by POSTED_SPEED_LIMIT and SEX_M. This means that these are great predictors to what type of accidents these actions are causing ('INTENATIONAL', or 'UNINTENTIONAL'). And also that these characterstics have a higher probability of causing accidents.\n",
    "* We also see a trend in age from 19 to 55. The most important age here is 25 after which we see a decreasing trend. This means that drivers are at the most risk of accidents at the age of 25 and decreases as they grow older.\n",
    "* Traffic controls, weather condition, trafficway type and road conditions also make the list which means that these characterstics are high predictors of an accident. We will look more in depth for these in our case analysis."
   ]
  },
  {
   "cell_type": "markdown",
   "metadata": {},
   "source": [
    "With the feature importances in mind, let's move into EDA and analyze the data to support our business case."
   ]
  },
  {
   "cell_type": "markdown",
   "metadata": {},
   "source": [
    "1. Identify high-density areas of car crash in Chicago\n",
    "2. Analyze control failures to identify opportunities for improvement\n",
    "3. Check for trends in the time of crash to relocate resources appropriately"
   ]
  },
  {
   "cell_type": "markdown",
   "metadata": {},
   "source": [
    "### EDA 1: Identify high-density areas of car crash in Chicago"
   ]
  },
  {
   "cell_type": "markdown",
   "metadata": {},
   "source": [
    "We will use the latitudes and longitudes to find areas of accidents in Chicago."
   ]
  },
  {
   "cell_type": "code",
   "execution_count": 118,
   "metadata": {},
   "outputs": [],
   "source": [
    "location = df_final[['LOCATION', 'PRIM_CONTRIBUTORY_CAUSE']]"
   ]
  },
  {
   "cell_type": "code",
   "execution_count": 125,
   "metadata": {},
   "outputs": [
    {
     "name": "stdout",
     "output_type": "stream",
     "text": [
      "Collecting geopandasNote: you may need to restart the kernel to use updated packages.\n"
     ]
    },
    {
     "name": "stderr",
     "output_type": "stream",
     "text": [
      "    ERROR: Command errored out with exit status 1:\n",
      "     command: 'C:\\Users\\dicch\\anaconda3\\python.exe' -c 'import sys, setuptools, tokenize; sys.argv[0] = '\"'\"'C:\\\\Users\\\\dicch\\\\AppData\\\\Local\\\\Temp\\\\pip-install-w_biu19o\\\\fiona\\\\setup.py'\"'\"'; __file__='\"'\"'C:\\\\Users\\\\dicch\\\\AppData\\\\Local\\\\Temp\\\\pip-install-w_biu19o\\\\fiona\\\\setup.py'\"'\"';f=getattr(tokenize, '\"'\"'open'\"'\"', open)(__file__);code=f.read().replace('\"'\"'\\r\\n'\"'\"', '\"'\"'\\n'\"'\"');f.close();exec(compile(code, __file__, '\"'\"'exec'\"'\"'))' egg_info --egg-base 'C:\\Users\\dicch\\AppData\\Local\\Temp\\pip-pip-egg-info-b2omv36n'\n",
      "         cwd: C:\\Users\\dicch\\AppData\\Local\\Temp\\pip-install-w_biu19o\\fiona\\\n",
      "    Complete output (1 lines):\n",
      "    A GDAL API version must be specified. Provide a path to gdal-config using a GDAL_CONFIG environment variable or use a GDAL_VERSION environment variable.\n",
      "    ----------------------------------------\n",
      "ERROR: Command errored out with exit status 1: python setup.py egg_info Check the logs for full command output.\n"
     ]
    },
    {
     "name": "stdout",
     "output_type": "stream",
     "text": [
      "\n",
      "  Using cached geopandas-0.9.0-py2.py3-none-any.whl (994 kB)\n",
      "Collecting shapely>=1.6\n",
      "  Downloading Shapely-1.7.1-cp38-cp38-win_amd64.whl (1.0 MB)\n",
      "Requirement already satisfied: pandas>=0.24.0 in c:\\users\\dicch\\anaconda3\\lib\\site-packages (from geopandas) (1.1.3)\n",
      "Collecting fiona>=1.8\n",
      "  Using cached Fiona-1.8.20.tar.gz (1.3 MB)\n"
     ]
    }
   ],
   "source": [
    "pip install geopandas"
   ]
  },
  {
   "cell_type": "code",
   "execution_count": null,
   "metadata": {},
   "outputs": [],
   "source": [
    "# Create a geo dataframe\n",
    "geo_df = gpd.GeoDataFrame(location"
   ]
  },
  {
   "cell_type": "code",
   "execution_count": null,
   "metadata": {},
   "outputs": [],
   "source": []
  },
  {
   "cell_type": "markdown",
   "metadata": {},
   "source": [
    "### Dimensionality Reduction"
   ]
  },
  {
   "cell_type": "markdown",
   "metadata": {},
   "source": [
    "#### Principal Component Analysis"
   ]
  },
  {
   "cell_type": "code",
   "execution_count": null,
   "metadata": {},
   "outputs": [],
   "source": [
    "#Instantiate PCA with 95% exlained variance\n",
    "pca = PCA(.95)"
   ]
  },
  {
   "cell_type": "code",
   "execution_count": null,
   "metadata": {},
   "outputs": [],
   "source": [
    "X_train_transformed = pca.fit_transform(X_train_scaled)\n",
    "X_test_transformed = pca.transform(X_test_scaled)"
   ]
  },
  {
   "cell_type": "code",
   "execution_count": null,
   "metadata": {},
   "outputs": [],
   "source": [
    "X_train_transformed.shape"
   ]
  },
  {
   "cell_type": "markdown",
   "metadata": {},
   "source": [
    "The PCA seems to have reduces our predictor columns from 207 to 180."
   ]
  },
  {
   "cell_type": "markdown",
   "metadata": {},
   "source": [
    "### Run the Base model:"
   ]
  },
  {
   "cell_type": "markdown",
   "metadata": {},
   "source": [
    "### Decision Tree Classifier"
   ]
  },
  {
   "cell_type": "code",
   "execution_count": null,
   "metadata": {},
   "outputs": [],
   "source": [
    "#Instantiate the model with max tree depth of 3\n",
    "dtc = DecisionTreeClassifier(criterion='gini', max_depth=3)"
   ]
  },
  {
   "cell_type": "code",
   "execution_count": null,
   "metadata": {},
   "outputs": [],
   "source": [
    "%%time\n",
    "#Fit the model\n",
    "dtc.fit(X_train_transformed, y_train)"
   ]
  },
  {
   "cell_type": "code",
   "execution_count": null,
   "metadata": {},
   "outputs": [],
   "source": [
    "# Make predictions for train and test data\n",
    "y_pred_train_dtc = dtc.predict(X_train_transformed)\n",
    "y_pred_test_dtc = dtc.predict(X_test_transformed)"
   ]
  },
  {
   "cell_type": "code",
   "execution_count": null,
   "metadata": {},
   "outputs": [],
   "source": [
    "# Calculate accuracy \n",
    "train_acc = accuracy_score(y_train,y_pred_train_dtc) * 100\n",
    "test_acc = accuracy_score(y_test, y_pred_test_dtc) * 100\n",
    "print('Train accuracy is :{0}'.format(train_acc))\n",
    "print('Test accuracy is :{0}'.format(test_acc))\n",
    "\n",
    "# Check the AUC for predictions\n",
    "fpr, tpr, thresholds = roc_curve(y_test, y_pred_test_dtc)\n",
    "roc_auc = auc(fpr, tpr)\n",
    "print('\\nAUC is :{0}'.format(round(roc_auc, 2)))\n",
    "\n",
    "# Create and print a confusion matrix \n",
    "print('\\nConfusion Matrix')\n",
    "print('----------------')\n",
    "pd.crosstab(y_test, y_pred_test_dtc, rownames=['True'], colnames=['Predicted'], margins=True)"
   ]
  },
  {
   "cell_type": "code",
   "execution_count": null,
   "metadata": {},
   "outputs": [],
   "source": [
    "# Visualize confusion matric\n",
    "fig, ax = plt.subplots(figsize=(8, 8))\n",
    "plot_confusion_matrix(dtc, X_test_transformed, y_test,\n",
    "                      cmap=plt.cm.PuBuGn, ax=ax)\n",
    "ax.set_title('Confusion Matrix: DecisionTreeClassifier', fontsize=18, pad=10)\n",
    "ax.set_xlabel('Predicted Labels', fontsize=15)\n",
    "ax.set_ylabel('True Labels', fontsize=15)\n",
    "\n",
    "plt.grid(False)\n",
    "plt.savefig(r'D:\\Data Science\\Module_3_Final_Project\\Graphs\\DTC_confmatx.png', bbox_inches='tight')\n",
    "plt.show();"
   ]
  },
  {
   "cell_type": "code",
   "execution_count": null,
   "metadata": {},
   "outputs": [],
   "source": [
    "### ROC curve\n",
    "sns.set_style('darkgrid', {'axes.facecolor': '0.9'})\n",
    "\n",
    "print('AUC: {}'.format(auc(fpr, tpr)))\n",
    "plt.figure(figsize=(10, 8))\n",
    "lw = 2\n",
    "plt.plot(fpr, tpr, color='darkorange',\n",
    "         lw=lw, label='ROC curve')\n",
    "plt.plot([0, 1], [0, 1], color='navy', lw=lw, linestyle='--')\n",
    "plt.xlim([0.0, 1.0])\n",
    "plt.ylim([0.0, 1.05])\n",
    "plt.yticks([i/20.0 for i in range(21)])\n",
    "plt.xticks([i/20.0 for i in range(21)])\n",
    "plt.xlabel('False Positive Rate')\n",
    "plt.ylabel('True Positive Rate')\n",
    "plt.title('Receiver operating characteristic (ROC) Curve')\n",
    "plt.legend(loc='lower right')\n",
    "plt.savefig(r'D:\\Data Science\\Module_3_Final_Project\\Graphs\\DTC_ROC.png', bbox_inches='tight')\n",
    "plt.show();"
   ]
  },
  {
   "cell_type": "markdown",
   "metadata": {},
   "source": [
    "Looking at the ROC, we can see that the model is only somewhat good at predicting the classes. The AUC of 0.62 suggests that the model is correct only 62% of the time or has a precision score of 0.62. Moreover, looking at the ROC we can see that there is a linear relationship between increase in TPR and increase in FPR. At the point of influx, even though we can predict the category .83 times correctly, we misclassify them .58 times incorrectly."
   ]
  },
  {
   "cell_type": "markdown",
   "metadata": {},
   "source": [
    "### Re-grow the tree using entropy"
   ]
  },
  {
   "cell_type": "code",
   "execution_count": null,
   "metadata": {},
   "outputs": [],
   "source": [
    "%%time\n",
    "#Instantiate the model\n",
    "dtc1 = DecisionTreeClassifier(criterion='entropy')\n",
    "\n",
    "#Fit the model\n",
    "dtc1.fit(X_train_transformed, y_train)\n",
    "\n",
    "# Make predictions for train and test data\n",
    "y_pred_train_dtc1 = dtc1.predict(X_train_transformed)\n",
    "y_pred_test_dtc1 = dtc1.predict(X_test_transformed)\n",
    "\n",
    "# Calculate accuracy \n",
    "train_acc1 = accuracy_score(y_train,y_pred_train_dtc1) * 100\n",
    "test_acc1 = accuracy_score(y_test, y_pred_test_dtc1) * 100\n",
    "print('Train accuracy is :{0}'.format(train_acc1))\n",
    "print('Test accuracy is :{0}'.format(test_acc1))\n",
    "\n",
    "# Check the AUC for predictions\n",
    "fpr1, tpr1, thresholds1 = roc_curve(y_test, y_pred_test_dtc)\n",
    "roc_auc1 = auc(fpr1, tpr1)\n",
    "print('\\nAUC is :{0}'.format(round(roc_auc1, 2)))\n",
    "\n",
    "# Create and print a confusion matrix \n",
    "print('\\nConfusion Matrix')\n",
    "print('----------------')\n",
    "pd.crosstab(y_test, y_pred_test_dtc, rownames=['True'], colnames=['Predicted'], margins=True)"
   ]
  },
  {
   "cell_type": "markdown",
   "metadata": {},
   "source": [
    "The infomarmation gain criterion 'entropy' does not seem to have made much of a difference. Although it trained well in the training data with over 90% accuracy, it was not able to generalize and predict the test set well."
   ]
  },
  {
   "cell_type": "markdown",
   "metadata": {},
   "source": [
    "Let's create a function to test different models."
   ]
  },
  {
   "cell_type": "code",
   "execution_count": null,
   "metadata": {},
   "outputs": [],
   "source": [
    "def pred_score(clf):    \n",
    "    # Make predictions on train and test data\n",
    "    y_pred_train = clf.predict(X_train_transformed)\n",
    "    y_pred_test = clf.predict(X_test_transformed)\n",
    "    \n",
    "    # Calculate accuracy \n",
    "    train_acc = accuracy_score(y_train,y_pred_train) * 100\n",
    "    test_acc = accuracy_score(y_test, y_pred_test) * 100\n",
    "    print('Train accuracy is :{0}'.format(train_acc))\n",
    "    print('Test accuracy is :{0}'.format(test_acc))\n",
    "    \n",
    "    # Check the AUC for predictions\n",
    "    roc_auc = roc_auc_score(y_test, y_pred_test)\n",
    "    print('\\nAUC is :{0}'.format(round(roc_auc, 2)))\n",
    "    \n",
    "    # Create and print a confusion matrix \n",
    "    print('\\nConfusion Matrix')\n",
    "    print('-----------------')\n",
    "    print(pd.crosstab(y_test, y_pred_test, rownames=['True'], colnames=['Predicted'], margins=True))\n",
    "\n",
    "    # Classification report\n",
    "    print('\\nClassification Report')\n",
    "    print('----------------------')\n",
    "    print(classification_report(y_test, y_pred_test))"
   ]
  },
  {
   "cell_type": "markdown",
   "metadata": {},
   "source": [
    "### Model 1: KNN"
   ]
  },
  {
   "cell_type": "code",
   "execution_count": null,
   "metadata": {
    "scrolled": true
   },
   "outputs": [],
   "source": [
    "# Instantiate and fit the model\n",
    "knn = KNeighborsClassifier()\n",
    "knn.fit(X_train_transformed, y_train)"
   ]
  },
  {
   "cell_type": "code",
   "execution_count": null,
   "metadata": {},
   "outputs": [],
   "source": [
    "pred_score(knn)"
   ]
  },
  {
   "cell_type": "markdown",
   "metadata": {},
   "source": [
    "The KNN seems to be just a tad better than our base mode at 64% accuracy and AUC score of 0.63."
   ]
  },
  {
   "cell_type": "markdown",
   "metadata": {},
   "source": [
    "### Model 2: Random Forest"
   ]
  },
  {
   "cell_type": "code",
   "execution_count": null,
   "metadata": {},
   "outputs": [],
   "source": [
    "# Instantiate and fit the model\n",
    "rf = RandomForestClassifier(n_estimators=100, max_depth= 5)\n",
    "rf.fit(X_train_transformed, y_train)  "
   ]
  },
  {
   "cell_type": "code",
   "execution_count": null,
   "metadata": {},
   "outputs": [],
   "source": [
    "pred_score(rf1)"
   ]
  },
  {
   "cell_type": "markdown",
   "metadata": {},
   "source": [
    "Looking at the train and test accuracy, the random forest model shows a better fit than the other two. The AUC is 0.62 and has an average f1-score of 0.60."
   ]
  },
  {
   "cell_type": "markdown",
   "metadata": {},
   "source": [
    "### Feature Importance with Random Forest"
   ]
  },
  {
   "cell_type": "code",
   "execution_count": null,
   "metadata": {},
   "outputs": [],
   "source": [
    "n_features = X_train_transformed.shape[1]\n",
    "plt.figure(figsize=(20,50))\n",
    "plt.barh(range(n_features), rf.feature_importances_, align='center') \n",
    "plt.yticks(np.arange(n_features))\n",
    "plt.title('Feature Imporance', fontsize=30, pad=5)\n",
    "plt.xlabel('Feature importance', fontsize=20, labelpad=5)\n",
    "plt.ylabel('Features', fontsize=20)\n",
    "plt.tight_layout()\n",
    "plt.savefig(r'D:\\Data Science\\Module_3_Final_Project\\Graphs\\feat_imp.png', bbox_inches='tight')"
   ]
  },
  {
   "cell_type": "markdown",
   "metadata": {},
   "source": [
    "The feature importance shows us a list of high predicting features and those are less important to our model."
   ]
  },
  {
   "cell_type": "markdown",
   "metadata": {},
   "source": [
    "### Selecting best features"
   ]
  },
  {
   "cell_type": "code",
   "execution_count": null,
   "metadata": {},
   "outputs": [],
   "source": [
    "# Print the name and gini importance of each feature\n",
    "for feature in zip(range(n_features), rf.feature_importances_):\n",
    "    print(feature)"
   ]
  },
  {
   "cell_type": "code",
   "execution_count": null,
   "metadata": {},
   "outputs": [],
   "source": [
    "# Box plot\n",
    "sns.set_theme(style=\"whitegrid\")\n",
    "tips = sns.load_dataset(\"tips\")\n",
    "ax = sns.boxplot(x=rf1.feature_importances_)\n",
    "plt.savefig(r'D:\\Data Science\\Module_3_Final_Project\\Graphs\\box_plot.png', bbox_inches='tight');"
   ]
  },
  {
   "cell_type": "code",
   "execution_count": null,
   "metadata": {},
   "outputs": [],
   "source": [
    "rf1.feature_importances_.max()"
   ]
  },
  {
   "cell_type": "code",
   "execution_count": null,
   "metadata": {},
   "outputs": [],
   "source": [
    "# Check the distribution of feature scores\n",
    "from scipy.stats import norm\n",
    "import statistics\n",
    "  \n",
    "# Plot between -0.05 and 0.2 with .001 steps.\n",
    "x_axis = np.arange(-0.05,0.2,.001)\n",
    "  \n",
    "# Calculating mean and standard deviation\n",
    "mean = statistics.mean(rf.feature_importances_)\n",
    "sd = statistics.stdev(rf.feature_importances_)\n",
    "  \n",
    "plt.plot(x_axis, norm.pdf(x_axis, mean, sd))\n",
    "plt.title('Feature Importance Normal Distribution')\n",
    "plt.ylabel('No. of Features')\n",
    "plt.xlabel('Feature Importance')\n",
    "plt.savefig(r'D:\\Data Science\\Module_3_Final_Project\\Graphs\\norm_dist.png', bbox_inches='tight')\n",
    "plt.show();"
   ]
  },
  {
   "cell_type": "code",
   "execution_count": null,
   "metadata": {},
   "outputs": [],
   "source": [
    "thresh_1 = [x for x in rf.feature_importances_ if x > 0.01]\n",
    "len(thresh_1)"
   ]
  },
  {
   "cell_type": "markdown",
   "metadata": {},
   "source": [
    "We will use a threshold of 0.01 to only include 23 of the best predictors."
   ]
  },
  {
   "cell_type": "code",
   "execution_count": null,
   "metadata": {},
   "outputs": [],
   "source": [
    "# Instantiate and fit the model\n",
    "sfm = SelectFromModel(rf, threshold=0.01)\n",
    "\n",
    "sfm.fit(X_train_transformed, y_train)"
   ]
  },
  {
   "cell_type": "code",
   "execution_count": null,
   "metadata": {},
   "outputs": [],
   "source": [
    "# Transform the data to create a new dataset containing only the most important features\n",
    "X_best_train = sfm.transform(X_train_transformed)\n",
    "X_best_test = sfm.transform(X_test_transformed)"
   ]
  },
  {
   "cell_type": "code",
   "execution_count": null,
   "metadata": {},
   "outputs": [],
   "source": [
    "# Instantiate and fit the model\n",
    "rf_best = RandomForestClassifier(n_estimators=100, max_depth= 5)\n",
    "rf_best.fit(X_best_train, y_train)"
   ]
  },
  {
   "cell_type": "code",
   "execution_count": null,
   "metadata": {},
   "outputs": [],
   "source": [
    "# Make predictions on train and test data\n",
    "y_pred_train_rfb = rf_best.predict(X_best_train)\n",
    "y_pred_test_rfb = rf_best.predict(X_best_test)\n",
    "    \n",
    "# Calculate accuracy \n",
    "train_acc_rfb = accuracy_score(y_train,y_pred_train_rfb) * 100\n",
    "test_acc_rfb = accuracy_score(y_test, y_pred_test_rfb) * 100\n",
    "print('Train accuracy is :{0}'.format(train_acc_rfb))\n",
    "print('Test accuracy is :{0}'.format(test_acc_rfb))\n",
    "    \n",
    "# Check the AUC for predictions\n",
    "roc_auc_rfb = roc_auc_score(y_test, y_pred_test_rfb)\n",
    "print('\\nAUC is :{0}'.format(round(roc_auc_rfb, 2)))\n",
    "    \n",
    "# Create and print a confusion matrix \n",
    "print('\\nConfusion Matrix')\n",
    "print('-----------------')\n",
    "print(pd.crosstab(y_test, y_pred_test_rfb, rownames=['True'], colnames=['Predicted'], margins=True))\n",
    "\n",
    "# Classification report\n",
    "print('\\nClassification Report')\n",
    "print('----------------------')\n",
    "print(classification_report(y_test, y_pred_test_rfb))"
   ]
  },
  {
   "cell_type": "markdown",
   "metadata": {},
   "source": [
    "Here, you can see a great fit with almost identical train and test accuracy scores. The AUC is also 0.64, which means that the model has captured most of the information in the dataset with less features. The run time for the model was also considerably less than the base model. We will use these selected features going forward."
   ]
  },
  {
   "cell_type": "code",
   "execution_count": null,
   "metadata": {},
   "outputs": [],
   "source": [
    "# Define function for X_best datasets\n",
    "\n",
    "def pred_score_best(clf):    \n",
    "    # Make predictions on train and test data\n",
    "    y_pred_train = clf.predict(X_best_train)\n",
    "    y_pred_test = clf.predict(X_best_test)\n",
    "    \n",
    "    # Calculate accuracy \n",
    "    train_acc = accuracy_score(y_train,y_pred_train) * 100\n",
    "    test_acc = accuracy_score(y_test, y_pred_test) * 100\n",
    "    print('Train accuracy is :{0}'.format(train_acc))\n",
    "    print('Test accuracy is :{0}'.format(test_acc))\n",
    "    \n",
    "    # Check the AUC for predictions\n",
    "    roc_auc = roc_auc_score(y_test, y_pred_test)\n",
    "    print('\\nAUC is :{0}'.format(round(roc_auc, 2)))\n",
    "    \n",
    "    # Create and print a confusion matrix \n",
    "    print('\\nConfusion Matrix')\n",
    "    print('-----------------')\n",
    "    print(pd.crosstab(y_test, y_pred_test, rownames=['True'], colnames=['Predicted'], margins=True))\n",
    "\n",
    "    # Classification report\n",
    "    print('\\nClassification Report')\n",
    "    print('----------------------')\n",
    "    print(classification_report(y_test, y_pred_test))\n"
   ]
  },
  {
   "cell_type": "markdown",
   "metadata": {},
   "source": [
    "### Model 3: XG Boost"
   ]
  },
  {
   "cell_type": "code",
   "execution_count": null,
   "metadata": {},
   "outputs": [],
   "source": [
    "# Instantiate and fit the model\n",
    "xg = xgb.XGBClassifier()\n",
    "xg.fit(X_best_train, y_train)"
   ]
  },
  {
   "cell_type": "code",
   "execution_count": null,
   "metadata": {},
   "outputs": [],
   "source": [
    "pred_score_best(xg)"
   ]
  },
  {
   "cell_type": "markdown",
   "metadata": {},
   "source": [
    "The accuracy scores are 74% to 70% for train vs test. The model seems to be a good fit. The AUC is also 0.68 which is better than our previous models. We will take this further and tune for better performance."
   ]
  },
  {
   "cell_type": "markdown",
   "metadata": {},
   "source": [
    "### Tuning XGBoost with GridSearchCV"
   ]
  },
  {
   "cell_type": "markdown",
   "metadata": {},
   "source": [
    "First we will create a grid for the algorithm to loop through."
   ]
  },
  {
   "cell_type": "code",
   "execution_count": null,
   "metadata": {},
   "outputs": [],
   "source": [
    "param_grid = {\n",
    "    \"learning_rate\": [0.1],\n",
    "    'max_depth': [6,12],\n",
    "    'min_child_weight': [5,10],\n",
    "    'subsample': [0.7,1.4],\n",
    "    'n_estimators': [5, 30, 100, 250],\n",
    "}"
   ]
  },
  {
   "cell_type": "code",
   "execution_count": null,
   "metadata": {},
   "outputs": [],
   "source": [
    "# Instantiate and fit the model\n",
    "grid_clf = GridSearchCV(xg, param_grid, scoring='accuracy', cv=None, n_jobs=1)\n",
    "grid_clf.fit(X_best_train, y_train)"
   ]
  },
  {
   "cell_type": "code",
   "execution_count": null,
   "metadata": {},
   "outputs": [],
   "source": [
    "# Print the best parameters\n",
    "best_parameters = grid_clf.best_params_\n",
    "\n",
    "print(\"Grid Search found the following optimal parameters: \")\n",
    "for param_name in sorted(best_parameters.keys()):\n",
    "    print(\"%s: %r\" % (param_name, best_parameters[param_name]))"
   ]
  },
  {
   "cell_type": "code",
   "execution_count": null,
   "metadata": {},
   "outputs": [],
   "source": [
    "# Calcualte the score\n",
    "pred_score_best(grid_clf)"
   ]
  },
  {
   "cell_type": "markdown",
   "metadata": {},
   "source": [
    "We can see that the tuned model is not any better than the regular XGBoost model. We might have reached the highest level of precision with this transformed dataset. We will keep this as our final model."
   ]
  },
  {
   "cell_type": "markdown",
   "metadata": {},
   "source": [
    "The model is a good fit as the test accuracy is slightly lower than the train accuracy at 70.6%. The AUC score is also 0.68 and f1-score of 0.61 an 0.76 respectively."
   ]
  },
  {
   "cell_type": "code",
   "execution_count": null,
   "metadata": {},
   "outputs": [],
   "source": [
    "# Visualize confusion matric\n",
    "fig, ax = plt.subplots(figsize=(8, 8))\n",
    "plot_confusion_matrix(grid_clf, X_best_test, y_test,\n",
    "                      cmap=plt.cm.PuBuGn, ax=ax)\n",
    "ax.set_title('Confusion Matrix: XGBoost Tuned', fontsize=18, pad=10)\n",
    "ax.set_xlabel('Predicted Labels', fontsize=15)\n",
    "ax.set_ylabel('True Labels', fontsize=15)\n",
    "\n",
    "plt.grid(False)\n",
    "plt.savefig(r'D:\\Data Science\\Module_3_Final_Project\\Graphs\\xbg_confmatx.png', bbox_inches='tight')\n",
    "plt.show();"
   ]
  },
  {
   "cell_type": "markdown",
   "metadata": {},
   "source": [
    "### Conclusion"
   ]
  },
  {
   "cell_type": "markdown",
   "metadata": {},
   "source": [
    "Finally, we will conclude our classifer will be the tuned XGBoost model. We can derive the following conclusions from the scores:\n",
    "\n",
    "* The model has an accuracy of 71%, which means that for every predicted class, the model is only correct 71% of the time.\n",
    "* The AUC score is 0.68, which suggests that in case of an accident there is a 68% chance the model will correctly distinguish the intentional event from an unintenational one. \n",
    "* The Recall gives us the exact number of times the model was able to accurately identify each event. For '0' or 'Unintentional', the model was able to classify it only 54% of the time. While for '1' or 'Intenational', the model was able to accuately classify it 83% of the time. \n",
    "* The Precision gives us number of time the model was correct on classifying each category. Both 'Unintenational' and 'Intentional' catergories were classified about 70% times correctly.\n",
    "* F1-Score is the harmonic mean between Precision and Recall. It is a better measure for model accuracy since it considers both precision and recall for each category. Here, we have a f1-score of 0.61 and 0.76 for each of our categories respectively. From the difference, we can also infer that is some class imbalance between the two categories."
   ]
  },
  {
   "cell_type": "markdown",
   "metadata": {},
   "source": []
  },
  {
   "cell_type": "markdown",
   "metadata": {},
   "source": []
  },
  {
   "cell_type": "markdown",
   "metadata": {},
   "source": []
  },
  {
   "cell_type": "code",
   "execution_count": null,
   "metadata": {},
   "outputs": [],
   "source": [
    "location = pd.DataFrame(df_final.LOCATION).join(y)\n",
    "location"
   ]
  },
  {
   "cell_type": "code",
   "execution_count": null,
   "metadata": {},
   "outputs": [],
   "source": [
    "location.PRIM_CONTRIBUTORY_CAUSE = location.PRIM_CONTRIBUTORY_CAUSE.map({0:'Unintentional',1:'Intentional'})\n",
    "location"
   ]
  },
  {
   "cell_type": "code",
   "execution_count": null,
   "metadata": {},
   "outputs": [],
   "source": []
  },
  {
   "cell_type": "code",
   "execution_count": null,
   "metadata": {},
   "outputs": [],
   "source": []
  },
  {
   "cell_type": "code",
   "execution_count": null,
   "metadata": {},
   "outputs": [],
   "source": []
  },
  {
   "cell_type": "code",
   "execution_count": null,
   "metadata": {},
   "outputs": [],
   "source": []
  },
  {
   "cell_type": "markdown",
   "metadata": {},
   "source": [
    "Who are the majority of people that are causing the accidents in Chicago?"
   ]
  },
  {
   "cell_type": "code",
   "execution_count": null,
   "metadata": {},
   "outputs": [],
   "source": [
    "drivers = df_main[['SEX', 'AGE', 'PRIM_CONTRIBUTORY_CAUSE']].copy()"
   ]
  },
  {
   "cell_type": "code",
   "execution_count": null,
   "metadata": {},
   "outputs": [],
   "source": [
    "drivers"
   ]
  },
  {
   "cell_type": "code",
   "execution_count": null,
   "metadata": {},
   "outputs": [],
   "source": [
    "drivers.PRIM_CONTRIBUTORY_CAUSE = drivers.PRIM_CONTRIBUTORY_CAUSE.map({\n",
    "                    0:'FAILING TO YIELD RIGHT-OF-WAY',             \n",
    "                    1:'FOLLOWING TOO CLOSELY',\n",
    "                    2:'IMPROPER OVERTAKING/PASSING',               \n",
    "                    3:'FAILING TO REDUCE SPEED TO AVOID CRASH',    \n",
    "                    4:'IMPROPER LANE USAGE',                       \n",
    "                    5:'IMPROPER TURNING/NO SIGNAL',                \n",
    "                    6:'DISREGARDING TRAFFIC SIGNS',                \n",
    "                    7:'IMPROPER BACKING',                          \n",
    "                    8:'CARELESS DRIVING',                        \n",
    "                    9:'LACK OF EXPERIENCE/DRIVING SKILL',          \n",
    "                    10:'DRIVING CONDITION',                     \n",
    "                    11:'DISTRACTION'})"
   ]
  },
  {
   "cell_type": "code",
   "execution_count": null,
   "metadata": {},
   "outputs": [],
   "source": [
    "drivers"
   ]
  },
  {
   "cell_type": "code",
   "execution_count": null,
   "metadata": {},
   "outputs": [],
   "source": [
    "male = drivers[drivers.SEX == 'M']\n",
    "female = drivers[drivers.SEX == 'F']"
   ]
  },
  {
   "cell_type": "code",
   "execution_count": null,
   "metadata": {},
   "outputs": [],
   "source": [
    "plt.figure(figsize=(18,10))\n",
    "\n",
    "plt.hist([male.PRIM_CONTRIBUTORY_CAUSE, female.PRIM_CONTRIBUTORY_CAUSE], label=['Male', 'Female'], alpha =.8)\n",
    "plt.title('Car crashes by Gender', fontsize=20)\n",
    "plt.xticks(rotation=90, fontsize=12)\n",
    "plt.legend()\n",
    "plt.tight_layout()\n",
    "plt.show();\n",
    "\n",
    "fig.savefig('D:\\Data Science\\Module_3_Final_Project\\Graphs\\gender_histogram.png')"
   ]
  },
  {
   "cell_type": "markdown",
   "metadata": {},
   "source": [
    "From the histogram we can clearly see that higher number of accidents has been caused by male or are involved."
   ]
  },
  {
   "cell_type": "code",
   "execution_count": null,
   "metadata": {},
   "outputs": [],
   "source": [
    "bins = list(range(0,120,10))"
   ]
  },
  {
   "cell_type": "code",
   "execution_count": null,
   "metadata": {},
   "outputs": [],
   "source": [
    "bins"
   ]
  },
  {
   "cell_type": "code",
   "execution_count": null,
   "metadata": {},
   "outputs": [],
   "source": [
    "age_df = pd.DataFrame(drivers['AGE'].value_counts())"
   ]
  },
  {
   "cell_type": "code",
   "execution_count": null,
   "metadata": {},
   "outputs": [],
   "source": [
    "age_df"
   ]
  },
  {
   "cell_type": "code",
   "execution_count": null,
   "metadata": {},
   "outputs": [],
   "source": [
    "age_df.plot(y='AGE', kind='bar', figsize=(20,10), \n",
    "            use_index=True, \n",
    "            fontsize=12,\n",
    "            title='Car crash by Age', \n",
    "            ylabel='Total number of People',\n",
    "            xlabel='Age');\n",
    "fig.savefig('D:\\Data Science\\Module_3_Final_Project\\Graphs\\Age_graph.png', bbox_inches='tight')"
   ]
  },
  {
   "cell_type": "markdown",
   "metadata": {},
   "source": [
    "Here, we can see that from Age 25 has the hightest number of crashes and falls down in number as the person gets older."
   ]
  },
  {
   "cell_type": "markdown",
   "metadata": {},
   "source": [
    "### EDA 2: Main Reason for Accident"
   ]
  },
  {
   "cell_type": "code",
   "execution_count": null,
   "metadata": {},
   "outputs": [],
   "source": [
    "cause_df = df_main[['PRIM_CONTRIBUTORY_CAUSE']]"
   ]
  },
  {
   "cell_type": "code",
   "execution_count": null,
   "metadata": {},
   "outputs": [],
   "source": [
    "cause_df.PRIM_CONTRIBUTORY_CAUSE = cause_df.PRIM_CONTRIBUTORY_CAUSE.map({\n",
    "                    0:'FAILING TO YIELD RIGHT-OF-WAY',             \n",
    "                    1:'FOLLOWING TOO CLOSELY',\n",
    "                    2:'IMPROPER OVERTAKING/PASSING',               \n",
    "                    3:'FAILING TO REDUCE SPEED TO AVOID CRASH',    \n",
    "                    4:'IMPROPER LANE USAGE',                       \n",
    "                    5:'IMPROPER TURNING/NO SIGNAL',                \n",
    "                    6:'DISREGARDING TRAFFIC SIGNS',                \n",
    "                    7:'IMPROPER BACKING',                          \n",
    "                    8:'CARELESS DRIVING',                        \n",
    "                    9:'LACK OF EXPERIENCE/DRIVING SKILL',          \n",
    "                    10:'DRIVING CONDITION',                     \n",
    "                    11:'DISTRACTION'})"
   ]
  },
  {
   "cell_type": "code",
   "execution_count": null,
   "metadata": {},
   "outputs": [],
   "source": [
    "cause = pd.DataFrame(cause_df.value_counts())"
   ]
  },
  {
   "cell_type": "code",
   "execution_count": null,
   "metadata": {},
   "outputs": [],
   "source": [
    "cause.sort_values(by=0, ascending=False)"
   ]
  },
  {
   "cell_type": "code",
   "execution_count": null,
   "metadata": {},
   "outputs": [],
   "source": [
    "cause.plot(kind='barh',\n",
    "           figsize=(12,8),\n",
    "           title='Primary Contributory Cause',\n",
    "           fontsize=10, legend=False);\n",
    "fig.savefig('D:\\Data Science\\Module_3_Final_Project\\Graphs\\prim_contributory.png', bbox_inches='tight')"
   ]
  },
  {
   "cell_type": "markdown",
   "metadata": {},
   "source": [
    "### EDA 3: Time of Crash"
   ]
  },
  {
   "cell_type": "code",
   "execution_count": null,
   "metadata": {},
   "outputs": [],
   "source": [
    "df_main.columns"
   ]
  },
  {
   "cell_type": "code",
   "execution_count": null,
   "metadata": {},
   "outputs": [],
   "source": [
    "time = df_main[['CRASH_HOUR','CRASH_DAY_OF_WEEK', 'CRASH_MONTH']]"
   ]
  },
  {
   "cell_type": "code",
   "execution_count": null,
   "metadata": {},
   "outputs": [],
   "source": [
    "hour = pd.DataFrame(time.CRASH_HOUR.value_counts().sort_index())"
   ]
  },
  {
   "cell_type": "code",
   "execution_count": null,
   "metadata": {},
   "outputs": [],
   "source": [
    "hour.plot(kind='bar', title='Time of Crash', figsize=(12,10),\n",
    "         xlabel='Hour', ylabel='count', fontsize=10);\n",
    "fig.savefig(r'D:\\Data Science\\Module_3_Final_Project\\Graphs\\time_2.png', bbox_inches='tight')"
   ]
  },
  {
   "cell_type": "code",
   "execution_count": null,
   "metadata": {},
   "outputs": [],
   "source": []
  }
 ],
 "metadata": {
  "kernelspec": {
   "display_name": "Python 3",
   "language": "python",
   "name": "python3"
  },
  "language_info": {
   "codemirror_mode": {
    "name": "ipython",
    "version": 3
   },
   "file_extension": ".py",
   "mimetype": "text/x-python",
   "name": "python",
   "nbconvert_exporter": "python",
   "pygments_lexer": "ipython3",
   "version": "3.8.5"
  }
 },
 "nbformat": 4,
 "nbformat_minor": 2
}
