{
 "cells": [
  {
   "cell_type": "markdown",
   "metadata": {},
   "source": [
    "## Final Project Submission - Book 3\n",
    "\n",
    "Please fill out:\n",
    "* Student name: Dicchyant Gurung\n",
    "* Student pace: Self paced \n",
    "* Scheduled project review date/time: 6/9/2021\n",
    "* Instructor name: Jeff Herman\n",
    "* Blog post URL:https://dicchyanttamu.wixsite.com/data/post/line-graph-visualization\n"
   ]
  },
  {
   "cell_type": "markdown",
   "metadata": {},
   "source": [
    "### Business Case"
   ]
  },
  {
   "cell_type": "markdown",
   "metadata": {},
   "source": [
    "The Vehicle Safety Board is looking to reduce the number of accidents in the City of Chicago. Utilizing the car crash data received from the Chicago Data Portal, we will perform some meaningful EDA and provide recommendations to the Vehicle Safety Board.\n",
    "\n",
    "Firstly, we will do some data exploration to answer the following three problem statements. We will then use the results to identify areas for improvement and come up with actionable steps that will help reduce the number of accidents in the City of Chicago.\n",
    "\n",
    "**1. Identify high-density areas of car crash in Chicago**\n",
    "\n",
    "**2. Analyze control failures to identify opportunities for improvement**\n",
    "\n",
    "**3. Check for trends in the time of crash to relocate resources appropriately**\n",
    "\n",
    "Furthermore, we will create a classifier to categorize the accidents in two main cateogories for future references:\n",
    "\n",
    "**1. Unintentional:** These are events or instances where the driver was unaware of the possibility of an accident.\n",
    "\n",
    "**2. Intentional:** These are events or instances where the driver was fully aware of the possibility of an accident."
   ]
  },
  {
   "cell_type": "markdown",
   "metadata": {},
   "source": [
    "### Book 3:  Create a classifier to categorize the car crashes in two main cateogories\n",
    "\n",
    "> **1. Unintentional:** These are events or instances where the driver was unaware of the possibility of an accident.\n",
    "\n",
    "> **2. Intentional:** These are events or instances where the driver was fully aware of the possibility of an accident."
   ]
  },
  {
   "cell_type": "markdown",
   "metadata": {},
   "source": [
    "### Import relevant packages"
   ]
  },
  {
   "cell_type": "code",
   "execution_count": 1,
   "metadata": {},
   "outputs": [],
   "source": [
    "import pandas as pd\n",
    "import numpy as np\n",
    "from sklearn.preprocessing import StandardScaler\n",
    "from sklearn.model_selection import train_test_split, GridSearchCV\n",
    "from sklearn.tree import DecisionTreeClassifier, plot_tree \n",
    "from sklearn.neighbors import KNeighborsClassifier\n",
    "from sklearn.svm import LinearSVC\n",
    "from sklearn.ensemble import RandomForestClassifier, AdaBoostClassifier, GradientBoostingClassifier\n",
    "import xgboost as xgb\n",
    "from sklearn.metrics import accuracy_score, f1_score, precision_score, recall_score, auc, roc_curve, roc_auc_score, \\\n",
    "mean_squared_error, confusion_matrix, plot_confusion_matrix, classification_report\n",
    "from sklearn.feature_selection import SelectFromModel \n",
    "from sklearn.decomposition import PCA\n",
    "\n",
    "import matplotlib.pyplot as plt\n",
    "%matplotlib inline\n",
    "import seaborn as sns\n",
    "\n",
    "import warnings\n",
    "warnings.filterwarnings('ignore')"
   ]
  },
  {
   "cell_type": "markdown",
   "metadata": {},
   "source": [
    "### Import cleaned data"
   ]
  },
  {
   "cell_type": "code",
   "execution_count": 2,
   "metadata": {},
   "outputs": [],
   "source": [
    "df_final = pd.read_csv('car_crash_final.csv')"
   ]
  },
  {
   "cell_type": "code",
   "execution_count": 3,
   "metadata": {},
   "outputs": [
    {
     "data": {
      "text/plain": [
       "(404326, 21)"
      ]
     },
     "execution_count": 3,
     "metadata": {},
     "output_type": "execute_result"
    }
   ],
   "source": [
    "df_final.shape"
   ]
  },
  {
   "cell_type": "code",
   "execution_count": 4,
   "metadata": {},
   "outputs": [
    {
     "data": {
      "text/plain": [
       "0         37\n",
       "1         32\n",
       "2         37\n",
       "3         41\n",
       "4         50\n",
       "          ..\n",
       "404321    20\n",
       "404322    71\n",
       "404323    59\n",
       "404324    21\n",
       "404325    40\n",
       "Name: AGE, Length: 404326, dtype: int64"
      ]
     },
     "execution_count": 4,
     "metadata": {},
     "output_type": "execute_result"
    }
   ],
   "source": [
    "df_final.AGE"
   ]
  },
  {
   "cell_type": "code",
   "execution_count": 5,
   "metadata": {},
   "outputs": [],
   "source": [
    "# We need the age columns as objects since we are looking to classify them. We will tranform them in string\n",
    "df_final.AGE = df_final.AGE.map(lambda x : str(x))"
   ]
  },
  {
   "cell_type": "markdown",
   "metadata": {},
   "source": [
    "### Prepare the data"
   ]
  },
  {
   "cell_type": "code",
   "execution_count": 6,
   "metadata": {},
   "outputs": [],
   "source": [
    "X = df_final.drop(['PRIM_CONTRIBUTORY_CAUSE', 'CRASH_HOUR','CRASH_DAY_OF_WEEK', 'CRASH_MONTH', 'LONGITUDE', 'LATITUDE', 'LOCATION'], axis=1).copy()\n",
    "y = df_final.PRIM_CONTRIBUTORY_CAUSE"
   ]
  },
  {
   "cell_type": "code",
   "execution_count": 7,
   "metadata": {},
   "outputs": [],
   "source": [
    "# Convert predictors into dummies\n",
    "X = pd.get_dummies(X, drop_first=True)"
   ]
  },
  {
   "cell_type": "code",
   "execution_count": 8,
   "metadata": {},
   "outputs": [
    {
     "data": {
      "text/plain": [
       "(404326, 208)"
      ]
     },
     "execution_count": 8,
     "metadata": {},
     "output_type": "execute_result"
    }
   ],
   "source": [
    "X.shape"
   ]
  },
  {
   "cell_type": "markdown",
   "metadata": {},
   "source": [
    "### Train-Test Split"
   ]
  },
  {
   "cell_type": "code",
   "execution_count": 9,
   "metadata": {},
   "outputs": [],
   "source": [
    "# split into train and test sets\n",
    "X_train, X_test, y_train, y_test = train_test_split(X, y, test_size=0.30, random_state=123)"
   ]
  },
  {
   "cell_type": "markdown",
   "metadata": {},
   "source": [
    "### Scale the data"
   ]
  },
  {
   "cell_type": "code",
   "execution_count": 10,
   "metadata": {},
   "outputs": [],
   "source": [
    "#Instantiate Standard Scaler\n",
    "scaler = StandardScaler()\n",
    "\n",
    "X_train_scaled = scaler.fit_transform(X_train)\n",
    "X_test_scaled = scaler.transform(X_test)"
   ]
  },
  {
   "cell_type": "markdown",
   "metadata": {},
   "source": [
    "### Dimensionality Reduction"
   ]
  },
  {
   "cell_type": "markdown",
   "metadata": {},
   "source": [
    "#### Principal Component Analysis"
   ]
  },
  {
   "cell_type": "markdown",
   "metadata": {},
   "source": [
    "By choosing .95 as n_components in PCA, we can capture 95% of the variability present in the data while reducing the dimensions."
   ]
  },
  {
   "cell_type": "code",
   "execution_count": 11,
   "metadata": {},
   "outputs": [],
   "source": [
    "#Instantiate PCA with 95% exlained variance\n",
    "pca = PCA(.95)"
   ]
  },
  {
   "cell_type": "code",
   "execution_count": 12,
   "metadata": {},
   "outputs": [],
   "source": [
    "X_train_transformed = pca.fit_transform(X_train_scaled)\n",
    "X_test_transformed = pca.transform(X_test_scaled)"
   ]
  },
  {
   "cell_type": "code",
   "execution_count": 13,
   "metadata": {},
   "outputs": [
    {
     "data": {
      "text/plain": [
       "(283028, 181)"
      ]
     },
     "execution_count": 13,
     "metadata": {},
     "output_type": "execute_result"
    }
   ],
   "source": [
    "X_train_transformed.shape"
   ]
  },
  {
   "cell_type": "markdown",
   "metadata": {},
   "source": [
    "The PCA seems to have reduced our predictor columns from 208 to 181."
   ]
  },
  {
   "cell_type": "markdown",
   "metadata": {},
   "source": [
    "### Run the Base model:"
   ]
  },
  {
   "cell_type": "markdown",
   "metadata": {},
   "source": [
    "We will use the Decision Tree Classifier with tree depth 3 as out base model."
   ]
  },
  {
   "cell_type": "markdown",
   "metadata": {},
   "source": [
    "### Decision Tree Classifier"
   ]
  },
  {
   "cell_type": "code",
   "execution_count": 14,
   "metadata": {},
   "outputs": [],
   "source": [
    "#Instantiate the model with max tree depth of 3\n",
    "dtc = DecisionTreeClassifier(criterion='gini', max_depth=3)"
   ]
  },
  {
   "cell_type": "code",
   "execution_count": 15,
   "metadata": {},
   "outputs": [
    {
     "name": "stdout",
     "output_type": "stream",
     "text": [
      "Wall time: 18.6 s\n"
     ]
    },
    {
     "data": {
      "text/plain": [
       "DecisionTreeClassifier(max_depth=3)"
      ]
     },
     "execution_count": 15,
     "metadata": {},
     "output_type": "execute_result"
    }
   ],
   "source": [
    "%%time\n",
    "#Fit the model\n",
    "dtc.fit(X_train_transformed, y_train)"
   ]
  },
  {
   "cell_type": "code",
   "execution_count": 16,
   "metadata": {},
   "outputs": [],
   "source": [
    "# Make predictions for train and test data\n",
    "y_pred_train_dtc = dtc.predict(X_train_transformed)\n",
    "y_pred_test_dtc = dtc.predict(X_test_transformed)"
   ]
  },
  {
   "cell_type": "code",
   "execution_count": 17,
   "metadata": {},
   "outputs": [
    {
     "name": "stdout",
     "output_type": "stream",
     "text": [
      "Train accuracy is :65.29035996438515\n",
      "Test accuracy is :65.24674767926923\n",
      "\n",
      "AUC is :0.62\n",
      "\n",
      "Confusion Matrix\n",
      "----------------\n"
     ]
    },
    {
     "data": {
      "text/html": [
       "<div>\n",
       "<style scoped>\n",
       "    .dataframe tbody tr th:only-of-type {\n",
       "        vertical-align: middle;\n",
       "    }\n",
       "\n",
       "    .dataframe tbody tr th {\n",
       "        vertical-align: top;\n",
       "    }\n",
       "\n",
       "    .dataframe thead th {\n",
       "        text-align: right;\n",
       "    }\n",
       "</style>\n",
       "<table border=\"1\" class=\"dataframe\">\n",
       "  <thead>\n",
       "    <tr style=\"text-align: right;\">\n",
       "      <th>Predicted</th>\n",
       "      <th>0</th>\n",
       "      <th>1</th>\n",
       "      <th>All</th>\n",
       "    </tr>\n",
       "    <tr>\n",
       "      <th>True</th>\n",
       "      <th></th>\n",
       "      <th></th>\n",
       "      <th></th>\n",
       "    </tr>\n",
       "  </thead>\n",
       "  <tbody>\n",
       "    <tr>\n",
       "      <th>0</th>\n",
       "      <td>21450</td>\n",
       "      <td>30047</td>\n",
       "      <td>51497</td>\n",
       "    </tr>\n",
       "    <tr>\n",
       "      <th>1</th>\n",
       "      <td>12108</td>\n",
       "      <td>57693</td>\n",
       "      <td>69801</td>\n",
       "    </tr>\n",
       "    <tr>\n",
       "      <th>All</th>\n",
       "      <td>33558</td>\n",
       "      <td>87740</td>\n",
       "      <td>121298</td>\n",
       "    </tr>\n",
       "  </tbody>\n",
       "</table>\n",
       "</div>"
      ],
      "text/plain": [
       "Predicted      0      1     All\n",
       "True                           \n",
       "0          21450  30047   51497\n",
       "1          12108  57693   69801\n",
       "All        33558  87740  121298"
      ]
     },
     "execution_count": 17,
     "metadata": {},
     "output_type": "execute_result"
    }
   ],
   "source": [
    "# Calculate accuracy \n",
    "train_acc = accuracy_score(y_train,y_pred_train_dtc) * 100\n",
    "test_acc = accuracy_score(y_test, y_pred_test_dtc) * 100\n",
    "print('Train accuracy is :{0}'.format(train_acc))\n",
    "print('Test accuracy is :{0}'.format(test_acc))\n",
    "\n",
    "# Check the AUC for predictions\n",
    "fpr, tpr, thresholds = roc_curve(y_test, y_pred_test_dtc)\n",
    "roc_auc = auc(fpr, tpr)\n",
    "print('\\nAUC is :{0}'.format(round(roc_auc, 2)))\n",
    "\n",
    "# Create and print a confusion matrix \n",
    "print('\\nConfusion Matrix')\n",
    "print('----------------')\n",
    "pd.crosstab(y_test, y_pred_test_dtc, rownames=['True'], colnames=['Predicted'], margins=True)"
   ]
  },
  {
   "cell_type": "markdown",
   "metadata": {},
   "source": [
    "The similar values in the train and test accuracy suggests that the model is a good fit."
   ]
  },
  {
   "cell_type": "code",
   "execution_count": 18,
   "metadata": {},
   "outputs": [
    {
     "data": {
      "image/png": "[encoded data removed]",
      "text/plain": [
       "<Figure size 576x576 with 2 Axes>"
      ]
     },
     "metadata": {
      "needs_background": "light"
     },
     "output_type": "display_data"
    }
   ],
   "source": [
    "# Visualize confusion matric\n",
    "fig, ax = plt.subplots(figsize=(8, 8))\n",
    "plot_confusion_matrix(dtc, X_test_transformed, y_test,\n",
    "                      cmap=plt.cm.PuBuGn, ax=ax)\n",
    "ax.set_title('Confusion Matrix: DecisionTreeClassifier', fontsize=18, pad=10)\n",
    "ax.set_xlabel('Predicted Labels', fontsize=15)\n",
    "ax.set_ylabel('True Labels', fontsize=15)\n",
    "\n",
    "plt.grid(False)\n",
    "plt.savefig(r'Graphs\\DTC_confmatx.png', bbox_inches='tight')\n",
    "plt.show();"
   ]
  },
  {
   "cell_type": "code",
   "execution_count": 19,
   "metadata": {},
   "outputs": [
    {
     "name": "stdout",
     "output_type": "stream",
     "text": [
      "AUC: 0.6215322773280627\n"
     ]
    },
    {
     "data": {
      "image/png": "[encoded data removed]",
      "text/plain": [
       "<Figure size 720x576 with 1 Axes>"
      ]
     },
     "metadata": {},
     "output_type": "display_data"
    }
   ],
   "source": [
    "### ROC curve\n",
    "sns.set_style('darkgrid', {'axes.facecolor': '0.9'})\n",
    "\n",
    "print('AUC: {}'.format(auc(fpr, tpr)))\n",
    "plt.figure(figsize=(10, 8))\n",
    "lw = 2\n",
    "plt.plot(fpr, tpr, color='darkorange',\n",
    "         lw=lw, label='ROC curve')\n",
    "plt.plot([0, 1], [0, 1], color='navy', lw=lw, linestyle='--')\n",
    "plt.xlim([0.0, 1.0])\n",
    "plt.ylim([0.0, 1.05])\n",
    "plt.yticks([i/20.0 for i in range(21)])\n",
    "plt.xticks([i/20.0 for i in range(21)])\n",
    "plt.xlabel('False Positive Rate')\n",
    "plt.ylabel('True Positive Rate')\n",
    "plt.title('Receiver operating characteristic (ROC) Curve')\n",
    "plt.legend(loc='lower right')\n",
    "plt.savefig(r'Graphs\\DTC_ROC.png', bbox_inches='tight')\n",
    "plt.show();"
   ]
  },
  {
   "cell_type": "markdown",
   "metadata": {},
   "source": [
    "Looking at the ROC, we can see that the model is only somewhat good at predicting the classes. The AUC of 0.62 suggests that there is a 62% probability that the model will correcty classify each target variable."
   ]
  },
  {
   "cell_type": "markdown",
   "metadata": {},
   "source": [
    "### Re-grow the tree using entropy"
   ]
  },
  {
   "cell_type": "code",
   "execution_count": 20,
   "metadata": {},
   "outputs": [
    {
     "name": "stdout",
     "output_type": "stream",
     "text": [
      "Train accuracy is :90.31049931455544\n",
      "Test accuracy is :63.048854886313045\n",
      "\n",
      "AUC is :0.62\n",
      "\n",
      "Confusion Matrix\n",
      "----------------\n",
      "Wall time: 2min 39s\n"
     ]
    },
    {
     "data": {
      "text/html": [
       "<div>\n",
       "<style scoped>\n",
       "    .dataframe tbody tr th:only-of-type {\n",
       "        vertical-align: middle;\n",
       "    }\n",
       "\n",
       "    .dataframe tbody tr th {\n",
       "        vertical-align: top;\n",
       "    }\n",
       "\n",
       "    .dataframe thead th {\n",
       "        text-align: right;\n",
       "    }\n",
       "</style>\n",
       "<table border=\"1\" class=\"dataframe\">\n",
       "  <thead>\n",
       "    <tr style=\"text-align: right;\">\n",
       "      <th>Predicted</th>\n",
       "      <th>0</th>\n",
       "      <th>1</th>\n",
       "      <th>All</th>\n",
       "    </tr>\n",
       "    <tr>\n",
       "      <th>True</th>\n",
       "      <th></th>\n",
       "      <th></th>\n",
       "      <th></th>\n",
       "    </tr>\n",
       "  </thead>\n",
       "  <tbody>\n",
       "    <tr>\n",
       "      <th>0</th>\n",
       "      <td>21450</td>\n",
       "      <td>30047</td>\n",
       "      <td>51497</td>\n",
       "    </tr>\n",
       "    <tr>\n",
       "      <th>1</th>\n",
       "      <td>12108</td>\n",
       "      <td>57693</td>\n",
       "      <td>69801</td>\n",
       "    </tr>\n",
       "    <tr>\n",
       "      <th>All</th>\n",
       "      <td>33558</td>\n",
       "      <td>87740</td>\n",
       "      <td>121298</td>\n",
       "    </tr>\n",
       "  </tbody>\n",
       "</table>\n",
       "</div>"
      ],
      "text/plain": [
       "Predicted      0      1     All\n",
       "True                           \n",
       "0          21450  30047   51497\n",
       "1          12108  57693   69801\n",
       "All        33558  87740  121298"
      ]
     },
     "execution_count": 20,
     "metadata": {},
     "output_type": "execute_result"
    }
   ],
   "source": [
    "%%time\n",
    "#Instantiate the model\n",
    "dtc1 = DecisionTreeClassifier(criterion='entropy')\n",
    "\n",
    "#Fit the model\n",
    "dtc1.fit(X_train_transformed, y_train)\n",
    "\n",
    "# Make predictions for train and test data\n",
    "y_pred_train_dtc1 = dtc1.predict(X_train_transformed)\n",
    "y_pred_test_dtc1 = dtc1.predict(X_test_transformed)\n",
    "\n",
    "# Calculate accuracy \n",
    "train_acc1 = accuracy_score(y_train,y_pred_train_dtc1) * 100\n",
    "test_acc1 = accuracy_score(y_test, y_pred_test_dtc1) * 100\n",
    "print('Train accuracy is :{0}'.format(train_acc1))\n",
    "print('Test accuracy is :{0}'.format(test_acc1))\n",
    "\n",
    "# Check the AUC for predictions\n",
    "fpr1, tpr1, thresholds1 = roc_curve(y_test, y_pred_test_dtc)\n",
    "roc_auc1 = auc(fpr1, tpr1)\n",
    "print('\\nAUC is :{0}'.format(round(roc_auc1, 2)))\n",
    "\n",
    "# Create and print a confusion matrix \n",
    "print('\\nConfusion Matrix')\n",
    "print('----------------')\n",
    "pd.crosstab(y_test, y_pred_test_dtc, rownames=['True'], colnames=['Predicted'], margins=True)"
   ]
  },
  {
   "cell_type": "markdown",
   "metadata": {},
   "source": [
    "The infomarmation gain criterion 'entropy' does not seem to have made much of a difference. Although it trained well in the training data with over 90% accuracy, it was not able to generalize and predict the test set well. This means that the model has started to overfit."
   ]
  },
  {
   "cell_type": "markdown",
   "metadata": {},
   "source": [
    "Since, we will be calculationt the accuracy score and plotting the matrix multiple times, let's create a function to use it on different models."
   ]
  },
  {
   "cell_type": "code",
   "execution_count": 21,
   "metadata": {},
   "outputs": [],
   "source": [
    "def pred_score(clf):    \n",
    "    # Make predictions on train and test data\n",
    "    y_pred_train = clf.predict(X_train_transformed)\n",
    "    y_pred_test = clf.predict(X_test_transformed)\n",
    "    \n",
    "    # Calculate accuracy \n",
    "    train_acc = accuracy_score(y_train,y_pred_train) * 100\n",
    "    test_acc = accuracy_score(y_test, y_pred_test) * 100\n",
    "    print('Train accuracy is :{0}'.format(train_acc))\n",
    "    print('Test accuracy is :{0}'.format(test_acc))\n",
    "    \n",
    "    # Check the AUC for predictions\n",
    "    roc_auc = roc_auc_score(y_test, y_pred_test)\n",
    "    print('\\nAUC is :{0}'.format(round(roc_auc, 2)))\n",
    "    \n",
    "    # Create and print a confusion matrix \n",
    "    print('\\nConfusion Matrix')\n",
    "    print('-----------------')\n",
    "    print(pd.crosstab(y_test, y_pred_test, rownames=['True'], colnames=['Predicted'], margins=True))\n",
    "\n",
    "    # Classification report\n",
    "    print('\\nClassification Report')\n",
    "    print('----------------------')\n",
    "    print(classification_report(y_test, y_pred_test))"
   ]
  },
  {
   "cell_type": "markdown",
   "metadata": {},
   "source": [
    "### Model 1: KNN"
   ]
  },
  {
   "cell_type": "code",
   "execution_count": 22,
   "metadata": {
    "scrolled": true
   },
   "outputs": [
    {
     "data": {
      "text/plain": [
       "KNeighborsClassifier()"
      ]
     },
     "execution_count": 22,
     "metadata": {},
     "output_type": "execute_result"
    }
   ],
   "source": [
    "# Instantiate and fit the model\n",
    "knn = KNeighborsClassifier()\n",
    "knn.fit(X_train_transformed, y_train)"
   ]
  },
  {
   "cell_type": "code",
   "execution_count": 23,
   "metadata": {},
   "outputs": [
    {
     "name": "stdout",
     "output_type": "stream",
     "text": [
      "Train accuracy is :75.05017171445935\n",
      "Test accuracy is :64.80156309254893\n",
      "\n",
      "AUC is :0.63\n",
      "\n",
      "Confusion Matrix\n",
      "-----------------\n",
      "Predicted      0      1     All\n",
      "True                           \n",
      "0          27514  23983   51497\n",
      "1          18712  51089   69801\n",
      "All        46226  75072  121298\n",
      "\n",
      "Classification Report\n",
      "----------------------\n",
      "              precision    recall  f1-score   support\n",
      "\n",
      "           0       0.60      0.53      0.56     51497\n",
      "           1       0.68      0.73      0.71     69801\n",
      "\n",
      "    accuracy                           0.65    121298\n",
      "   macro avg       0.64      0.63      0.63    121298\n",
      "weighted avg       0.64      0.65      0.64    121298\n",
      "\n"
     ]
    }
   ],
   "source": [
    "pred_score(knn)"
   ]
  },
  {
   "cell_type": "markdown",
   "metadata": {},
   "source": [
    "The KNN seems to be just a little better than our base mode at 65% accuracy and AUC score of 0.63."
   ]
  },
  {
   "cell_type": "markdown",
   "metadata": {},
   "source": [
    "### Model 2: Random Forest"
   ]
  },
  {
   "cell_type": "code",
   "execution_count": 24,
   "metadata": {},
   "outputs": [
    {
     "data": {
      "text/plain": [
       "RandomForestClassifier(max_depth=5)"
      ]
     },
     "execution_count": 24,
     "metadata": {},
     "output_type": "execute_result"
    }
   ],
   "source": [
    "# Instantiate and fit the model\n",
    "rf = RandomForestClassifier(n_estimators=100, max_depth= 5)\n",
    "rf.fit(X_train_transformed, y_train)  "
   ]
  },
  {
   "cell_type": "code",
   "execution_count": 25,
   "metadata": {},
   "outputs": [
    {
     "name": "stdout",
     "output_type": "stream",
     "text": [
      "Train accuracy is :66.3888378534986\n",
      "Test accuracy is :66.47924945176342\n",
      "\n",
      "AUC is :0.62\n",
      "\n",
      "Confusion Matrix\n",
      "-----------------\n",
      "Predicted      0       1     All\n",
      "True                            \n",
      "0          14843   36654   51497\n",
      "1           4006   65795   69801\n",
      "All        18849  102449  121298\n",
      "\n",
      "Classification Report\n",
      "----------------------\n",
      "              precision    recall  f1-score   support\n",
      "\n",
      "           0       0.79      0.29      0.42     51497\n",
      "           1       0.64      0.94      0.76     69801\n",
      "\n",
      "    accuracy                           0.66    121298\n",
      "   macro avg       0.71      0.62      0.59    121298\n",
      "weighted avg       0.70      0.66      0.62    121298\n",
      "\n"
     ]
    }
   ],
   "source": [
    "pred_score(rf)"
   ]
  },
  {
   "cell_type": "markdown",
   "metadata": {},
   "source": [
    "Looking at the train and test accuracy, the random forest model also shows a good fit of the data. The AUC is 0.62. The difference in f1-scores suggests that there is some bias in the data between the two classifiers."
   ]
  },
  {
   "cell_type": "markdown",
   "metadata": {},
   "source": [
    "### Feature Importance with Random Forest"
   ]
  },
  {
   "cell_type": "code",
   "execution_count": 26,
   "metadata": {},
   "outputs": [
    {
     "data": {
      "image/png": "[encoded data removed]",
      "text/plain": [
       "<Figure size 1440x3600 with 1 Axes>"
      ]
     },
     "metadata": {},
     "output_type": "display_data"
    }
   ],
   "source": [
    "n_features = X_train_transformed.shape[1]\n",
    "plt.figure(figsize=(20,50))\n",
    "plt.barh(range(n_features), rf.feature_importances_, align='center') \n",
    "plt.yticks(np.arange(n_features))\n",
    "plt.title('Feature Imporance', fontsize=30, pad=5)\n",
    "plt.xlabel('Feature importance', fontsize=20, labelpad=5)\n",
    "plt.ylabel('Features', fontsize=20)\n",
    "plt.tight_layout()\n",
    "plt.savefig(r'Graphs\\feat_imp.png', bbox_inches='tight')"
   ]
  },
  {
   "cell_type": "markdown",
   "metadata": {},
   "source": [
    "The feature importance gives us the distribution of how each feature is affecting the model. We can use then use this information to filter different predictors."
   ]
  },
  {
   "cell_type": "markdown",
   "metadata": {},
   "source": [
    "### Selecting best features"
   ]
  },
  {
   "cell_type": "code",
   "execution_count": 27,
   "metadata": {},
   "outputs": [
    {
     "name": "stdout",
     "output_type": "stream",
     "text": [
      "(0, 0.012198056093249705)\n",
      "(1, 0.03698239370893893)\n",
      "(2, 0.016233967336432547)\n",
      "(3, 0.040341558721171844)\n",
      "(4, 0.042682375019326806)\n",
      "(5, 0.013057161487676668)\n",
      "(6, 0.02754415892757339)\n",
      "(7, 0.14069995496073995)\n",
      "(8, 0.06853568059738646)\n",
      "(9, 0.053510691237872485)\n",
      "(10, 0.029099493346527495)\n",
      "(11, 0.02248037377585717)\n",
      "(12, 0.056550372824289555)\n",
      "(13, 0.09153857636007269)\n",
      "(14, 0.04552395433937566)\n",
      "(15, 0.009932898221875087)\n",
      "(16, 0.025010348485058544)\n",
      "(17, 0.018381005954879414)\n",
      "(18, 0.007228629332758746)\n",
      "(19, 0.0016914176538951702)\n",
      "(20, 0.006800139692032318)\n",
      "(21, 0.007868128832391701)\n",
      "(22, 0.0017500676192511132)\n",
      "(23, 0.0045122690663912755)\n",
      "(24, 0.0020464752769273555)\n",
      "(25, 0.0052879197979732034)\n",
      "(26, 0.0008907723123714113)\n",
      "(27, 0.0012919144199776288)\n",
      "(28, 0.006036780415818967)\n",
      "(29, 0.0010354260223541373)\n",
      "(30, 0.005276555239645327)\n",
      "(31, 0.0003359019239305097)\n",
      "(32, 0.0012237132049270445)\n",
      "(33, 3.974988007523362e-05)\n",
      "(34, 3.5485905250953906e-05)\n",
      "(35, 0.0004304444724229541)\n",
      "(36, 0.0006210088396308527)\n",
      "(37, 0.00024626214770056285)\n",
      "(38, 0.0005103256724903498)\n",
      "(39, 0.0003208373739249186)\n",
      "(40, 0.000137850695327356)\n",
      "(41, 0.0)\n",
      "(42, 0.0001677038908704839)\n",
      "(43, 9.558448580549166e-05)\n",
      "(44, 6.914524040646129e-05)\n",
      "(45, 8.462411875405099e-06)\n",
      "(46, 2.992205376697253e-05)\n",
      "(47, 0.0)\n",
      "(48, 7.678074990285327e-05)\n",
      "(49, 6.566701422697669e-05)\n",
      "(50, 3.534722168082029e-05)\n",
      "(51, 3.320055211578438e-05)\n",
      "(52, 3.393952601372169e-05)\n",
      "(53, 2.8906637075539408e-05)\n",
      "(54, 6.834941416481023e-05)\n",
      "(55, 4.1527111211911286e-05)\n",
      "(56, 2.3927720422111557e-05)\n",
      "(57, 2.514903824842382e-05)\n",
      "(58, 7.077535259661184e-06)\n",
      "(59, 2.000097536988664e-05)\n",
      "(60, 6.239878120110407e-05)\n",
      "(61, 1.0456486271060273e-05)\n",
      "(62, 2.0147693413031626e-05)\n",
      "(63, 1.5096057843227972e-05)\n",
      "(64, 4.073444553033127e-05)\n",
      "(65, 6.931698557349872e-05)\n",
      "(66, 0.0007406621531305093)\n",
      "(67, 2.9890937144477854e-05)\n",
      "(68, 0.0)\n",
      "(69, 0.0)\n",
      "(70, 5.95064859852191e-05)\n",
      "(71, 3.1749096759155786e-05)\n",
      "(72, 5.0250737955062024e-06)\n",
      "(73, 2.2252871776584108e-05)\n",
      "(74, 7.173896406757998e-05)\n",
      "(75, 1.538314470395401e-05)\n",
      "(76, 2.3882792742142112e-05)\n",
      "(77, 5.7243562047260886e-05)\n",
      "(78, 8.333644503324072e-06)\n",
      "(79, 2.37605173987283e-05)\n",
      "(80, 4.475177271152961e-06)\n",
      "(81, 1.5027085926317822e-05)\n",
      "(82, 6.373172616125137e-05)\n",
      "(83, 1.7662556074202213e-05)\n",
      "(84, 3.117684063733345e-05)\n",
      "(85, 3.621915223218143e-05)\n",
      "(86, 8.63819346718326e-06)\n",
      "(87, 1.1345586824209968e-05)\n",
      "(88, 6.554776160759873e-06)\n",
      "(89, 2.8526849877648638e-05)\n",
      "(90, 0.00017278298280029773)\n",
      "(91, 7.955167108402335e-05)\n",
      "(92, 9.220952188322205e-05)\n",
      "(93, 5.773977877194369e-05)\n",
      "(94, 0.00041459249616923816)\n",
      "(95, 0.00018104386586569355)\n",
      "(96, 6.688811774300995e-05)\n",
      "(97, 9.095974577818544e-05)\n",
      "(98, 1.0896094310875424e-05)\n",
      "(99, 0.00011226163208365018)\n",
      "(100, 3.1463926163097935e-05)\n",
      "(101, 0.0001914988054903381)\n",
      "(102, 0.0)\n",
      "(103, 1.629336486294717e-05)\n",
      "(104, 6.161554584578109e-05)\n",
      "(105, 0.0006478400345364622)\n",
      "(106, 0.00023484666334969007)\n",
      "(107, 9.087588347986876e-05)\n",
      "(108, 1.8149937177686078e-06)\n",
      "(109, 0.000259866687018086)\n",
      "(110, 1.793791647461866e-05)\n",
      "(111, 0.00031067079408859315)\n",
      "(112, 0.0001397393566859541)\n",
      "(113, 0.00041886308675748987)\n",
      "(114, 0.0003420453957106922)\n",
      "(115, 0.0006820774611649813)\n",
      "(116, 0.0005463678979874937)\n",
      "(117, 0.0004825341513343371)\n",
      "(118, 0.0006875897364618804)\n",
      "(119, 7.867676096793843e-05)\n",
      "(120, 1.6413603125301672e-05)\n",
      "(121, 0.0012387846845029337)\n",
      "(122, 0.00014476751521680514)\n",
      "(123, 2.3139173083296532e-05)\n",
      "(124, 9.89212984048325e-05)\n",
      "(125, 8.960383080173112e-05)\n",
      "(126, 0.00024648880895147227)\n",
      "(127, 4.726491749320347e-05)\n",
      "(128, 3.851692088337102e-06)\n",
      "(129, 4.2251967484010894e-05)\n",
      "(130, 0.018226268989931467)\n",
      "(131, 0.00013875095758345978)\n",
      "(132, 0.0008222049524535483)\n",
      "(133, 0.00024982669507395003)\n",
      "(134, 4.1604417181649926e-05)\n",
      "(135, 0.0001241805775010186)\n",
      "(136, 0.0003371728568969186)\n",
      "(137, 9.873196129624092e-05)\n",
      "(138, 6.662685539151699e-05)\n",
      "(139, 0.0015355253437374166)\n",
      "(140, 8.780494381275933e-05)\n",
      "(141, 5.945603720726144e-06)\n",
      "(142, 0.0004685074223281084)\n",
      "(143, 0.0002753078778327115)\n",
      "(144, 0.000311930806467924)\n",
      "(145, 0.00040766138306797277)\n",
      "(146, 0.0001436442787944242)\n",
      "(147, 0.0004415828163808112)\n",
      "(148, 6.317557200957494e-05)\n",
      "(149, 3.751426705811252e-05)\n",
      "(150, 1.3412324371842349e-05)\n",
      "(151, 0.00017137926536438676)\n",
      "(152, 0.0007676016412313131)\n",
      "(153, 0.0006458095508544395)\n",
      "(154, 0.001983578731730655)\n",
      "(155, 0.00010899085539823304)\n",
      "(156, 0.0006155439008119416)\n",
      "(157, 0.00031006289526683956)\n",
      "(158, 0.000465653540798281)\n",
      "(159, 0.000745378223882295)\n",
      "(160, 0.0006431890688701592)\n",
      "(161, 0.000975322460786599)\n",
      "(162, 0.0003221796712183205)\n",
      "(163, 0.001960868979330617)\n",
      "(164, 0.0035556491195399757)\n",
      "(165, 0.001808825881172758)\n",
      "(166, 0.0008203587095345373)\n",
      "(167, 0.0027277834663069645)\n",
      "(168, 0.0013952385196421397)\n",
      "(169, 0.006662501646240895)\n",
      "(170, 0.00023997303804243461)\n",
      "(171, 0.001279004860797141)\n",
      "(172, 0.007583246568217464)\n",
      "(173, 0.0044837992647528135)\n",
      "(174, 0.0029674081941246213)\n",
      "(175, 0.001109190176937258)\n",
      "(176, 0.0085907753882603)\n",
      "(177, 0.012346749445255756)\n",
      "(178, 0.014015142786522477)\n",
      "(179, 0.01837504680537821)\n",
      "(180, 0.061670608168388104)\n"
     ]
    }
   ],
   "source": [
    "# Print the gini importance of each feature\n",
    "for feature in zip(range(n_features), rf.feature_importances_):\n",
    "    print(feature)"
   ]
  },
  {
   "cell_type": "markdown",
   "metadata": {},
   "source": [
    "Let's plot the scores to visualize the scores."
   ]
  },
  {
   "cell_type": "code",
   "execution_count": 28,
   "metadata": {},
   "outputs": [
    {
     "data": {
      "image/png": "[encoded data removed]",
      "text/plain": [
       "<Figure size 432x288 with 1 Axes>"
      ]
     },
     "metadata": {},
     "output_type": "display_data"
    }
   ],
   "source": [
    "# Box plot\n",
    "sns.set_theme(style=\"whitegrid\")\n",
    "tips = sns.load_dataset(\"tips\")\n",
    "ax = sns.boxplot(x=rf.feature_importances_)\n",
    "plt.savefig(r'Graphs\\box_plot.png', bbox_inches='tight');"
   ]
  },
  {
   "cell_type": "markdown",
   "metadata": {},
   "source": [
    "Majority of the predictors seem to have feature importance of less than 0.01."
   ]
  },
  {
   "cell_type": "code",
   "execution_count": 29,
   "metadata": {},
   "outputs": [
    {
     "data": {
      "text/plain": [
       "0.14069995496073995"
      ]
     },
     "execution_count": 29,
     "metadata": {},
     "output_type": "execute_result"
    }
   ],
   "source": [
    "rf.feature_importances_.max()"
   ]
  },
  {
   "cell_type": "code",
   "execution_count": 30,
   "metadata": {},
   "outputs": [
    {
     "data": {
      "text/plain": [
       "0.0"
      ]
     },
     "execution_count": 30,
     "metadata": {},
     "output_type": "execute_result"
    }
   ],
   "source": [
    "rf.feature_importances_.min()"
   ]
  },
  {
   "cell_type": "markdown",
   "metadata": {},
   "source": [
    "Let's plot this on a normal distribution to see if we can extract more information."
   ]
  },
  {
   "cell_type": "code",
   "execution_count": 31,
   "metadata": {},
   "outputs": [
    {
     "data": {
      "image/png": "[encoded data removed]",
      "text/plain": [
       "<Figure size 432x288 with 1 Axes>"
      ]
     },
     "metadata": {},
     "output_type": "display_data"
    }
   ],
   "source": [
    "# Check the normal distribution of feature scores\n",
    "from scipy.stats import norm\n",
    "import statistics\n",
    "  \n",
    "# Plot between -0.05 and 0.2 with .001 steps.\n",
    "x_axis = np.arange(-0.05,0.2,.001)\n",
    "  \n",
    "# Calculate mean and standard deviation\n",
    "mean = statistics.mean(rf.feature_importances_)\n",
    "sd = statistics.stdev(rf.feature_importances_)\n",
    "  \n",
    "plt.plot(x_axis, norm.pdf(x_axis, mean, sd))\n",
    "plt.title('Feature Importance Normal Distribution')\n",
    "plt.ylabel('No. of Features')\n",
    "plt.xlabel('Feature Importance')\n",
    "plt.savefig(r'Graphs\\norm_dist.png', bbox_inches='tight')\n",
    "plt.show();"
   ]
  },
  {
   "cell_type": "markdown",
   "metadata": {},
   "source": [
    "Here again, you can see that most of the features are centered between 0.00 and 0.025. The number of features fall sharply as the feature importance increases."
   ]
  },
  {
   "cell_type": "markdown",
   "metadata": {},
   "source": [
    "We will use a threshold of 0.01 to try and capture most of the predictors. "
   ]
  },
  {
   "cell_type": "code",
   "execution_count": 32,
   "metadata": {},
   "outputs": [
    {
     "data": {
      "text/plain": [
       "22"
      ]
     },
     "execution_count": 32,
     "metadata": {},
     "output_type": "execute_result"
    }
   ],
   "source": [
    "thresh_1 = [x for x in rf.feature_importances_ if x > 0.01]\n",
    "len(thresh_1)"
   ]
  },
  {
   "cell_type": "markdown",
   "metadata": {},
   "source": [
    "Using a threshold of 0.01, we have 22 predictors to use in our model."
   ]
  },
  {
   "cell_type": "markdown",
   "metadata": {},
   "source": [
    "We will use the SelectFromModel to apply the 0.01 threshold and run the model. "
   ]
  },
  {
   "cell_type": "code",
   "execution_count": 33,
   "metadata": {},
   "outputs": [
    {
     "data": {
      "text/plain": [
       "SelectFromModel(estimator=RandomForestClassifier(max_depth=5), threshold=0.01)"
      ]
     },
     "execution_count": 33,
     "metadata": {},
     "output_type": "execute_result"
    }
   ],
   "source": [
    "# Instantiate and fit the model\n",
    "sfm = SelectFromModel(rf, threshold=0.01)\n",
    "\n",
    "sfm.fit(X_train_transformed, y_train)"
   ]
  },
  {
   "cell_type": "code",
   "execution_count": 34,
   "metadata": {},
   "outputs": [],
   "source": [
    "# Transform the data to create a new dataset containing only the most important features\n",
    "X_best_train = sfm.transform(X_train_transformed)\n",
    "X_best_test = sfm.transform(X_test_transformed)"
   ]
  },
  {
   "cell_type": "code",
   "execution_count": 35,
   "metadata": {},
   "outputs": [
    {
     "data": {
      "text/plain": [
       "RandomForestClassifier(max_depth=5)"
      ]
     },
     "execution_count": 35,
     "metadata": {},
     "output_type": "execute_result"
    }
   ],
   "source": [
    "# Instantiate and fit the model\n",
    "rf_best = RandomForestClassifier(n_estimators=100, max_depth= 5)\n",
    "rf_best.fit(X_best_train, y_train)"
   ]
  },
  {
   "cell_type": "code",
   "execution_count": 36,
   "metadata": {},
   "outputs": [
    {
     "name": "stdout",
     "output_type": "stream",
     "text": [
      "Train accuracy is :67.69259578557597\n",
      "Test accuracy is :67.69361407442827\n",
      "\n",
      "AUC is :0.64\n",
      "\n",
      "Confusion Matrix\n",
      "-----------------\n",
      "Predicted      0      1     All\n",
      "True                           \n",
      "0          19499  31998   51497\n",
      "1           7189  62612   69801\n",
      "All        26688  94610  121298\n",
      "\n",
      "Classification Report\n",
      "----------------------\n",
      "              precision    recall  f1-score   support\n",
      "\n",
      "           0       0.73      0.38      0.50     51497\n",
      "           1       0.66      0.90      0.76     69801\n",
      "\n",
      "    accuracy                           0.68    121298\n",
      "   macro avg       0.70      0.64      0.63    121298\n",
      "weighted avg       0.69      0.68      0.65    121298\n",
      "\n"
     ]
    }
   ],
   "source": [
    "# Make predictions on train and test data\n",
    "y_pred_train_rfb = rf_best.predict(X_best_train)\n",
    "y_pred_test_rfb = rf_best.predict(X_best_test)\n",
    "    \n",
    "# Calculate accuracy \n",
    "train_acc_rfb = accuracy_score(y_train,y_pred_train_rfb) * 100\n",
    "test_acc_rfb = accuracy_score(y_test, y_pred_test_rfb) * 100\n",
    "print('Train accuracy is :{0}'.format(train_acc_rfb))\n",
    "print('Test accuracy is :{0}'.format(test_acc_rfb))\n",
    "    \n",
    "# Check the AUC for predictions\n",
    "roc_auc_rfb = roc_auc_score(y_test, y_pred_test_rfb)\n",
    "print('\\nAUC is :{0}'.format(round(roc_auc_rfb, 2)))\n",
    "    \n",
    "# Create and print a confusion matrix \n",
    "print('\\nConfusion Matrix')\n",
    "print('-----------------')\n",
    "print(pd.crosstab(y_test, y_pred_test_rfb, rownames=['True'], colnames=['Predicted'], margins=True))\n",
    "\n",
    "# Classification report\n",
    "print('\\nClassification Report')\n",
    "print('----------------------')\n",
    "print(classification_report(y_test, y_pred_test_rfb))"
   ]
  },
  {
   "cell_type": "markdown",
   "metadata": {},
   "source": [
    "Here, you can see a great fit with almost identical train and test accuracy scores. The AUC is also 0.64, which means that we are able to predict the target variables with similar success rate but with less features. The run time for the model has also decreased considerably. We will use these selected features going forward."
   ]
  },
  {
   "cell_type": "markdown",
   "metadata": {},
   "source": [
    "We will update our pred_score function to include the selected features train and test data."
   ]
  },
  {
   "cell_type": "code",
   "execution_count": 37,
   "metadata": {},
   "outputs": [],
   "source": [
    "# Define function for X_best datasets\n",
    "\n",
    "def pred_score_best(clf):    \n",
    "    # Make predictions on train and test data\n",
    "    y_pred_train = clf.predict(X_best_train)\n",
    "    y_pred_test = clf.predict(X_best_test)\n",
    "    \n",
    "    # Calculate accuracy \n",
    "    train_acc = accuracy_score(y_train,y_pred_train) * 100\n",
    "    test_acc = accuracy_score(y_test, y_pred_test) * 100\n",
    "    print('Train accuracy is :{0}'.format(train_acc))\n",
    "    print('Test accuracy is :{0}'.format(test_acc))\n",
    "    \n",
    "    # Check the AUC for predictions\n",
    "    roc_auc = roc_auc_score(y_test, y_pred_test)\n",
    "    print('\\nAUC is :{0}'.format(round(roc_auc, 2)))\n",
    "    \n",
    "    # Create and print a confusion matrix \n",
    "    print('\\nConfusion Matrix')\n",
    "    print('-----------------')\n",
    "    print(pd.crosstab(y_test, y_pred_test, rownames=['True'], colnames=['Predicted'], margins=True))\n",
    "\n",
    "    # Classification report\n",
    "    print('\\nClassification Report')\n",
    "    print('----------------------')\n",
    "    print(classification_report(y_test, y_pred_test))\n"
   ]
  },
  {
   "cell_type": "markdown",
   "metadata": {},
   "source": [
    "### Model 3: XG Boost"
   ]
  },
  {
   "cell_type": "code",
   "execution_count": 38,
   "metadata": {},
   "outputs": [
    {
     "name": "stdout",
     "output_type": "stream",
     "text": [
      "[00:01:46] WARNING: C:/Users/Administrator/workspace/xgboost-win64_release_1.4.0/src/learner.cc:1095: Starting in XGBoost 1.3.0, the default evaluation metric used with the objective 'binary:logistic' was changed from 'error' to 'logloss'. Explicitly set eval_metric if you'd like to restore the old behavior.\n"
     ]
    },
    {
     "data": {
      "text/plain": [
       "XGBClassifier(base_score=0.5, booster='gbtree', colsample_bylevel=1,\n",
       "              colsample_bynode=1, colsample_bytree=1, gamma=0, gpu_id=-1,\n",
       "              importance_type='gain', interaction_constraints='',\n",
       "              learning_rate=0.300000012, max_delta_step=0, max_depth=6,\n",
       "              min_child_weight=1, missing=nan, monotone_constraints='()',\n",
       "              n_estimators=100, n_jobs=8, num_parallel_tree=1, random_state=0,\n",
       "              reg_alpha=0, reg_lambda=1, scale_pos_weight=1, subsample=1,\n",
       "              tree_method='exact', validate_parameters=1, verbosity=None)"
      ]
     },
     "execution_count": 38,
     "metadata": {},
     "output_type": "execute_result"
    }
   ],
   "source": [
    "# Instantiate and fit the model\n",
    "xg = xgb.XGBClassifier()\n",
    "xg.fit(X_best_train, y_train)"
   ]
  },
  {
   "cell_type": "code",
   "execution_count": 39,
   "metadata": {},
   "outputs": [
    {
     "name": "stdout",
     "output_type": "stream",
     "text": [
      "Train accuracy is :72.50731376400921\n",
      "Test accuracy is :70.30618806575542\n",
      "\n",
      "AUC is :0.68\n",
      "\n",
      "Confusion Matrix\n",
      "-----------------\n",
      "Predicted      0      1     All\n",
      "True                           \n",
      "0          27740  23757   51497\n",
      "1          12261  57540   69801\n",
      "All        40001  81297  121298\n",
      "\n",
      "Classification Report\n",
      "----------------------\n",
      "              precision    recall  f1-score   support\n",
      "\n",
      "           0       0.69      0.54      0.61     51497\n",
      "           1       0.71      0.82      0.76     69801\n",
      "\n",
      "    accuracy                           0.70    121298\n",
      "   macro avg       0.70      0.68      0.68    121298\n",
      "weighted avg       0.70      0.70      0.70    121298\n",
      "\n"
     ]
    }
   ],
   "source": [
    "pred_score_best(xg)"
   ]
  },
  {
   "cell_type": "markdown",
   "metadata": {},
   "source": [
    "The accuracy scores are up to 72% and 70% for train vs test. The model seems to be a good fit. The AUC has also increased to 0.68. This has been our best scores so far. We will use this model and tune for better performance."
   ]
  },
  {
   "cell_type": "markdown",
   "metadata": {},
   "source": [
    "### Tuning XGBoost with GridSearchCV"
   ]
  },
  {
   "cell_type": "markdown",
   "metadata": {},
   "source": [
    "We can use GridSearchCV to run the model with different iterations and come up with the parameters that gives us the best results."
   ]
  },
  {
   "cell_type": "markdown",
   "metadata": {},
   "source": [
    "First we will create a grid for the algorithm to loop through."
   ]
  },
  {
   "cell_type": "code",
   "execution_count": 40,
   "metadata": {},
   "outputs": [],
   "source": [
    "param_grid = {\n",
    "    \"learning_rate\": [0.1],\n",
    "    'max_depth': [6,12],\n",
    "    'min_child_weight': [5,10],\n",
    "    'subsample': [0.7,1.4],\n",
    "    'n_estimators': [5, 30, 100, 250],\n",
    "}"
   ]
  },
  {
   "cell_type": "code",
   "execution_count": 41,
   "metadata": {},
   "outputs": [
    {
     "name": "stdout",
     "output_type": "stream",
     "text": [
      "[00:02:21] WARNING: C:/Users/Administrator/workspace/xgboost-win64_release_1.4.0/src/learner.cc:1095: Starting in XGBoost 1.3.0, the default evaluation metric used with the objective 'binary:logistic' was changed from 'error' to 'logloss'. Explicitly set eval_metric if you'd like to restore the old behavior.\n",
      "[00:02:22] WARNING: C:/Users/Administrator/workspace/xgboost-win64_release_1.4.0/src/learner.cc:1095: Starting in XGBoost 1.3.0, the default evaluation metric used with the objective 'binary:logistic' was changed from 'error' to 'logloss'. Explicitly set eval_metric if you'd like to restore the old behavior.\n",
      "[00:02:24] WARNING: C:/Users/Administrator/workspace/xgboost-win64_release_1.4.0/src/learner.cc:1095: Starting in XGBoost 1.3.0, the default evaluation metric used with the objective 'binary:logistic' was changed from 'error' to 'logloss'. Explicitly set eval_metric if you'd like to restore the old behavior.\n",
      "[00:02:25] WARNING: C:/Users/Administrator/workspace/xgboost-win64_release_1.4.0/src/learner.cc:1095: Starting in XGBoost 1.3.0, the default evaluation metric used with the objective 'binary:logistic' was changed from 'error' to 'logloss'. Explicitly set eval_metric if you'd like to restore the old behavior.\n",
      "[00:02:27] WARNING: C:/Users/Administrator/workspace/xgboost-win64_release_1.4.0/src/learner.cc:1095: Starting in XGBoost 1.3.0, the default evaluation metric used with the objective 'binary:logistic' was changed from 'error' to 'logloss'. Explicitly set eval_metric if you'd like to restore the old behavior.\n",
      "[00:02:29] WARNING: C:/Users/Administrator/workspace/xgboost-win64_release_1.4.0/src/learner.cc:1095: Starting in XGBoost 1.3.0, the default evaluation metric used with the objective 'binary:logistic' was changed from 'error' to 'logloss'. Explicitly set eval_metric if you'd like to restore the old behavior.\n",
      "[00:02:37] WARNING: C:/Users/Administrator/workspace/xgboost-win64_release_1.4.0/src/learner.cc:1095: Starting in XGBoost 1.3.0, the default evaluation metric used with the objective 'binary:logistic' was changed from 'error' to 'logloss'. Explicitly set eval_metric if you'd like to restore the old behavior.\n",
      "[00:02:46] WARNING: C:/Users/Administrator/workspace/xgboost-win64_release_1.4.0/src/learner.cc:1095: Starting in XGBoost 1.3.0, the default evaluation metric used with the objective 'binary:logistic' was changed from 'error' to 'logloss'. Explicitly set eval_metric if you'd like to restore the old behavior.\n",
      "[00:02:54] WARNING: C:/Users/Administrator/workspace/xgboost-win64_release_1.4.0/src/learner.cc:1095: Starting in XGBoost 1.3.0, the default evaluation metric used with the objective 'binary:logistic' was changed from 'error' to 'logloss'. Explicitly set eval_metric if you'd like to restore the old behavior.\n",
      "[00:03:02] WARNING: C:/Users/Administrator/workspace/xgboost-win64_release_1.4.0/src/learner.cc:1095: Starting in XGBoost 1.3.0, the default evaluation metric used with the objective 'binary:logistic' was changed from 'error' to 'logloss'. Explicitly set eval_metric if you'd like to restore the old behavior.\n",
      "[00:03:11] WARNING: C:/Users/Administrator/workspace/xgboost-win64_release_1.4.0/src/learner.cc:1095: Starting in XGBoost 1.3.0, the default evaluation metric used with the objective 'binary:logistic' was changed from 'error' to 'logloss'. Explicitly set eval_metric if you'd like to restore the old behavior.\n",
      "[00:03:36] WARNING: C:/Users/Administrator/workspace/xgboost-win64_release_1.4.0/src/learner.cc:1095: Starting in XGBoost 1.3.0, the default evaluation metric used with the objective 'binary:logistic' was changed from 'error' to 'logloss'. Explicitly set eval_metric if you'd like to restore the old behavior.\n",
      "[00:04:02] WARNING: C:/Users/Administrator/workspace/xgboost-win64_release_1.4.0/src/learner.cc:1095: Starting in XGBoost 1.3.0, the default evaluation metric used with the objective 'binary:logistic' was changed from 'error' to 'logloss'. Explicitly set eval_metric if you'd like to restore the old behavior.\n",
      "[00:04:28] WARNING: C:/Users/Administrator/workspace/xgboost-win64_release_1.4.0/src/learner.cc:1095: Starting in XGBoost 1.3.0, the default evaluation metric used with the objective 'binary:logistic' was changed from 'error' to 'logloss'. Explicitly set eval_metric if you'd like to restore the old behavior.\n",
      "[00:04:54] WARNING: C:/Users/Administrator/workspace/xgboost-win64_release_1.4.0/src/learner.cc:1095: Starting in XGBoost 1.3.0, the default evaluation metric used with the objective 'binary:logistic' was changed from 'error' to 'logloss'. Explicitly set eval_metric if you'd like to restore the old behavior.\n",
      "[00:05:20] WARNING: C:/Users/Administrator/workspace/xgboost-win64_release_1.4.0/src/learner.cc:1095: Starting in XGBoost 1.3.0, the default evaluation metric used with the objective 'binary:logistic' was changed from 'error' to 'logloss'. Explicitly set eval_metric if you'd like to restore the old behavior.\n",
      "[00:06:24] WARNING: C:/Users/Administrator/workspace/xgboost-win64_release_1.4.0/src/learner.cc:1095: Starting in XGBoost 1.3.0, the default evaluation metric used with the objective 'binary:logistic' was changed from 'error' to 'logloss'. Explicitly set eval_metric if you'd like to restore the old behavior.\n",
      "[00:07:27] WARNING: C:/Users/Administrator/workspace/xgboost-win64_release_1.4.0/src/learner.cc:1095: Starting in XGBoost 1.3.0, the default evaluation metric used with the objective 'binary:logistic' was changed from 'error' to 'logloss'. Explicitly set eval_metric if you'd like to restore the old behavior.\n",
      "[00:08:31] WARNING: C:/Users/Administrator/workspace/xgboost-win64_release_1.4.0/src/learner.cc:1095: Starting in XGBoost 1.3.0, the default evaluation metric used with the objective 'binary:logistic' was changed from 'error' to 'logloss'. Explicitly set eval_metric if you'd like to restore the old behavior.\n",
      "[00:09:35] WARNING: C:/Users/Administrator/workspace/xgboost-win64_release_1.4.0/src/learner.cc:1095: Starting in XGBoost 1.3.0, the default evaluation metric used with the objective 'binary:logistic' was changed from 'error' to 'logloss'. Explicitly set eval_metric if you'd like to restore the old behavior.\n",
      "[00:10:40] WARNING: C:/Users/Administrator/workspace/xgboost-win64_release_1.4.0/src/learner.cc:1095: Starting in XGBoost 1.3.0, the default evaluation metric used with the objective 'binary:logistic' was changed from 'error' to 'logloss'. Explicitly set eval_metric if you'd like to restore the old behavior.\n",
      "[00:10:42] WARNING: C:/Users/Administrator/workspace/xgboost-win64_release_1.4.0/src/learner.cc:1095: Starting in XGBoost 1.3.0, the default evaluation metric used with the objective 'binary:logistic' was changed from 'error' to 'logloss'. Explicitly set eval_metric if you'd like to restore the old behavior.\n",
      "[00:10:43] WARNING: C:/Users/Administrator/workspace/xgboost-win64_release_1.4.0/src/learner.cc:1095: Starting in XGBoost 1.3.0, the default evaluation metric used with the objective 'binary:logistic' was changed from 'error' to 'logloss'. Explicitly set eval_metric if you'd like to restore the old behavior.\n",
      "[00:10:45] WARNING: C:/Users/Administrator/workspace/xgboost-win64_release_1.4.0/src/learner.cc:1095: Starting in XGBoost 1.3.0, the default evaluation metric used with the objective 'binary:logistic' was changed from 'error' to 'logloss'. Explicitly set eval_metric if you'd like to restore the old behavior.\n",
      "[00:10:47] WARNING: C:/Users/Administrator/workspace/xgboost-win64_release_1.4.0/src/learner.cc:1095: Starting in XGBoost 1.3.0, the default evaluation metric used with the objective 'binary:logistic' was changed from 'error' to 'logloss'. Explicitly set eval_metric if you'd like to restore the old behavior.\n",
      "[00:10:49] WARNING: C:/Users/Administrator/workspace/xgboost-win64_release_1.4.0/src/learner.cc:1095: Starting in XGBoost 1.3.0, the default evaluation metric used with the objective 'binary:logistic' was changed from 'error' to 'logloss'. Explicitly set eval_metric if you'd like to restore the old behavior.\n",
      "[00:10:57] WARNING: C:/Users/Administrator/workspace/xgboost-win64_release_1.4.0/src/learner.cc:1095: Starting in XGBoost 1.3.0, the default evaluation metric used with the objective 'binary:logistic' was changed from 'error' to 'logloss'. Explicitly set eval_metric if you'd like to restore the old behavior.\n"
     ]
    },
    {
     "name": "stdout",
     "output_type": "stream",
     "text": [
      "[00:11:05] WARNING: C:/Users/Administrator/workspace/xgboost-win64_release_1.4.0/src/learner.cc:1095: Starting in XGBoost 1.3.0, the default evaluation metric used with the objective 'binary:logistic' was changed from 'error' to 'logloss'. Explicitly set eval_metric if you'd like to restore the old behavior.\n",
      "[00:11:13] WARNING: C:/Users/Administrator/workspace/xgboost-win64_release_1.4.0/src/learner.cc:1095: Starting in XGBoost 1.3.0, the default evaluation metric used with the objective 'binary:logistic' was changed from 'error' to 'logloss'. Explicitly set eval_metric if you'd like to restore the old behavior.\n",
      "[00:11:21] WARNING: C:/Users/Administrator/workspace/xgboost-win64_release_1.4.0/src/learner.cc:1095: Starting in XGBoost 1.3.0, the default evaluation metric used with the objective 'binary:logistic' was changed from 'error' to 'logloss'. Explicitly set eval_metric if you'd like to restore the old behavior.\n",
      "[00:11:30] WARNING: C:/Users/Administrator/workspace/xgboost-win64_release_1.4.0/src/learner.cc:1095: Starting in XGBoost 1.3.0, the default evaluation metric used with the objective 'binary:logistic' was changed from 'error' to 'logloss'. Explicitly set eval_metric if you'd like to restore the old behavior.\n",
      "[00:11:56] WARNING: C:/Users/Administrator/workspace/xgboost-win64_release_1.4.0/src/learner.cc:1095: Starting in XGBoost 1.3.0, the default evaluation metric used with the objective 'binary:logistic' was changed from 'error' to 'logloss'. Explicitly set eval_metric if you'd like to restore the old behavior.\n",
      "[00:12:22] WARNING: C:/Users/Administrator/workspace/xgboost-win64_release_1.4.0/src/learner.cc:1095: Starting in XGBoost 1.3.0, the default evaluation metric used with the objective 'binary:logistic' was changed from 'error' to 'logloss'. Explicitly set eval_metric if you'd like to restore the old behavior.\n",
      "[00:12:47] WARNING: C:/Users/Administrator/workspace/xgboost-win64_release_1.4.0/src/learner.cc:1095: Starting in XGBoost 1.3.0, the default evaluation metric used with the objective 'binary:logistic' was changed from 'error' to 'logloss'. Explicitly set eval_metric if you'd like to restore the old behavior.\n",
      "[00:13:13] WARNING: C:/Users/Administrator/workspace/xgboost-win64_release_1.4.0/src/learner.cc:1095: Starting in XGBoost 1.3.0, the default evaluation metric used with the objective 'binary:logistic' was changed from 'error' to 'logloss'. Explicitly set eval_metric if you'd like to restore the old behavior.\n",
      "[00:13:40] WARNING: C:/Users/Administrator/workspace/xgboost-win64_release_1.4.0/src/learner.cc:1095: Starting in XGBoost 1.3.0, the default evaluation metric used with the objective 'binary:logistic' was changed from 'error' to 'logloss'. Explicitly set eval_metric if you'd like to restore the old behavior.\n",
      "[00:14:43] WARNING: C:/Users/Administrator/workspace/xgboost-win64_release_1.4.0/src/learner.cc:1095: Starting in XGBoost 1.3.0, the default evaluation metric used with the objective 'binary:logistic' was changed from 'error' to 'logloss'. Explicitly set eval_metric if you'd like to restore the old behavior.\n",
      "[00:15:46] WARNING: C:/Users/Administrator/workspace/xgboost-win64_release_1.4.0/src/learner.cc:1095: Starting in XGBoost 1.3.0, the default evaluation metric used with the objective 'binary:logistic' was changed from 'error' to 'logloss'. Explicitly set eval_metric if you'd like to restore the old behavior.\n",
      "[00:16:49] WARNING: C:/Users/Administrator/workspace/xgboost-win64_release_1.4.0/src/learner.cc:1095: Starting in XGBoost 1.3.0, the default evaluation metric used with the objective 'binary:logistic' was changed from 'error' to 'logloss'. Explicitly set eval_metric if you'd like to restore the old behavior.\n",
      "[00:17:52] WARNING: C:/Users/Administrator/workspace/xgboost-win64_release_1.4.0/src/learner.cc:1095: Starting in XGBoost 1.3.0, the default evaluation metric used with the objective 'binary:logistic' was changed from 'error' to 'logloss'. Explicitly set eval_metric if you'd like to restore the old behavior.\n",
      "[00:18:56] WARNING: C:/Users/Administrator/workspace/xgboost-win64_release_1.4.0/src/learner.cc:1095: Starting in XGBoost 1.3.0, the default evaluation metric used with the objective 'binary:logistic' was changed from 'error' to 'logloss'. Explicitly set eval_metric if you'd like to restore the old behavior.\n",
      "[00:18:59] WARNING: C:/Users/Administrator/workspace/xgboost-win64_release_1.4.0/src/learner.cc:1095: Starting in XGBoost 1.3.0, the default evaluation metric used with the objective 'binary:logistic' was changed from 'error' to 'logloss'. Explicitly set eval_metric if you'd like to restore the old behavior.\n",
      "[00:19:02] WARNING: C:/Users/Administrator/workspace/xgboost-win64_release_1.4.0/src/learner.cc:1095: Starting in XGBoost 1.3.0, the default evaluation metric used with the objective 'binary:logistic' was changed from 'error' to 'logloss'. Explicitly set eval_metric if you'd like to restore the old behavior.\n",
      "[00:19:05] WARNING: C:/Users/Administrator/workspace/xgboost-win64_release_1.4.0/src/learner.cc:1095: Starting in XGBoost 1.3.0, the default evaluation metric used with the objective 'binary:logistic' was changed from 'error' to 'logloss'. Explicitly set eval_metric if you'd like to restore the old behavior.\n",
      "[00:19:08] WARNING: C:/Users/Administrator/workspace/xgboost-win64_release_1.4.0/src/learner.cc:1095: Starting in XGBoost 1.3.0, the default evaluation metric used with the objective 'binary:logistic' was changed from 'error' to 'logloss'. Explicitly set eval_metric if you'd like to restore the old behavior.\n",
      "[00:19:12] WARNING: C:/Users/Administrator/workspace/xgboost-win64_release_1.4.0/src/learner.cc:1095: Starting in XGBoost 1.3.0, the default evaluation metric used with the objective 'binary:logistic' was changed from 'error' to 'logloss'. Explicitly set eval_metric if you'd like to restore the old behavior.\n",
      "[00:19:28] WARNING: C:/Users/Administrator/workspace/xgboost-win64_release_1.4.0/src/learner.cc:1095: Starting in XGBoost 1.3.0, the default evaluation metric used with the objective 'binary:logistic' was changed from 'error' to 'logloss'. Explicitly set eval_metric if you'd like to restore the old behavior.\n",
      "[00:19:45] WARNING: C:/Users/Administrator/workspace/xgboost-win64_release_1.4.0/src/learner.cc:1095: Starting in XGBoost 1.3.0, the default evaluation metric used with the objective 'binary:logistic' was changed from 'error' to 'logloss'. Explicitly set eval_metric if you'd like to restore the old behavior.\n",
      "[00:20:01] WARNING: C:/Users/Administrator/workspace/xgboost-win64_release_1.4.0/src/learner.cc:1095: Starting in XGBoost 1.3.0, the default evaluation metric used with the objective 'binary:logistic' was changed from 'error' to 'logloss'. Explicitly set eval_metric if you'd like to restore the old behavior.\n",
      "[00:20:18] WARNING: C:/Users/Administrator/workspace/xgboost-win64_release_1.4.0/src/learner.cc:1095: Starting in XGBoost 1.3.0, the default evaluation metric used with the objective 'binary:logistic' was changed from 'error' to 'logloss'. Explicitly set eval_metric if you'd like to restore the old behavior.\n",
      "[00:20:35] WARNING: C:/Users/Administrator/workspace/xgboost-win64_release_1.4.0/src/learner.cc:1095: Starting in XGBoost 1.3.0, the default evaluation metric used with the objective 'binary:logistic' was changed from 'error' to 'logloss'. Explicitly set eval_metric if you'd like to restore the old behavior.\n",
      "[00:21:27] WARNING: C:/Users/Administrator/workspace/xgboost-win64_release_1.4.0/src/learner.cc:1095: Starting in XGBoost 1.3.0, the default evaluation metric used with the objective 'binary:logistic' was changed from 'error' to 'logloss'. Explicitly set eval_metric if you'd like to restore the old behavior.\n",
      "[00:22:19] WARNING: C:/Users/Administrator/workspace/xgboost-win64_release_1.4.0/src/learner.cc:1095: Starting in XGBoost 1.3.0, the default evaluation metric used with the objective 'binary:logistic' was changed from 'error' to 'logloss'. Explicitly set eval_metric if you'd like to restore the old behavior.\n",
      "[00:23:11] WARNING: C:/Users/Administrator/workspace/xgboost-win64_release_1.4.0/src/learner.cc:1095: Starting in XGBoost 1.3.0, the default evaluation metric used with the objective 'binary:logistic' was changed from 'error' to 'logloss'. Explicitly set eval_metric if you'd like to restore the old behavior.\n"
     ]
    },
    {
     "name": "stdout",
     "output_type": "stream",
     "text": [
      "[00:24:03] WARNING: C:/Users/Administrator/workspace/xgboost-win64_release_1.4.0/src/learner.cc:1095: Starting in XGBoost 1.3.0, the default evaluation metric used with the objective 'binary:logistic' was changed from 'error' to 'logloss'. Explicitly set eval_metric if you'd like to restore the old behavior.\n",
      "[00:24:55] WARNING: C:/Users/Administrator/workspace/xgboost-win64_release_1.4.0/src/learner.cc:1095: Starting in XGBoost 1.3.0, the default evaluation metric used with the objective 'binary:logistic' was changed from 'error' to 'logloss'. Explicitly set eval_metric if you'd like to restore the old behavior.\n",
      "[00:27:03] WARNING: C:/Users/Administrator/workspace/xgboost-win64_release_1.4.0/src/learner.cc:1095: Starting in XGBoost 1.3.0, the default evaluation metric used with the objective 'binary:logistic' was changed from 'error' to 'logloss'. Explicitly set eval_metric if you'd like to restore the old behavior.\n",
      "[00:29:10] WARNING: C:/Users/Administrator/workspace/xgboost-win64_release_1.4.0/src/learner.cc:1095: Starting in XGBoost 1.3.0, the default evaluation metric used with the objective 'binary:logistic' was changed from 'error' to 'logloss'. Explicitly set eval_metric if you'd like to restore the old behavior.\n",
      "[00:31:23] WARNING: C:/Users/Administrator/workspace/xgboost-win64_release_1.4.0/src/learner.cc:1095: Starting in XGBoost 1.3.0, the default evaluation metric used with the objective 'binary:logistic' was changed from 'error' to 'logloss'. Explicitly set eval_metric if you'd like to restore the old behavior.\n",
      "[00:33:33] WARNING: C:/Users/Administrator/workspace/xgboost-win64_release_1.4.0/src/learner.cc:1095: Starting in XGBoost 1.3.0, the default evaluation metric used with the objective 'binary:logistic' was changed from 'error' to 'logloss'. Explicitly set eval_metric if you'd like to restore the old behavior.\n",
      "[00:35:40] WARNING: C:/Users/Administrator/workspace/xgboost-win64_release_1.4.0/src/learner.cc:1095: Starting in XGBoost 1.3.0, the default evaluation metric used with the objective 'binary:logistic' was changed from 'error' to 'logloss'. Explicitly set eval_metric if you'd like to restore the old behavior.\n",
      "[00:35:43] WARNING: C:/Users/Administrator/workspace/xgboost-win64_release_1.4.0/src/learner.cc:1095: Starting in XGBoost 1.3.0, the default evaluation metric used with the objective 'binary:logistic' was changed from 'error' to 'logloss'. Explicitly set eval_metric if you'd like to restore the old behavior.\n",
      "[00:35:46] WARNING: C:/Users/Administrator/workspace/xgboost-win64_release_1.4.0/src/learner.cc:1095: Starting in XGBoost 1.3.0, the default evaluation metric used with the objective 'binary:logistic' was changed from 'error' to 'logloss'. Explicitly set eval_metric if you'd like to restore the old behavior.\n",
      "[00:35:49] WARNING: C:/Users/Administrator/workspace/xgboost-win64_release_1.4.0/src/learner.cc:1095: Starting in XGBoost 1.3.0, the default evaluation metric used with the objective 'binary:logistic' was changed from 'error' to 'logloss'. Explicitly set eval_metric if you'd like to restore the old behavior.\n",
      "[00:35:52] WARNING: C:/Users/Administrator/workspace/xgboost-win64_release_1.4.0/src/learner.cc:1095: Starting in XGBoost 1.3.0, the default evaluation metric used with the objective 'binary:logistic' was changed from 'error' to 'logloss'. Explicitly set eval_metric if you'd like to restore the old behavior.\n",
      "[00:35:56] WARNING: C:/Users/Administrator/workspace/xgboost-win64_release_1.4.0/src/learner.cc:1095: Starting in XGBoost 1.3.0, the default evaluation metric used with the objective 'binary:logistic' was changed from 'error' to 'logloss'. Explicitly set eval_metric if you'd like to restore the old behavior.\n",
      "[00:36:12] WARNING: C:/Users/Administrator/workspace/xgboost-win64_release_1.4.0/src/learner.cc:1095: Starting in XGBoost 1.3.0, the default evaluation metric used with the objective 'binary:logistic' was changed from 'error' to 'logloss'. Explicitly set eval_metric if you'd like to restore the old behavior.\n",
      "[00:36:28] WARNING: C:/Users/Administrator/workspace/xgboost-win64_release_1.4.0/src/learner.cc:1095: Starting in XGBoost 1.3.0, the default evaluation metric used with the objective 'binary:logistic' was changed from 'error' to 'logloss'. Explicitly set eval_metric if you'd like to restore the old behavior.\n",
      "[00:36:44] WARNING: C:/Users/Administrator/workspace/xgboost-win64_release_1.4.0/src/learner.cc:1095: Starting in XGBoost 1.3.0, the default evaluation metric used with the objective 'binary:logistic' was changed from 'error' to 'logloss'. Explicitly set eval_metric if you'd like to restore the old behavior.\n",
      "[00:37:01] WARNING: C:/Users/Administrator/workspace/xgboost-win64_release_1.4.0/src/learner.cc:1095: Starting in XGBoost 1.3.0, the default evaluation metric used with the objective 'binary:logistic' was changed from 'error' to 'logloss'. Explicitly set eval_metric if you'd like to restore the old behavior.\n",
      "[00:37:17] WARNING: C:/Users/Administrator/workspace/xgboost-win64_release_1.4.0/src/learner.cc:1095: Starting in XGBoost 1.3.0, the default evaluation metric used with the objective 'binary:logistic' was changed from 'error' to 'logloss'. Explicitly set eval_metric if you'd like to restore the old behavior.\n",
      "[00:38:08] WARNING: C:/Users/Administrator/workspace/xgboost-win64_release_1.4.0/src/learner.cc:1095: Starting in XGBoost 1.3.0, the default evaluation metric used with the objective 'binary:logistic' was changed from 'error' to 'logloss'. Explicitly set eval_metric if you'd like to restore the old behavior.\n",
      "[00:38:58] WARNING: C:/Users/Administrator/workspace/xgboost-win64_release_1.4.0/src/learner.cc:1095: Starting in XGBoost 1.3.0, the default evaluation metric used with the objective 'binary:logistic' was changed from 'error' to 'logloss'. Explicitly set eval_metric if you'd like to restore the old behavior.\n",
      "[00:39:49] WARNING: C:/Users/Administrator/workspace/xgboost-win64_release_1.4.0/src/learner.cc:1095: Starting in XGBoost 1.3.0, the default evaluation metric used with the objective 'binary:logistic' was changed from 'error' to 'logloss'. Explicitly set eval_metric if you'd like to restore the old behavior.\n",
      "[00:40:39] WARNING: C:/Users/Administrator/workspace/xgboost-win64_release_1.4.0/src/learner.cc:1095: Starting in XGBoost 1.3.0, the default evaluation metric used with the objective 'binary:logistic' was changed from 'error' to 'logloss'. Explicitly set eval_metric if you'd like to restore the old behavior.\n",
      "[00:41:30] WARNING: C:/Users/Administrator/workspace/xgboost-win64_release_1.4.0/src/learner.cc:1095: Starting in XGBoost 1.3.0, the default evaluation metric used with the objective 'binary:logistic' was changed from 'error' to 'logloss'. Explicitly set eval_metric if you'd like to restore the old behavior.\n",
      "[00:43:33] WARNING: C:/Users/Administrator/workspace/xgboost-win64_release_1.4.0/src/learner.cc:1095: Starting in XGBoost 1.3.0, the default evaluation metric used with the objective 'binary:logistic' was changed from 'error' to 'logloss'. Explicitly set eval_metric if you'd like to restore the old behavior.\n",
      "[00:45:36] WARNING: C:/Users/Administrator/workspace/xgboost-win64_release_1.4.0/src/learner.cc:1095: Starting in XGBoost 1.3.0, the default evaluation metric used with the objective 'binary:logistic' was changed from 'error' to 'logloss'. Explicitly set eval_metric if you'd like to restore the old behavior.\n",
      "[00:47:52] WARNING: C:/Users/Administrator/workspace/xgboost-win64_release_1.4.0/src/learner.cc:1095: Starting in XGBoost 1.3.0, the default evaluation metric used with the objective 'binary:logistic' was changed from 'error' to 'logloss'. Explicitly set eval_metric if you'd like to restore the old behavior.\n",
      "[00:50:15] WARNING: C:/Users/Administrator/workspace/xgboost-win64_release_1.4.0/src/learner.cc:1095: Starting in XGBoost 1.3.0, the default evaluation metric used with the objective 'binary:logistic' was changed from 'error' to 'logloss'. Explicitly set eval_metric if you'd like to restore the old behavior.\n",
      "[00:52:40] WARNING: C:/Users/Administrator/workspace/xgboost-win64_release_1.4.0/src/learner.cc:1095: Starting in XGBoost 1.3.0, the default evaluation metric used with the objective 'binary:logistic' was changed from 'error' to 'logloss'. Explicitly set eval_metric if you'd like to restore the old behavior.\n"
     ]
    },
    {
     "data": {
      "text/plain": [
       "GridSearchCV(estimator=XGBClassifier(base_score=0.5, booster='gbtree',\n",
       "                                     colsample_bylevel=1, colsample_bynode=1,\n",
       "                                     colsample_bytree=1, gamma=0, gpu_id=-1,\n",
       "                                     importance_type='gain',\n",
       "                                     interaction_constraints='',\n",
       "                                     learning_rate=0.300000012,\n",
       "                                     max_delta_step=0, max_depth=6,\n",
       "                                     min_child_weight=1, missing=nan,\n",
       "                                     monotone_constraints='()',\n",
       "                                     n_estimators=100, n_jobs=8,\n",
       "                                     num_parallel_tree=1, random_state=0,\n",
       "                                     reg_alpha=0, reg_lambda=1,\n",
       "                                     scale_pos_weight=1, subsample=1,\n",
       "                                     tree_method='exact', validate_parameters=1,\n",
       "                                     verbosity=None),\n",
       "             n_jobs=1,\n",
       "             param_grid={'learning_rate': [0.1], 'max_depth': [6, 12],\n",
       "                         'min_child_weight': [5, 10],\n",
       "                         'n_estimators': [5, 30, 100, 250],\n",
       "                         'subsample': [0.7, 1.4]},\n",
       "             scoring='accuracy')"
      ]
     },
     "execution_count": 41,
     "metadata": {},
     "output_type": "execute_result"
    }
   ],
   "source": [
    "# Instantiate and fit the model\n",
    "grid_clf = GridSearchCV(xg, param_grid, scoring='accuracy', cv=None, n_jobs=1)\n",
    "grid_clf.fit(X_best_train, y_train)"
   ]
  },
  {
   "cell_type": "code",
   "execution_count": 42,
   "metadata": {},
   "outputs": [
    {
     "name": "stdout",
     "output_type": "stream",
     "text": [
      "Grid Search found the following optimal parameters: \n",
      "learning_rate: 0.1\n",
      "max_depth: 6\n",
      "min_child_weight: 10\n",
      "n_estimators: 250\n",
      "subsample: 0.7\n"
     ]
    }
   ],
   "source": [
    "# Print the best parameters\n",
    "best_parameters = grid_clf.best_params_\n",
    "\n",
    "print(\"Grid Search found the following optimal parameters: \")\n",
    "for param_name in sorted(best_parameters.keys()):\n",
    "    print(\"%s: %r\" % (param_name, best_parameters[param_name]))"
   ]
  },
  {
   "cell_type": "code",
   "execution_count": 43,
   "metadata": {},
   "outputs": [
    {
     "name": "stdout",
     "output_type": "stream",
     "text": [
      "Train accuracy is :72.35291207937024\n",
      "Test accuracy is :70.5493907566489\n",
      "\n",
      "AUC is :0.68\n",
      "\n",
      "Confusion Matrix\n",
      "-----------------\n",
      "Predicted      0      1     All\n",
      "True                           \n",
      "0          27731  23766   51497\n",
      "1          11957  57844   69801\n",
      "All        39688  81610  121298\n",
      "\n",
      "Classification Report\n",
      "----------------------\n",
      "              precision    recall  f1-score   support\n",
      "\n",
      "           0       0.70      0.54      0.61     51497\n",
      "           1       0.71      0.83      0.76     69801\n",
      "\n",
      "    accuracy                           0.71    121298\n",
      "   macro avg       0.70      0.68      0.69    121298\n",
      "weighted avg       0.70      0.71      0.70    121298\n",
      "\n"
     ]
    }
   ],
   "source": [
    "# Calcualte the score\n",
    "pred_score_best(grid_clf)"
   ]
  },
  {
   "cell_type": "markdown",
   "metadata": {},
   "source": [
    "Using the tuned paramenters, the model shows slightly increase in accuracy and AUC scores. The rest of metrics are almost identical to the regular XGBoost model. We might have reached the highest level of precision with this transformed dataset. We will keep this as our final model."
   ]
  },
  {
   "cell_type": "markdown",
   "metadata": {},
   "source": [
    "Finally, the model is a good fit as the test accuracy is slightly lower than the train accuracy at 70.5%. The AUC score is 0.68 with f1-score of 0.61 an 0.76 for target variables 0 and 1 respectively."
   ]
  },
  {
   "cell_type": "code",
   "execution_count": 44,
   "metadata": {},
   "outputs": [
    {
     "data": {
      "image/png": "[encoded data removed]",
      "text/plain": [
       "<Figure size 576x576 with 2 Axes>"
      ]
     },
     "metadata": {},
     "output_type": "display_data"
    }
   ],
   "source": [
    "# Visualize confusion matric\n",
    "fig, ax = plt.subplots(figsize=(8, 8))\n",
    "plot_confusion_matrix(grid_clf, X_best_test, y_test,\n",
    "                      cmap=plt.cm.PuBuGn, ax=ax)\n",
    "ax.set_title('Confusion Matrix: XGBoost Tuned', fontsize=18, pad=10)\n",
    "ax.set_xlabel('Predicted Labels', fontsize=15)\n",
    "ax.set_ylabel('True Labels', fontsize=15)\n",
    "\n",
    "plt.grid(False)\n",
    "plt.savefig(r'Graphs\\xbg_confmatx.png', bbox_inches='tight')\n",
    "plt.show();"
   ]
  },
  {
   "cell_type": "markdown",
   "metadata": {},
   "source": [
    "### Conclusion"
   ]
  },
  {
   "cell_type": "markdown",
   "metadata": {},
   "source": [
    "We can conclude our final M/L classifer to be the tuned XGBoost model. Looking at the results, we can derive the following conclusions:\n",
    "\n",
    "* The model has an overall accuracy of 71% and an AUC of 0.68.\n",
    "\n",
    "\n",
    "* **Precision** gives us the number of times the model was able to correctly classify each category without the penalty of it being incorrect. Both 'Unintenational' and 'Intentional' catergories were classified about 70% of the time correctly.\n",
    "\n",
    "\n",
    "* **Recall** gives us the exact percentage of each category that the model was able to capture. For '0' or 'Unintentional', the model was only able to only categorize 54% of those present in our data. While for '1' or 'Intenational', the model was able to categorize about 76% of those present in our data. \n",
    "\n",
    "\n",
    "* **F1-Score** is the harmonic mean between Precision and Recall. It is a better measure for model accuracy since it incorporates both precision and recall scores. In our final model, we have a f1-score of 0.61 and 0.76 for each of our categories respectively. We can use this as a final measure of our model's performance. From the difference, we can also infer that there might be some class imbalances between the two categories."
   ]
  }
 ],
 "metadata": {
  "kernelspec": {
   "display_name": "Python 3",
   "language": "python",
   "name": "python3"
  },
  "language_info": {
   "codemirror_mode": {
    "name": "ipython",
    "version": 3
   },
   "file_extension": ".py",
   "mimetype": "text/x-python",
   "name": "python",
   "nbconvert_exporter": "python",
   "pygments_lexer": "ipython3",
   "version": "3.8.5"
  }
 },
 "nbformat": 4,
 "nbformat_minor": 2
}
